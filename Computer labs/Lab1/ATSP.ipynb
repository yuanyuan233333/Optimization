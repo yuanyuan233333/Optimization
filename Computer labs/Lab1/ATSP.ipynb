{
  "cells": [
    {
      "cell_type": "code",
      "execution_count": 1,
      "metadata": {
        "colab": {
          "base_uri": "https://localhost:8080/"
        },
        "id": "xX7VBY9_9G1k",
        "outputId": "085a664c-5474-4604-ce21-4955d44b229b"
      },
      "outputs": [
        {
          "output_type": "stream",
          "name": "stdout",
          "text": [
            "Looking in indexes: https://pypi.org/simple, https://us-python.pkg.dev/colab-wheels/public/simple/\n",
            "Collecting mip\n",
            "  Downloading mip-1.15.0-py3-none-any.whl (15.3 MB)\n",
            "\u001b[2K     \u001b[90m━━━━━━━━━━━━━━━━━━━━━━━━━━━━━━━━━━━━━━━━\u001b[0m \u001b[32m15.3/15.3 MB\u001b[0m \u001b[31m5.7 MB/s\u001b[0m eta \u001b[36m0:00:00\u001b[0m\n",
            "\u001b[?25hRequirement already satisfied: cffi==1.15.* in /usr/local/lib/python3.8/dist-packages (from mip) (1.15.1)\n",
            "Requirement already satisfied: pycparser in /usr/local/lib/python3.8/dist-packages (from cffi==1.15.*->mip) (2.21)\n",
            "Installing collected packages: mip\n",
            "Successfully installed mip-1.15.0\n"
          ]
        }
      ],
      "source": [
        "# When using Colab, make sure you run this instruction beforehand\n",
        "!pip install mip"
      ]
    },
    {
      "cell_type": "markdown",
      "source": [
        "1) **Strength of the ILP formulation with cut-set inequalities.**\n",
        "\n",
        "Let $G = (V,A)$ be a complete directed graph, with a cost $c_{ij} \\in \\mathbb{R}$ for each arc $(i, j) \\in A$.\n",
        "Consider the following Integer Linear Programming formulation (Dantzig, Fulkerson, Johnson,\n",
        "1959) for the ATSP:\n",
        "\n",
        "\n",
        "\n",
        "\\begin{array}{lll}\n",
        "  (DFJ) &  \\min & \\sum\\limits_{(i,j) \\in A} c_{ij}x_{ij} \\qquad & (1) & \\\\\n",
        "  & \\textrm{s.t.} &  & \\\\\n",
        "  & \\sum\\limits_{j\\in V: j \\neq i } x_{ij} = 1 &  i \\in V & (2) &\\\\\n",
        "  & \\sum\\limits_{i\\in V: j \\neq i } x_{ij} = 1 &  j \\in V & (3) &\\\\\n",
        "  & \\sum\\limits_{(i,j) \\in \\delta^+(S) } x_{ij} \\geq 1 &  S \\subset V, |S|>1 & (4) &\\\\\n",
        "  & x_{ij} \\in \\{0,1\\} &  (i,j) \\in A &  (5)&\\\\\n",
        "\\end{array}\n",
        "\n",
        "where the constraints (4) are the $\\textit{cut-set inequalities}$, and its linear relaxation:\n",
        "\n",
        "\n",
        "\\begin{array}{lll}\n",
        "  (DFJ^0) &  \\min & \\sum\\limits_{(i,j) \\in A} c_{ij}x_{ij} \\qquad & (6) & \\\\\n",
        "  & \\textrm{s.t.} &  & \\\\\n",
        "  & \\sum\\limits_{j\\in V: j \\neq i } x_{ij} = 1 &  i \\in V & (7) &\\\\\n",
        "  & \\sum\\limits_{i\\in V: j \\neq i } x_{ij} = 1 &  j \\in V & (8) &\\\\\n",
        "  & \\sum\\limits_{(i,j) \\in \\delta^+(S) } x_{ij} \\geq 1 &  S \\subset V, |S|>1 & (9) &\\\\\n",
        "  & x_{ij} \\geq 0 &  (i,j) \\in A & (10) &\\\\\n",
        "\\end{array}\n",
        "\n",
        "a) Write in Python the original formulation $(DFJ)$ and its linear relaxation $(DFJ^0)$."
      ],
      "metadata": {
        "id": "yf97Sn7Ht1yX"
      }
    },
    {
      "cell_type": "code",
      "source": [
        "import mip\n",
        "import string\n",
        "import ast\n",
        "import pandas as pd # to handle the data of the problem\n",
        "from itertools import chain, combinations # for the computation of the powerset\n",
        "from mip import BINARY\n",
        "import numpy as np"
      ],
      "metadata": {
        "id": "ae1leS11M6W8"
      },
      "execution_count": 2,
      "outputs": []
    },
    {
      "cell_type": "code",
      "source": [
        "def powerset(iterable):\n",
        "    \"powerset([1,2,3]) --> () (1,) (2,) (3,) (1,2) (1,3) (2,3) (1,2,3)\"\n",
        "    s = list(iterable)\n",
        "    return chain.from_iterable(combinations(s, r) for r in range(1,len(s)+1))"
      ],
      "metadata": {
        "id": "4MvFJdttyVux"
      },
      "execution_count": 3,
      "outputs": []
    },
    {
      "cell_type": "code",
      "source": [
        "# SET DEFINITION\n",
        "\n",
        "# Set of nodes\n",
        "g = pd.read_csv('V.csv',sep=';')\n",
        "V = list(g['index'])\n",
        "\n",
        "# Cardinality of set V\n",
        "n = len(V)\n",
        "\n",
        "\n",
        "# PARAMETER DEFINITION\n",
        "\n",
        "# Cost of each edge\n",
        "temp_c = pd.read_csv('c.csv',sep=';')\n",
        "temp_c['index'] = temp_c['index'].apply(ast.literal_eval)\n",
        "temp_c.set_index('index', inplace = True)\n",
        "c = temp_c.to_dict()['c']\n",
        "\n",
        "# Auxiliary set A\n",
        "\n",
        "A = list(c.keys())\n",
        "\n",
        "S = list(powerset(V))"
      ],
      "metadata": {
        "id": "-3JfobxZ1Njg"
      },
      "execution_count": 35,
      "outputs": []
    },
    {
      "cell_type": "code",
      "source": [
        "# Model\n",
        "model = "
      ],
      "metadata": {
        "id": "o50peGYY1TGR"
      },
      "execution_count": 36,
      "outputs": []
    },
    {
      "cell_type": "code",
      "source": [
        "# Variables definition\n",
        "x = "
      ],
      "metadata": {
        "id": "WQdiokW91VEt"
      },
      "execution_count": 37,
      "outputs": []
    },
    {
      "cell_type": "code",
      "source": [
        "# Objective definition\n",
        "model.objective = "
      ],
      "metadata": {
        "id": "Dhgg_znE1XOu"
      },
      "execution_count": 38,
      "outputs": []
    },
    {
      "cell_type": "code",
      "source": [
        "# Degree in constraints\n",
        "\n",
        "\n",
        "# Degree out constraints\n",
        "\n",
        "\n",
        "# Cutset constraints\n"
      ],
      "metadata": {
        "id": "bFqSFip31aNY"
      },
      "execution_count": 39,
      "outputs": []
    },
    {
      "cell_type": "code",
      "source": [
        "# optimizing\n",
        "model.optimize(relax= True)"
      ],
      "metadata": {
        "colab": {
          "base_uri": "https://localhost:8080/"
        },
        "id": "vUsV2_bx2HpE",
        "outputId": "26a7ee1c-a38d-47e5-f09b-3c9d84dd6196"
      },
      "execution_count": 40,
      "outputs": [
        {
          "output_type": "execute_result",
          "data": {
            "text/plain": [
              "<OptimizationStatus.OPTIMAL: 0>"
            ]
          },
          "metadata": {},
          "execution_count": 40
        }
      ]
    },
    {
      "cell_type": "code",
      "source": [
        "model.objective.x"
      ],
      "metadata": {
        "colab": {
          "base_uri": "https://localhost:8080/"
        },
        "id": "z2fFn8ed2e--",
        "outputId": "1652832a-89f2-415f-9c55-07b8790b6a88"
      },
      "execution_count": 41,
      "outputs": [
        {
          "output_type": "execute_result",
          "data": {
            "text/plain": [
              "137.0"
            ]
          },
          "metadata": {},
          "execution_count": 41
        }
      ]
    },
    {
      "cell_type": "code",
      "source": [
        "# Print the optimal solution\n",
        "\n",
        "def representation(model,n):\n",
        "  result = np.zeros((n,n))\n",
        "  for i in model.vars:\n",
        "    if len(i.name)>1:\n",
        "      result[string.ascii_lowercase.index(i.name[0]),string.ascii_lowercase.index(i.name[1])] = i.x\n",
        "  data = pd.DataFrame(result)\n",
        "  data.columns = V\n",
        "  data.index = V\n",
        "  return data\n",
        "\n",
        "print(representation(model,n))"
      ],
      "metadata": {
        "colab": {
          "base_uri": "https://localhost:8080/"
        },
        "id": "BgddIIid3OvH",
        "outputId": "4b63fddb-7ba0-42a6-9302-d88ccc2f14d3"
      },
      "execution_count": 42,
      "outputs": [
        {
          "output_type": "stream",
          "name": "stdout",
          "text": [
            "     a    b    c    d    e    f\n",
            "a  0.0  0.0  0.0  0.0  0.0  1.0\n",
            "b  0.0  0.0  1.0  0.0  0.0  0.0\n",
            "c  1.0  0.0  0.0  0.0  0.0  0.0\n",
            "d  0.0  1.0  0.0  0.0  0.0  0.0\n",
            "e  0.0  0.0  0.0  1.0  0.0  0.0\n",
            "f  0.0  0.0  0.0  0.0  1.0  0.0\n"
          ]
        }
      ]
    },
    {
      "cell_type": "markdown",
      "source": [
        "b) Compare the optimal solutions of $(DFJ)$ and $(DFJ^0)$. What do you observe?"
      ],
      "metadata": {
        "id": "efNmqsQT26Ai"
      }
    },
    {
      "cell_type": "markdown",
      "source": [
        "2) **Compact extended ILP formulation.**\n",
        "\n",
        "Consider the partial ILP formulation for the ATSP with only the assignment constraints:\n",
        "\n",
        "\\begin{array}{lll}\n",
        "   &  \\min & \\sum\\limits_{(i,j) \\in A} c_{ij}x_{ij} \\qquad & (11) & \\\\\n",
        "  & \\textrm{s.t.} &  & \\\\\n",
        "  & \\sum\\limits_{j\\in V: j \\neq i } x_{ij} = 1 &  i \\in V & (12) &\\\\\n",
        "  & \\sum\\limits_{i\\in V: j \\neq i } x_{ij} = 1 &  j \\in V & (13) &\\\\\n",
        "  & x_{ij} \\in \\{0,1\\} &  (i,j) \\in A & (10) &\\\\\n",
        "\\end{array}\n",
        "\n",
        "c) Starting from the partial formulation (11)-(14), propose a compact extended formulation for ATSP. Hint: add, for each $i \\in V$, an integer variable $t_i$ representing the \"position\" in\n",
        "which node $i$ is visited in the tour, and an appropriate set of constraints used to prevent all possible subtours."
      ],
      "metadata": {
        "id": "arGsex0c3MZv"
      }
    },
    {
      "cell_type": "markdown",
      "source": [
        "\n",
        "d) Explain why such additional constraints exclude any subtour.\n",
        "\n",
        "\n",
        "If a solution of (15)-(22) contained multiple subtours, then at least one of them would not contain node 1. If such a subtour, say $C$, contains $l$ arcs, summing the constraints (20) associated to these arcs we would obtain\n",
        "$\\sum\\limits_{i \\in C} t_i \\geq \\sum\\limits_{i \\in C} t_i + 1$\n",
        "which is a contradiction.\n"
      ],
      "metadata": {
        "id": "ao25m_-73m36"
      }
    },
    {
      "cell_type": "markdown",
      "source": [
        "e) Is the integrality of variables $t_i$ required?"
      ],
      "metadata": {
        "id": "WedWtmaL4L61"
      }
    },
    {
      "cell_type": "markdown",
      "source": [
        "g) Compare the linear relaxation bound obtained with $(MTZ^0)$ with that obtained with\n",
        "formulation $(DFJ^0)$. What do you observe?"
      ],
      "metadata": {
        "id": "44r8oCFx5Agx"
      }
    },
    {
      "cell_type": "code",
      "source": [
        "# SET DEFINITION\n",
        "\n",
        "# Set of nodes\n",
        "g = pd.read_csv('V.csv',sep=';')\n",
        "V = list(g['index'])\n",
        "\n",
        "# Cardinality of set V\n",
        "n = len(V)\n",
        "\n",
        "\n",
        "# PARAMETER DEFINITION\n",
        "\n",
        "# Cost of each edge\n",
        "temp_c = pd.read_csv('c.csv',sep=';')\n",
        "temp_c['index'] = temp_c['index'].apply(ast.literal_eval)\n",
        "temp_c.set_index('index', inplace = True)\n",
        "c = temp_c.to_dict()['c']\n",
        "\n",
        "# Auxiliary set A\n",
        "\n",
        "A = list(c.keys())\n",
        "\n",
        "first_V = V[0]\n"
      ],
      "metadata": {
        "id": "-PFHNXPQM7Aa"
      },
      "execution_count": 19,
      "outputs": []
    },
    {
      "cell_type": "code",
      "source": [
        "model1 ="
      ],
      "metadata": {
        "id": "4v-gp-9YNb6f"
      },
      "execution_count": 27,
      "outputs": []
    },
    {
      "cell_type": "code",
      "source": [
        "x =  \n",
        "t =  "
      ],
      "metadata": {
        "id": "Ke4KsDW5QFZG"
      },
      "execution_count": 28,
      "outputs": []
    },
    {
      "cell_type": "code",
      "source": [
        "model1.objective =  "
      ],
      "metadata": {
        "id": "BlgDqs3OThta"
      },
      "execution_count": 29,
      "outputs": []
    },
    {
      "cell_type": "code",
      "source": [
        "# Degree in constraints\n",
        " \n",
        "\n",
        "# Degree out constraints\n",
        " \n",
        "\n",
        "# first node position\n",
        " \n",
        "\n",
        "# Node position\n",
        " \n",
        "\n",
        "# Tour position\n",
        " "
      ],
      "metadata": {
        "id": "Z19OSS9AT4Cc"
      },
      "execution_count": 30,
      "outputs": []
    },
    {
      "cell_type": "code",
      "source": [
        "# optimizing\n",
        "model1.optimize(relax= True)"
      ],
      "metadata": {
        "id": "MsSWtcsiVhEs"
      },
      "execution_count": null,
      "outputs": []
    },
    {
      "cell_type": "code",
      "source": [
        "model1.objective.x"
      ],
      "metadata": {
        "colab": {
          "base_uri": "https://localhost:8080/"
        },
        "id": "B0l18EDOWw9F",
        "outputId": "cd2189f6-462f-40fd-f704-9d75dd413c98"
      },
      "execution_count": 32,
      "outputs": [
        {
          "output_type": "execute_result",
          "data": {
            "text/plain": [
              "20.2"
            ]
          },
          "metadata": {},
          "execution_count": 32
        }
      ]
    },
    {
      "cell_type": "code",
      "source": [
        "# Print the optimal solution\n",
        "\n",
        "def representation(model,n):\n",
        "  result = np.zeros((n,n))\n",
        "  for i in model.vars:\n",
        "    if len(i.name)>1:\n",
        "      result[string.ascii_lowercase.index(i.name[0]),string.ascii_lowercase.index(i.name[1])] = i.x\n",
        "  data = pd.DataFrame(result)\n",
        "  data.columns = V\n",
        "  data.index = V\n",
        "  return data\n",
        "\n",
        "print(representation(model1,n))"
      ],
      "metadata": {
        "colab": {
          "base_uri": "https://localhost:8080/"
        },
        "id": "mgiRxJ7HZgHz",
        "outputId": "e82cca72-ed36-4fbd-9bc9-ef02ec81dda7"
      },
      "execution_count": 34,
      "outputs": [
        {
          "output_type": "stream",
          "name": "stdout",
          "text": [
            "     a    b    c    d    e    f\n",
            "a  0.0  0.0  1.0  0.0  0.0  0.0\n",
            "b  1.0  0.0  0.0  0.0  0.0  0.0\n",
            "c  0.0  1.0  0.0  0.0  0.0  0.0\n",
            "d  0.0  0.0  0.0  0.0  0.2  0.8\n",
            "e  0.0  0.0  0.0  0.8  0.0  0.2\n",
            "f  0.0  0.0  0.0  0.2  0.8  0.0\n"
          ]
        }
      ]
    }
  ],
  "metadata": {
    "colab": {
      "provenance": []
    },
    "kernelspec": {
      "display_name": "Python 3",
      "language": "python",
      "name": "python3"
    },
    "language_info": {
      "codemirror_mode": {
        "name": "ipython",
        "version": 3
      },
      "file_extension": ".py",
      "mimetype": "text/x-python",
      "name": "python",
      "nbconvert_exporter": "python",
      "pygments_lexer": "ipython3",
      "version": "3.6.8"
    }
  },
  "nbformat": 4,
  "nbformat_minor": 0
}