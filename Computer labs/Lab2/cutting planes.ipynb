{
 "cells": [
  {
   "cell_type": "markdown",
   "metadata": {
    "id": "ZGZp0TCUQXe4"
   },
   "source": [
    "**Generalized assignment problem: cutting planes generation and branch-and-cut**\n",
    "\n",
    "\n",
    "A research institute has to execute a set of $I$ processes on a set of $J$ servers\n",
    "of a distributed cluster run by an external service provider. \n",
    "The provider charges a cost $c_{ij}$ to execute the process $i \\in I$ on the server $j \\in J$. \n",
    "Once started, processes cannot moved to a different server. We assume\n",
    "that all the processes have to run in parallel. For that reason, given the memory requirement\n",
    "$w_{ij}$ in GB of a process $i \\in I$ on the server $j \\in J$, the total\n",
    "memory consumption must not exceed the memory capacity $b_j$ of machine $j\\in J$.\n",
    "The goal is to minimize the total cost of running the given processes on the servers.\n",
    "\n",
    "The addressed problem is known in the literature as the $\\textit{generalized assignment problem}$ and it is formulated as follows \n",
    "\n",
    "\\begin{eqnarray}\n",
    "\\min         & \\sum_{i \\in I, j \\in J} c_{ij} x_{ij} \\\\\n",
    "{\\mbox s.t.} & \\sum_{j \\in J} x_{ij} = 1        \\quad & i \\in I\\\\\n",
    "& \\sum_{i \\in I} w_{ij} x_{ij} \\leq b_j \\quad & j \\in J\\label{1}\\\\\n",
    "             & x_{ij} \\in \\{0,1\\}                \\quad & i \\in I, j \\in J.\n",
    "\\end{eqnarray}"
   ]
  },
  {
   "cell_type": "markdown",
   "metadata": {
    "id": "h1cK3N8vpVYl"
   },
   "source": [
    "**1.   Solve the model with MIP in Python.**"
   ]
  },
  {
   "cell_type": "code",
   "execution_count": 1,
   "metadata": {
    "colab": {
     "base_uri": "https://localhost:8080/"
    },
    "id": "AZ2Yq9CCQVcb",
    "outputId": "19e20ae3-18e6-4c82-f37a-5c3a4ff85435"
   },
   "outputs": [
    {
     "name": "stdout",
     "output_type": "stream",
     "text": [
      "Looking in indexes: https://pypi.org/simple, https://us-python.pkg.dev/colab-wheels/public/simple/\n",
      "Collecting mip\n",
      "  Downloading mip-1.15.0-py3-none-any.whl (15.3 MB)\n",
      "\u001b[2K     \u001b[90m━━━━━━━━━━━━━━━━━━━━━━━━━━━━━━━━━━━━━━━━\u001b[0m \u001b[32m15.3/15.3 MB\u001b[0m \u001b[31m81.7 MB/s\u001b[0m eta \u001b[36m0:00:00\u001b[0m\n",
      "\u001b[?25hRequirement already satisfied: cffi==1.15.* in /usr/local/lib/python3.9/dist-packages (from mip) (1.15.1)\n",
      "Requirement already satisfied: pycparser in /usr/local/lib/python3.9/dist-packages (from cffi==1.15.*->mip) (2.21)\n",
      "Installing collected packages: mip\n",
      "Successfully installed mip-1.15.0\n"
     ]
    }
   ],
   "source": [
    "# When using Colab, make sure you run this instruction beforehand\n",
    "!pip install mip"
   ]
  },
  {
   "cell_type": "code",
   "execution_count": 2,
   "metadata": {
    "id": "zSO1p-EY2l6r"
   },
   "outputs": [],
   "source": [
    "import mip\n",
    "import pandas as pd # to handle the data of the problem\n",
    "from mip import BINARY\n",
    "import numpy as np\n",
    "import time"
   ]
  },
  {
   "cell_type": "code",
   "execution_count": null,
   "metadata": {
    "id": "Vx4LvEFX3hlj"
   },
   "outputs": [],
   "source": [
    "# SET AND PARAMETER DEFINITION\n",
    "\n",
    "m = 10\n",
    "\n",
    "I = range(m)\n",
    "\n",
    "n = 5\n",
    "\n",
    "J = range(n)\n",
    "\n",
    "c = pd.read_csv('c.csv',sep=';').values\n",
    "\n",
    "w = pd.read_csv('w.csv',sep=';').values\n",
    "\n",
    "b = pd.read_csv('b.csv',sep=';').values.flatten()"
   ]
  },
  {
   "cell_type": "code",
   "execution_count": null,
   "metadata": {
    "id": "ve6ezh7o4gi6"
   },
   "outputs": [],
   "source": [
    "model = mip.Model()\n",
    "\n",
    "x = \n",
    "\n",
    "model.objective = \n",
    "\n",
    "# CONSTRAINT\n",
    "# Assignment\n",
    "\n",
    "\n",
    "# Knapsack\n"
   ]
  },
  {
   "cell_type": "code",
   "execution_count": null,
   "metadata": {
    "colab": {
     "base_uri": "https://localhost:8080/"
    },
    "id": "FBsINnp25MQo",
    "outputId": "2046e09e-285c-460d-fbc8-478b01e67889"
   },
   "outputs": [
    {
     "data": {
      "text/plain": [
       "<OptimizationStatus.OPTIMAL: 0>"
      ]
     },
     "execution_count": 8,
     "metadata": {},
     "output_type": "execute_result"
    }
   ],
   "source": [
    "# optimizing\n",
    "model.optimize(relax=True)"
   ]
  },
  {
   "cell_type": "code",
   "execution_count": null,
   "metadata": {
    "colab": {
     "base_uri": "https://localhost:8080/"
    },
    "id": "vcsTGwup5aDZ",
    "outputId": "242942b6-f002-487e-bb85-a75de7106530"
   },
   "outputs": [
    {
     "data": {
      "text/plain": [
       "410.02602354072945"
      ]
     },
     "execution_count": 9,
     "metadata": {},
     "output_type": "execute_result"
    }
   ],
   "source": [
    "model.objective.x"
   ]
  },
  {
   "cell_type": "code",
   "execution_count": null,
   "metadata": {
    "colab": {
     "base_uri": "https://localhost:8080/"
    },
    "id": "opkptEG36UZw",
    "outputId": "5c5d021f-5c0c-4166-94ba-c7f615cd613d"
   },
   "outputs": [
    {
     "data": {
      "text/plain": [
       "array([[0.        , 0.        , 1.        , 0.        , 0.        ],\n",
       "       [0.        , 0.        , 0.34090909, 0.65909091, 0.        ],\n",
       "       [0.        , 0.        , 1.        , 0.        , 0.        ],\n",
       "       [0.        , 0.        , 0.        , 0.        , 1.        ],\n",
       "       [0.        , 0.76470588, 0.        , 0.23529412, 0.        ],\n",
       "       [1.        , 0.        , 0.        , 0.        , 0.        ],\n",
       "       [0.59183673, 0.        , 0.        , 0.        , 0.40816327],\n",
       "       [0.36328976, 0.        , 0.        , 0.63671024, 0.        ],\n",
       "       [0.        , 1.        , 0.        , 0.        , 0.        ],\n",
       "       [0.        , 0.        , 0.        , 0.        , 1.        ]])"
      ]
     },
     "execution_count": 10,
     "metadata": {},
     "output_type": "execute_result"
    }
   ],
   "source": [
    "sol = np.zeros((m,n))\n",
    "\n",
    "for i in I:\n",
    "  for j in J:\n",
    "    sol[i,j] = x[i][j].x\n",
    "\n",
    "sol"
   ]
  },
  {
   "cell_type": "markdown",
   "metadata": {
    "id": "yashZRL0phrM"
   },
   "source": [
    "**2.   Propose a set of valid inequalities to strengthen this initial formulation.**"
   ]
  },
  {
   "cell_type": "markdown",
   "metadata": {
    "id": "eFO01wMcpoS-"
   },
   "source": []
  },
  {
   "cell_type": "markdown",
   "metadata": {
    "id": "3EkvSn-_qOez"
   },
   "source": [
    "**3.   Describe the separation problem for such valid inequalities**"
   ]
  },
  {
   "cell_type": "markdown",
   "metadata": {
    "id": "FMzKKXFDqEvC"
   },
   "source": []
  },
  {
   "cell_type": "markdown",
   "metadata": {
    "id": "PMt3CyErwH9E"
   },
   "source": [
    "**4.   Implement a cutting plane algorithm to solve the linear relaxation of the problem with the proposed set of valid inequalities. How does the bound change?**"
   ]
  },
  {
   "cell_type": "code",
   "execution_count": null,
   "metadata": {
    "id": "H_vOac0M7JEH"
   },
   "outputs": [],
   "source": [
    "model = mip.Model()\n",
    "\n",
    "# Number of added constraints\n",
    "nc = 0\n",
    "\n",
    "# List with cuts\n",
    "CUTS = []\n",
    "\n",
    "# List of covers\n",
    "C = []\n",
    "\n",
    "# List of the violating constraints\n",
    "J_bar = []\n",
    "\n",
    "# PRIMAL MODEL DEFINITION\n",
    "# Variables\n",
    "\n",
    "# Model objective\n",
    "\n",
    "\n",
    "# Constraints\n",
    "# Assignment\n",
    "\n",
    "\n",
    "# Knapsack\n",
    "\n",
    "\n",
    "\n",
    "\n",
    "newConstraints = True\n",
    "# Loop until you find a constraint\n",
    "while newConstraints:\n",
    "    model.optimize(relax=True)\n",
    "\n",
    "    for j in J:\n",
    "        \n",
    "      j_bar = j\n",
    "      x_star = [x[i][j].x if x[i][j].x <= 1 else 1.0 for i in I]\n",
    "      \n",
    "      newConstraints = False\n",
    "        \n",
    "      # SEPARATION MODEL DEFINITION\n",
    "      separation =\n",
    "      # Variables\n",
    "      \n",
    "      # Model objective\n",
    "      \n",
    "      # Constraints\n",
    "      \n",
    "      # Solving\n",
    "      \n",
    "\n",
    "\n",
    "      violation = separation.objective.x\n",
    "      \n",
    "      if violation > 0.1: # threshold of violation = 0.1\n",
    "        # update the lists\n",
    "        \n",
    "        newConstraints = True\n",
    "        \n",
    "        break\n",
    "    #add the cut to the constraints of the primal problem \n",
    "    for k in CUTS:\n",
    "      model.add_constr() \n"
   ]
  },
  {
   "cell_type": "code",
   "execution_count": null,
   "metadata": {
    "colab": {
     "base_uri": "https://localhost:8080/"
    },
    "id": "xaPHAgWkNhNG",
    "outputId": "e4d984e4-e81f-4fff-9f33-8834623dc25e"
   },
   "outputs": [
    {
     "name": "stdout",
     "output_type": "stream",
     "text": [
      "Set C:\n",
      "[[5, 6], [5, 7], [4, 8], [0, 8], [1, 2], [2, 5, 9], [1, 6], [4, 7], [0, 4], [2, 7], [6, 9], [1, 7], [2, 3, 6]]\n",
      "J bar:\n",
      "[0, 0, 1, 1, 2, 0, 2, 3, 1, 2, 4, 3, 4]\n"
     ]
    }
   ],
   "source": [
    "print('Set C:')\n",
    "print(C)\n",
    "print('J bar:')\n",
    "print(J_bar)"
   ]
  },
  {
   "cell_type": "code",
   "execution_count": null,
   "metadata": {
    "colab": {
     "base_uri": "https://localhost:8080/"
    },
    "id": "ekwN4xejOp46",
    "outputId": "e7c34999-1265-4007-ebf4-962e3a3ec014"
   },
   "outputs": [
    {
     "data": {
      "text/plain": [
       "array([[0.        , 0.40626763, 0.59373237, 0.        , 0.        ],\n",
       "       [0.        , 0.        , 0.59373237, 0.40626763, 0.        ],\n",
       "       [0.22203708, 0.        , 0.40626763, 0.        , 0.37169529],\n",
       "       [0.        , 0.13956335, 0.        , 0.        , 0.86043665],\n",
       "       [0.        , 0.59373237, 0.        , 0.40626763, 0.        ],\n",
       "       [1.        , 0.        , 0.        , 0.        , 0.        ],\n",
       "       [0.        , 0.        , 0.07247057, 0.15966137, 0.76786806],\n",
       "       [0.        , 0.        , 0.40626763, 0.59373237, 0.        ],\n",
       "       [0.        , 0.40626763, 0.        , 0.        , 0.59373237],\n",
       "       [0.76786806, 0.        , 0.        , 0.        , 0.23213194]])"
      ]
     },
     "execution_count": 43,
     "metadata": {},
     "output_type": "execute_result"
    }
   ],
   "source": [
    "sol = np.zeros((m,n))\n",
    "\n",
    "for i in I:\n",
    "  for j in J:\n",
    "    sol[i,j] = x[i][j].x\n",
    "\n",
    "sol"
   ]
  },
  {
   "cell_type": "code",
   "execution_count": null,
   "metadata": {
    "colab": {
     "base_uri": "https://localhost:8080/"
    },
    "id": "Nb0nDYzuOwt6",
    "outputId": "acffb73f-75b1-482f-b6fb-11986b746c75"
   },
   "outputs": [
    {
     "data": {
      "text/plain": [
       "435.58167122148905"
      ]
     },
     "execution_count": 40,
     "metadata": {},
     "output_type": "execute_result"
    }
   ],
   "source": [
    "model.objective.x"
   ]
  },
  {
   "cell_type": "markdown",
   "metadata": {
    "id": "a3oEYA5FdgyM"
   },
   "source": [
    " **5. Solve the problem with the algorithm in MIP, observing the difference\n",
    "of the branch-and-bound nodes in the case where the cutting planes generation is enabled (default settings) or completely disabled.**"
   ]
  },
  {
   "cell_type": "code",
   "execution_count": 11,
   "metadata": {
    "colab": {
     "base_uri": "https://localhost:8080/"
    },
    "id": "yn8xrHAwgxd8",
    "outputId": "b9e10c61-7243-44ea-bbb1-3d879839c3bb"
   },
   "outputs": [
    {
     "name": "stdout",
     "output_type": "stream",
     "text": [
      "Welcome to the CBC MILP Solver \n",
      "Version: Trunk\n",
      "Build Date: Oct 24 2021 \n",
      "\n",
      "Starting solution of the Linear programming relaxation problem using Primal Simplex\n",
      "\n",
      "Coin0506I Presolve 15 (0) rows, 50 (0) columns and 100 (0) elements\n",
      "Clp1000I sum of infeasibilities 3.64086e-05 - average 2.42724e-06, 25 fixed columns\n",
      "Coin0506I Presolve 11 (-4) rows, 22 (-28) columns and 44 (-56) elements\n",
      "Clp0029I End of values pass after 22 iterations\n",
      "Clp0000I Optimal - objective value 410.02602\n",
      "Clp0000I Optimal - objective value 410.02602\n",
      "Coin0511I After Postsolve, objective 410.02602, infeasibilities - dual 0 (0), primal 0 (0)\n",
      "Clp0000I Optimal - objective value 410.02602\n",
      "Clp0000I Optimal - objective value 410.02602\n",
      "Clp0000I Optimal - objective value 410.02602\n",
      "Clp0032I Optimal objective 410.0260235 - 0 iterations time 0.002, Idiot 0.00\n",
      "\n",
      "Starting MIP optimization\n",
      "Coin3009W Conflict graph built in 0.000 seconds, density: 6.554%\n",
      "Cgl0015I Clique Strengthening extended 0 cliques, 0 were dominated\n",
      "Cbc0045I Nauty did not find any useful orbits in time 0.000136\n",
      "Cbc0038I Initial state - 8 integers unsatisfied sum - 2.69531\n",
      "Cbc0038I Pass   1: suminf.    1.46806 (7) obj. 423.841 iterations 4\n",
      "Cbc0038I Pass   2: suminf.    0.83534 (4) obj. 457.599 iterations 11\n",
      "Cbc0038I Pass   3: suminf.    0.83534 (4) obj. 457.599 iterations 0\n",
      "Cbc0038I Pass   4: suminf.    1.25907 (5) obj. 471.821 iterations 7\n",
      "Cbc0038I Pass   5: suminf.    0.33711 (5) obj. 457.518 iterations 7\n",
      "Cbc0038I Pass   6: suminf.    1.69095 (5) obj. 503.663 iterations 6\n",
      "Cbc0038I Pass   7: suminf.    1.11261 (5) obj. 498.169 iterations 3\n",
      "Cbc0038I Pass   8: suminf.    1.91399 (5) obj. 506.34 iterations 4\n",
      "Cbc0038I Pass   9: suminf.    2.48229 (8) obj. 502.095 iterations 7\n",
      "Cbc0038I Pass  10: suminf.    0.93976 (4) obj. 489.562 iterations 8\n",
      "Cbc0038I Pass  11: suminf.    1.00000 (4) obj. 482.961 iterations 3\n",
      "Cbc0038I Pass  12: suminf.    1.00000 (4) obj. 482.961 iterations 0\n",
      "Cbc0038I Pass  13: suminf.    1.00000 (4) obj. 482.952 iterations 3\n",
      "Cbc0038I Pass  14: suminf.    3.29289 (9) obj. 491.646 iterations 8\n",
      "Cbc0038I Pass  15: suminf.    1.74558 (7) obj. 448.366 iterations 4\n",
      "Cbc0038I Pass  16: suminf.    1.69846 (7) obj. 458.399 iterations 7\n",
      "Cbc0038I Pass  17: suminf.    1.34581 (7) obj. 459.7 iterations 2\n",
      "Cbc0038I Pass  18: suminf.    0.97155 (6) obj. 435.998 iterations 12\n",
      "Cbc0038I Pass  19: suminf.    0.90657 (6) obj. 435.049 iterations 4\n",
      "Cbc0038I Pass  20: suminf.    1.89957 (7) obj. 467.344 iterations 8\n",
      "Cbc0038I Pass  21: suminf.    1.89957 (7) obj. 467.344 iterations 0\n",
      "Cbc0038I Pass  22: suminf.    1.95374 (6) obj. 444.163 iterations 4\n",
      "Cbc0038I Pass  23: suminf.    2.47393 (9) obj. 531.874 iterations 9\n",
      "Cbc0038I Pass  24: suminf.    1.68336 (6) obj. 524.742 iterations 3\n",
      "Cbc0038I Pass  25: suminf.    1.52486 (6) obj. 499.148 iterations 9\n",
      "Cbc0038I Pass  26: suminf.    0.89957 (6) obj. 497.708 iterations 4\n",
      "Cbc0038I Pass  27: suminf.    2.34679 (7) obj. 477.114 iterations 8\n",
      "Cbc0038I Pass  28: suminf.    0.87379 (4) obj. 486.152 iterations 8\n",
      "Cbc0038I Pass  29: suminf.    1.90722 (6) obj. 490.758 iterations 8\n",
      "Cbc0038I Pass  30: suminf.    0.66771 (5) obj. 476.758 iterations 4\n",
      "Cbc0038I No solution found this major pass\n",
      "Cbc0038I Before mini branch and bound, 18 integers at bound fixed and 0 continuous\n",
      "Cbc0038I Full problem 15 rows 50 columns, reduced to 12 rows 27 columns\n",
      "Cbc0038I Mini branch and bound improved solution from 1.79769e+308 to 479 (0.00 seconds)\n",
      "Cbc0038I Round again with cutoff of 471.203\n",
      "Cbc0038I Reduced cost fixing fixed 5 variables on major pass 2\n",
      "Cbc0038I Pass  30: suminf.    1.46806 (7) obj. 423.841 iterations 0\n",
      "Cbc0038I Pass  31: suminf.    0.83534 (4) obj. 457.599 iterations 11\n",
      "Cbc0038I Pass  32: suminf.    0.83534 (4) obj. 457.599 iterations 0\n",
      "Cbc0038I Pass  33: suminf.    1.22567 (5) obj. 471.203 iterations 8\n",
      "Cbc0038I Pass  34: suminf.    0.33711 (5) obj. 457.518 iterations 7\n",
      "Cbc0038I Pass  35: suminf.    1.03570 (6) obj. 471.203 iterations 5\n",
      "Cbc0038I Pass  36: suminf.    0.36137 (8) obj. 471.203 iterations 10\n",
      "Cbc0038I Pass  37: suminf.    0.10667 (3) obj. 470.316 iterations 8\n",
      "Cbc0038I Pass  38: suminf.    0.16536 (3) obj. 470.844 iterations 4\n",
      "Cbc0038I Pass  39: suminf.    0.31560 (8) obj. 471.203 iterations 5\n",
      "Cbc0038I Pass  40: suminf.    0.91804 (8) obj. 471.203 iterations 7\n",
      "Cbc0038I Pass  41: suminf.    1.93976 (6) obj. 455.914 iterations 11\n",
      "Cbc0038I Pass  42: suminf.    1.00000 (5) obj. 459.856 iterations 2\n",
      "Cbc0038I Pass  43: suminf.    0.93976 (3) obj. 463.951 iterations 6\n",
      "Cbc0038I Pass  44: suminf.    0.93976 (4) obj. 457.376 iterations 5\n",
      "Cbc0038I Pass  45: suminf.    1.00000 (5) obj. 459.856 iterations 2\n",
      "Cbc0038I Pass  46: suminf.    1.07700 (6) obj. 468.733 iterations 6\n",
      "Cbc0038I Pass  47: suminf.    1.50148 (6) obj. 471.203 iterations 10\n",
      "Cbc0038I Pass  48: suminf.    2.51651 (10) obj. 471.203 iterations 7\n",
      "Cbc0038I Pass  49: suminf.    1.28480 (4) obj. 465.695 iterations 6\n",
      "Cbc0038I Pass  50: suminf.    0.99918 (4) obj. 456.359 iterations 6\n",
      "Cbc0038I Pass  51: suminf.    0.29630 (4) obj. 441.95 iterations 4\n",
      "Cbc0038I Pass  52: suminf.    0.99918 (4) obj. 456.359 iterations 3\n",
      "Cbc0038I Pass  53: suminf.    2.08969 (7) obj. 471.203 iterations 8\n",
      "Cbc0038I Pass  54: suminf.    1.12791 (5) obj. 462.988 iterations 4\n",
      "Cbc0038I Pass  55: suminf.    1.47059 (6) obj. 451.793 iterations 5\n",
      "Cbc0038I Pass  56: suminf.    1.47059 (6) obj. 451.793 iterations 0\n",
      "Cbc0038I Pass  57: suminf.    1.00000 (3) obj. 465.438 iterations 5\n",
      "Cbc0038I Pass  58: suminf.    1.00000 (4) obj. 468.616 iterations 3\n",
      "Cbc0038I Pass  59: suminf.    2.61468 (8) obj. 471.203 iterations 10\n",
      "Cbc0038I No solution found this major pass\n",
      "Cbc0038I Before mini branch and bound, 15 integers at bound fixed and 0 continuous\n",
      "Cbc0038I Full problem 15 rows 50 columns, reduced to 13 rows 33 columns\n",
      "Cbc0038I Mini branch and bound did not improve solution (0.01 seconds)\n",
      "Cbc0038I After 0.01 seconds - Feasibility pump exiting with objective of 479 - took 0.01 seconds\n",
      "Cbc0012I Integer solution of 479 found by feasibility pump after 0 iterations and 0 nodes (0.01 seconds)\n",
      "Cbc0038I Full problem 15 rows 50 columns, reduced to 3 rows 5 columns\n",
      "Cbc0006I The LP relaxation is infeasible or too expensive\n",
      "Cbc0031I 4 added rows had average density of 7.25\n",
      "Cbc0013I At root node, 8 cuts changed objective from 410.02602 to 478.65714 in 2 passes\n",
      "Cbc0014I Cut generator 0 (Probing) - 29 row cuts average 4.5 elements, 6 column cuts (6 active)  in 0.000 seconds - new frequency is 1\n",
      "Cbc0014I Cut generator 1 (Gomory) - 4 row cuts average 16.2 elements, 0 column cuts (0 active)  in 0.000 seconds - new frequency is 1\n",
      "Cbc0014I Cut generator 2 (Knapsack) - 6 row cuts average 5.8 elements, 0 column cuts (0 active)  in 0.000 seconds - new frequency is 1\n",
      "Cbc0014I Cut generator 3 (Clique) - 4 row cuts average 7.0 elements, 0 column cuts (0 active)  in 0.000 seconds - new frequency is 1\n",
      "Cbc0014I Cut generator 4 (OddWheel) - 0 row cuts average 0.0 elements, 0 column cuts (0 active)  in 0.000 seconds - new frequency is -100\n",
      "Cbc0014I Cut generator 5 (MixedIntegerRounding2) - 0 row cuts average 0.0 elements, 0 column cuts (0 active)  in 0.000 seconds - new frequency is -100\n",
      "Cbc0014I Cut generator 6 (FlowCover) - 0 row cuts average 0.0 elements, 0 column cuts (0 active)  in 0.000 seconds - new frequency is -100\n",
      "Cbc0014I Cut generator 7 (TwoMirCuts) - 20 row cuts average 13.6 elements, 0 column cuts (0 active)  in 0.000 seconds - new frequency is -100\n",
      "Cbc0014I Cut generator 8 (ZeroHalf) - 3 row cuts average 10.0 elements, 0 column cuts (0 active)  in 0.000 seconds - new frequency is 1\n",
      "Cbc0001I Search completed - best objective 479, took 21 iterations and 0 nodes (0.02 seconds)\n",
      "Cbc0035I Maximum depth 0, 17 variables fixed on reduced cost\n",
      "Total time (CPU seconds):       0.01   (Wallclock seconds):       0.02\n",
      "\n"
     ]
    }
   ],
   "source": [
    "# optimizing\n",
    "%%python\n",
    "\n",
    "import mip\n",
    "\n",
    "import pandas as pd\n",
    "\n",
    "# SET AND PARAMETER DEFINITION\n",
    "\n",
    "m = 10\n",
    "\n",
    "I = range(m)\n",
    "\n",
    "n = 5\n",
    "\n",
    "J = range(n)\n",
    "\n",
    "c = pd.read_csv('c.csv',sep=';').values\n",
    "\n",
    "w = pd.read_csv('w.csv',sep=';').values\n",
    "\n",
    "b = pd.read_csv('b.csv',sep=';').values.flatten()\n",
    "\n",
    "model = mip.Model()\n",
    "\n",
    "x = "
   ]
  },
  {
   "cell_type": "markdown",
   "metadata": {
    "id": "vAoRLSSmeKra"
   },
   "source": [
    "Solution obtained disabling the cover inequalities:"
   ]
  },
  {
   "cell_type": "code",
   "execution_count": 10,
   "metadata": {
    "colab": {
     "base_uri": "https://localhost:8080/"
    },
    "id": "kJyG8rmSZT8V",
    "outputId": "a89b7a03-0827-441e-a786-d467cd656902",
    "scrolled": true
   },
   "outputs": [
    {
     "name": "stdout",
     "output_type": "stream",
     "text": [
      "Welcome to the CBC MILP Solver \n",
      "Version: Trunk\n",
      "Build Date: Oct 24 2021 \n",
      "\n",
      "Starting solution of the Linear programming relaxation problem using Primal Simplex\n",
      "\n",
      "Coin0506I Presolve 15 (0) rows, 50 (0) columns and 100 (0) elements\n",
      "Clp1000I sum of infeasibilities 3.64086e-05 - average 2.42724e-06, 25 fixed columns\n",
      "Coin0506I Presolve 11 (-4) rows, 22 (-28) columns and 44 (-56) elements\n",
      "Clp0029I End of values pass after 22 iterations\n",
      "Clp0000I Optimal - objective value 410.02602\n",
      "Clp0000I Optimal - objective value 410.02602\n",
      "Coin0511I After Postsolve, objective 410.02602, infeasibilities - dual 0 (0), primal 0 (0)\n",
      "Clp0000I Optimal - objective value 410.02602\n",
      "Clp0000I Optimal - objective value 410.02602\n",
      "Clp0000I Optimal - objective value 410.02602\n",
      "Clp0032I Optimal objective 410.0260235 - 0 iterations time 0.002, Idiot 0.00\n",
      "\n",
      "Starting MIP optimization\n",
      "Cbc0045I Nauty did not find any useful orbits in time 0\n",
      "Cbc0038I Initial state - 8 integers unsatisfied sum - 2.69531\n",
      "Cbc0038I Pass   1: suminf.    1.46806 (7) obj. 423.841 iterations 4\n",
      "Cbc0038I Pass   2: suminf.    0.83534 (4) obj. 457.599 iterations 11\n",
      "Cbc0038I Pass   3: suminf.    0.83534 (4) obj. 457.599 iterations 0\n",
      "Cbc0038I Pass   4: suminf.    1.25907 (5) obj. 471.821 iterations 7\n",
      "Cbc0038I Pass   5: suminf.    0.33711 (5) obj. 457.518 iterations 7\n",
      "Cbc0038I Pass   6: suminf.    1.69095 (5) obj. 503.663 iterations 6\n",
      "Cbc0038I Pass   7: suminf.    1.11261 (5) obj. 498.169 iterations 3\n",
      "Cbc0038I Pass   8: suminf.    1.91399 (5) obj. 506.34 iterations 4\n",
      "Cbc0038I Pass   9: suminf.    2.48229 (8) obj. 502.095 iterations 7\n",
      "Cbc0038I Pass  10: suminf.    0.93976 (4) obj. 489.562 iterations 8\n",
      "Cbc0038I Pass  11: suminf.    1.00000 (4) obj. 482.961 iterations 3\n",
      "Cbc0038I Pass  12: suminf.    1.00000 (4) obj. 482.961 iterations 0\n",
      "Cbc0038I Pass  13: suminf.    1.00000 (4) obj. 482.952 iterations 3\n",
      "Cbc0038I Pass  14: suminf.    3.29289 (9) obj. 491.646 iterations 8\n",
      "Cbc0038I Pass  15: suminf.    1.74558 (7) obj. 448.366 iterations 4\n",
      "Cbc0038I Pass  16: suminf.    1.69846 (7) obj. 458.399 iterations 7\n",
      "Cbc0038I Pass  17: suminf.    1.34581 (7) obj. 459.7 iterations 2\n",
      "Cbc0038I Pass  18: suminf.    0.97155 (6) obj. 435.998 iterations 12\n",
      "Cbc0038I Pass  19: suminf.    0.90657 (6) obj. 435.049 iterations 4\n",
      "Cbc0038I Pass  20: suminf.    1.89957 (7) obj. 467.344 iterations 8\n",
      "Cbc0038I Pass  21: suminf.    1.89957 (7) obj. 467.344 iterations 0\n",
      "Cbc0038I Pass  22: suminf.    1.95374 (6) obj. 444.163 iterations 4\n",
      "Cbc0038I Pass  23: suminf.    2.47393 (9) obj. 531.874 iterations 9\n",
      "Cbc0038I Pass  24: suminf.    1.68336 (6) obj. 524.742 iterations 3\n",
      "Cbc0038I Pass  25: suminf.    1.52486 (6) obj. 499.148 iterations 9\n",
      "Cbc0038I Pass  26: suminf.    0.89957 (6) obj. 497.708 iterations 4\n",
      "Cbc0038I Pass  27: suminf.    2.34679 (7) obj. 477.114 iterations 8\n",
      "Cbc0038I Pass  28: suminf.    0.87379 (4) obj. 486.152 iterations 8\n",
      "Cbc0038I Pass  29: suminf.    1.90722 (6) obj. 490.758 iterations 8\n",
      "Cbc0038I Pass  30: suminf.    0.66771 (5) obj. 476.758 iterations 4\n",
      "Cbc0038I No solution found this major pass\n",
      "Cbc0038I Before mini branch and bound, 18 integers at bound fixed and 0 continuous\n",
      "Cbc0038I Full problem 15 rows 50 columns, reduced to 12 rows 27 columns\n",
      "Cbc0038I Mini branch and bound improved solution from 1.79769e+308 to 479 (0.01 seconds)\n",
      "Cbc0038I Round again with cutoff of 471.203\n",
      "Cbc0038I Reduced cost fixing fixed 5 variables on major pass 2\n",
      "Cbc0038I Pass  30: suminf.    1.46806 (7) obj. 423.841 iterations 0\n",
      "Cbc0038I Pass  31: suminf.    0.83534 (4) obj. 457.599 iterations 11\n",
      "Cbc0038I Pass  32: suminf.    0.83534 (4) obj. 457.599 iterations 0\n",
      "Cbc0038I Pass  33: suminf.    1.22567 (5) obj. 471.203 iterations 8\n",
      "Cbc0038I Pass  34: suminf.    0.33711 (5) obj. 457.518 iterations 7\n",
      "Cbc0038I Pass  35: suminf.    1.03570 (6) obj. 471.203 iterations 5\n",
      "Cbc0038I Pass  36: suminf.    0.36137 (8) obj. 471.203 iterations 10\n",
      "Cbc0038I Pass  37: suminf.    0.10667 (3) obj. 470.316 iterations 8\n",
      "Cbc0038I Pass  38: suminf.    0.16536 (3) obj. 470.844 iterations 4\n",
      "Cbc0038I Pass  39: suminf.    0.31560 (8) obj. 471.203 iterations 5\n",
      "Cbc0038I Pass  40: suminf.    0.91804 (8) obj. 471.203 iterations 7\n",
      "Cbc0038I Pass  41: suminf.    1.93976 (6) obj. 455.914 iterations 11\n",
      "Cbc0038I Pass  42: suminf.    1.00000 (5) obj. 459.856 iterations 2\n",
      "Cbc0038I Pass  43: suminf.    0.93976 (3) obj. 463.951 iterations 6\n",
      "Cbc0038I Pass  44: suminf.    0.93976 (4) obj. 457.376 iterations 5\n",
      "Cbc0038I Pass  45: suminf.    1.00000 (5) obj. 459.856 iterations 2\n",
      "Cbc0038I Pass  46: suminf.    1.07700 (6) obj. 468.733 iterations 6\n",
      "Cbc0038I Pass  47: suminf.    1.50148 (6) obj. 471.203 iterations 10\n",
      "Cbc0038I Pass  48: suminf.    2.51651 (10) obj. 471.203 iterations 7\n",
      "Cbc0038I Pass  49: suminf.    1.28480 (4) obj. 465.695 iterations 6\n",
      "Cbc0038I Pass  50: suminf.    0.99918 (4) obj. 456.359 iterations 6\n",
      "Cbc0038I Pass  51: suminf.    0.29630 (4) obj. 441.95 iterations 4\n",
      "Cbc0038I Pass  52: suminf.    0.99918 (4) obj. 456.359 iterations 3\n",
      "Cbc0038I Pass  53: suminf.    2.08969 (7) obj. 471.203 iterations 8\n",
      "Cbc0038I Pass  54: suminf.    1.12791 (5) obj. 462.988 iterations 4\n",
      "Cbc0038I Pass  55: suminf.    1.47059 (6) obj. 451.793 iterations 5\n",
      "Cbc0038I Pass  56: suminf.    1.47059 (6) obj. 451.793 iterations 0\n",
      "Cbc0038I Pass  57: suminf.    1.00000 (3) obj. 465.438 iterations 5\n",
      "Cbc0038I Pass  58: suminf.    1.00000 (4) obj. 468.616 iterations 3\n",
      "Cbc0038I Pass  59: suminf.    2.61468 (8) obj. 471.203 iterations 10\n",
      "Cbc0038I No solution found this major pass\n",
      "Cbc0038I Before mini branch and bound, 15 integers at bound fixed and 0 continuous\n",
      "Cbc0038I Full problem 15 rows 50 columns, reduced to 13 rows 33 columns\n",
      "Cbc0038I Mini branch and bound did not improve solution (0.01 seconds)\n",
      "Cbc0038I After 0.01 seconds - Feasibility pump exiting with objective of 479 - took 0.01 seconds\n",
      "Cbc0012I Integer solution of 479 found by feasibility pump after 0 iterations and 0 nodes (0.01 seconds)\n",
      "Cbc0038I Full problem 15 rows 50 columns, reduced to 3 rows 5 columns\n",
      "Cbc0001I Search completed - best objective 479, took 153 iterations and 30 nodes (0.03 seconds)\n",
      "Cbc0032I Strong branching done 194 times (441 iterations), fathomed 8 nodes and fixed 12 variables\n",
      "Cbc0035I Maximum depth 9, 86 variables fixed on reduced cost\n",
      "Total time (CPU seconds):       0.02   (Wallclock seconds):       0.03\n",
      "\n"
     ]
    }
   ],
   "source": [
    "# optimizing\n",
    "%%python\n",
    "\n",
    "import mip\n",
    "\n",
    "import pandas as pd\n",
    "\n",
    "# SET AND PARAMETER DEFINITION\n",
    "\n",
    "m = 10\n",
    "\n",
    "I = range(m)\n",
    "\n",
    "n = 5\n",
    "\n",
    "J = range(n)\n",
    "\n",
    "c = pd.read_csv('c.csv',sep=';').values\n",
    "\n",
    "w = pd.read_csv('w.csv',sep=';').values\n",
    "\n",
    "b = pd.read_csv('b.csv',sep=';').values.flatten()\n",
    "\n",
    "model = mip.Model()\n",
    "\n",
    "x = "
   ]
  }
 ],
 "metadata": {
  "accelerator": "GPU",
  "colab": {
   "provenance": []
  },
  "gpuClass": "standard",
  "kernelspec": {
   "display_name": "Python 3",
   "language": "python",
   "name": "python3"
  },
  "language_info": {
   "codemirror_mode": {
    "name": "ipython",
    "version": 3
   },
   "file_extension": ".py",
   "mimetype": "text/x-python",
   "name": "python",
   "nbconvert_exporter": "python",
   "pygments_lexer": "ipython3",
   "version": "3.6.8"
  }
 },
 "nbformat": 4,
 "nbformat_minor": 1
}
