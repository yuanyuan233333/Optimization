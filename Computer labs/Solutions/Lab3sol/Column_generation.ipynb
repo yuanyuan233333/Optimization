{
  "cells": [
    {
      "cell_type": "markdown",
      "source": [
        "**A Column Generation Approach for the Airline Crew Pairing Problem**\n",
        "\n",
        "This laboratory session is about a subproblem of Airline Crew Scheduling, known in the literature\n",
        "as the Airline Crew Pairing problem. Let us consider a flight leg which is a single takeofflanding phase to be carried out within a predefined time window, for example a flight that has\n",
        "to take off from Rome airport FCO at 9:00 AM and has to land at Milan airport MPX at 10:15 AM. A pairing is a feasible sequence of flight legs that can be performed by the same crew members, starting and ending at the same airport. Organizing the daily flights into pairings is an important problem for airline companies, and it is generally followed by an assignment phase\n",
        "of the crew members to each pairing (a problem known as Airline Crew Rostering). The pairings must be created so as to be feasible with respect to different constraints like, for instance, the\n",
        "compatibility of the flight legs, minimum rest periods and maximum total flight time.\n",
        "\n",
        "Given a set $I$ of flight legs, a feasible pairing can be represented by an incidence column\n",
        "vector $A^j \\in \\mathbb{R}^I$, with component $a_{ij}$ equal to 1 if the flight leg $i \\in I$ is included in the paring and 0 otherwise. Given\n",
        "\n",
        "\n",
        "*   a set $I$ of flight legs,\n",
        "*   the set $J$ of all feasible pairings described by the column vectors $A^j$ with $j \\in J$,\n",
        "\n",
        "the Airline Crew Pairing problem consists in selecting the minimum number of feasible pairings\n",
        "that exactly cover all the flight legs. Note that minimizing the number of pairing amounts to\n",
        "minimizing the number of crews needed to cover all the flight legs.\n",
        "\n",
        "Given a set of binary variables $x_j$ with $j \\in J$ indicating which feasible pairings are selected, the addressed problem can be formulated as the following set partitioning problem\n",
        "\n",
        "\\begin{array}{lll}\n",
        "  \\min & \\sum_\\limits{j \\in J} x_j & & & \\text{(1)}\\\\\n",
        "  \\textrm{s.t.} & Ax = 1 & & &(2)\\\\\n",
        "  & x_{j} \\in \\{0,1\\} &  j \\in J, &  &(3)\\\\\n",
        "\\end{array}\n",
        "\n",
        "where $A \\in \\mathbb{R}^{I \\times J}$\n",
        "is the incidence matrix of flight legs and pairings, containing all the feasible\n",
        "pairing columns $A^j$. Since the number $|J|$ of columns grows exponentially with the number\n",
        "$|I|$ of flight legs, it is impossible for real-world instances to construct the whole matrix $A$. For this reason a classical way to face this problem is the column generation method, in which the columns of $A$ are generated on the fly  only if needed, by exploiting the dual formulation of the\n",
        "linear relaxation of problem (1)-(3).\n",
        "\n",
        "In this laboratory session, we consider an instance of the Airline Crew Pairing problem which involves 9 airports and 42 flight legs. Each flight leg $i \\in I$ is characterized by an origin airport $o_i$ and a destination airport $d_i$, a starting time $s_i$ and the length $l_i$ of the flight leg expressed\n",
        "in hours. The feasible pairings must be created so that the starting and the ending airports coincide and so that there is at least 1 hour of rest period between any two consecutive legs.\n",
        "\n",
        "\n",
        "\n",
        "1.   Propose a column generation strategy to solve the linear relaxation of the Airline Crew\n",
        "Pairing problem.\n",
        "\n",
        "**Hint**:  Exploit the structure of the dual formulation of the problem.\n",
        "\n"
      ],
      "metadata": {
        "id": "VnH95hnNUKmD"
      }
    },
    {
      "cell_type": "markdown",
      "source": [
        "1.   The Linear Programming (LP) relaxation of problem (1)-(3) is\n",
        "\n",
        "\\begin{array}{lll}\n",
        "  \\min & \\sum_\\limits{j \\in J} x_j & & & \\text{(4)}\\\\\n",
        "  \\textrm{s.t.} & Ax = 1 & & &(5)\\\\\n",
        "  & x_{j} \\geq 0 &  j \\in J. &  &(6)\\\\\n",
        "\\end{array}\n",
        "\n",
        "Note that constraints $x_j \\leq 1$, with $j \\in J$, can be neglected due to constraints (5) with all non negative coefficients. Consider a restricted version of problem (4)-(6) involving only a number $n_j << |J|$ of columns of A. This amounts to fixing to 0 all the variables associated to the columns not considered in the restricted version. This problem is the so-called LP Restricted Master problem (LPRM). By solving LPRM with the simplex algorithm, we obtain the optimal solution $x^∗ \\in \\mathbb{R}^{n_j}$ with the associated vector of optimal dual variables $y^∗ \\in \\mathbb{R}$. The idea is to look for a non basic variable $x_{j^{'}}$ not included in the LPRM with\n",
        "negative reduced cost, that is, with\n",
        "\n",
        "$$\\bar{c}_{j^{'}}= 1 - \\sum_\\limits{i \\in I}a_{i{j^{'}}}y_i^*$$\n",
        "\n",
        "In such a case, the current solution $x^*$\n",
        "can be improved by adding to the LPRM the\n",
        "column ($a_{1j^{'}}$ $a_{2j^{'}}$ ... $a_{Ij^{'}})^T$\n",
        "T with its associated variable $x_{j^{'}}$. Otherwise, if no such (non basic) variable exists, $x^∗$ is optimal also for the original (complete) LP relaxation (4)-(6). To search for an improving non basic variable (and its corresponding column), we can solve the following pricing maximization sub-problem:\n",
        "\n",
        "$$\\max_{\\alpha \\in \\mathbb{R}^I} \\sum_\\limits{i \\in I}y_i^* \\alpha_i$$\n",
        "\n",
        "subject to some constraints which guarantee that the vector α represents a feasible pairing.\n",
        "To this aim let us consider a graph $G =< I, A >$ where each flight leg represents a node\n",
        "and each direct arc from node $i_1$ to node node $i_2$ represents a “feasible precedence” of flight leg i1 with respect to flight leg $i_2$, in particular:\n",
        "\n",
        "\n",
        "*   the destination airport of $i_1$ is the origin airport of $i_2$,\n",
        "*   there is at least 1 hour of rest period between the arrival time of $i_1$ and the departure time of $i_2$.\n",
        "\n",
        "By indicating as $(s−t)$ a pair of source-target nodes such that $o_s = d_t$ (the starting airport\n",
        "and the ending airport must coincide), any existing path from $s$ to $t$ in the graph represents a feasible pairing. Therefore the problem of finding a feasible pairing can be reformulated as the problem of finding an $(s − t)$ path in the directed graph.\n",
        "\n",
        "Let $G =< I, A >$ the feasible precedence graph, where I is the set of flight legs and $A = {(i_1, i_2) \\in I \\times I : d_{i_1} = o_{i_2} ∧ s_{i_2} \\geq s_{i_1} + l_{i_1} + rest}$. Let $z_{i_1i_2}$ with $i_1$, $i_2 \\in I$ be a set of binary variables indicating if an arc from $i_1$ to $i_2$ is activated in the path representing the feasible pairing. For a given $(s − t)$ the pricing subproblem can be formulated as the following graph optimization problem\n",
        "\n",
        "\n",
        "\n",
        "\n",
        "\\begin{array}{lll}\n",
        "  \\max & \\sum_\\limits{i \\in I} y_i^* \\alpha_i & & & \\text{(7)}\\\\\n",
        "  \\textrm{s.t.} & \\sum_\\limits{(s,i)\\in \\delta^+(i)} z_{si} = \\alpha_s & & &(8)\\\\\n",
        "   & \\sum_\\limits{(i,t)\\in \\delta^-(i)} z_{it} = \\alpha_t &   &  &(9)\\\\\n",
        "    & \\sum_\\limits{(h,i)\\in \\delta^+(i)} z_{hi} - \\sum_\\limits{(i,j)\\in \\delta^-(i)} z_{ij} = 0 &  \\forall i \\in I, i \\neq s,t &  &(10)\\\\\n",
        "  &\\sum_\\limits{(i,j)\\in \\delta^+(i)} z_{ij} = \\alpha_i &  \\forall i \\in I, i \\neq s,t, &  &(11)\\\\\n",
        "  & \\alpha_{i} \\in \\{0,1\\} &  \\forall i \\in I, &  &(12)\\\\\n",
        "  & z_{ii^{'}} \\in \\{0,1\\} &  \\forall i,i^{'} \\in I, &  &(13)\\\\\n",
        "\\end{array}\n",
        "\n",
        "\n",
        "\n",
        "\n",
        "\n",
        "\n",
        "Constraints (8) and (9) on a one hand make sure that the variables $\\alpha_s$ and $\\alpha_t$ are set to 1 if an arc incident to $s$ and, respectively, to $t$ is activated, on the other hand they ensure the uniqueness of the optimal path. Note that, in the feasible precedence graph, an $(s−t)$ path may not exist. In such a case, imposing $\\sum_\\limits{(s,i)\\in \\delta^+(i)} z_{si} = 1 $ and $ \\sum_\\limits{(i,t)\\in \\delta^-(i)} z_{it} = 1$, like in the standard shortest or longest path formulations, could lead to the infeasibility of the pricing subproblem, while (8) and (9) admit at least the solution with all variables set to zero. Constraints (10) are classical balance constraints for the intermediate nodes of the path, while constraints (11) are used to activate the variables $\\alpha_i$ if the optimal path\n",
        "goes through node $i$. Let $\\alpha^*$ denote an optimal solution of the pricing subproblem. If $1 − \\sum_\\limits{i \\in I}y_i^* \\alpha_i < 0$ then $\\alpha^*$ is the incidence vector of a feasible pairing associated to a variable with negative reduced\n",
        "cost, so they can be inserted in the LPRM to improve the current solution.\n",
        "For a given solution $x^∗$ of the LPRM, the pricing subproblem has to be solved for any\n",
        "possible pair $(s − t)$ until a vector $\\alpha^*$ associated to a negative reduced cost is found. If no such $\\alpha^*$ exists, the optimality of $x^∗$ for the LP is certified.\n"
      ],
      "metadata": {
        "id": "0v4WCpLfRDtv"
      }
    },
    {
      "cell_type": "markdown",
      "source": [
        "2.   Implement in Python a column generation algorithm and solve the linear relaxation of the master problem for the given instance, starting from a given feasible solution."
      ],
      "metadata": {
        "id": "Nh5mb6Dte6xF"
      }
    },
    {
      "cell_type": "code",
      "source": [
        "# When using Colab, make sure you run this instruction beforehand\n",
        "!pip install mip"
      ],
      "metadata": {
        "colab": {
          "base_uri": "https://localhost:8080/"
        },
        "id": "FQOfHkCJRD5q",
        "outputId": "866f38bf-3bef-4ba1-8241-7572cef0399f"
      },
      "execution_count": 1,
      "outputs": [
        {
          "output_type": "stream",
          "name": "stdout",
          "text": [
            "Looking in indexes: https://pypi.org/simple, https://us-python.pkg.dev/colab-wheels/public/simple/\n",
            "Collecting mip\n",
            "  Downloading mip-1.15.0-py3-none-any.whl (15.3 MB)\n",
            "\u001b[2K     \u001b[90m━━━━━━━━━━━━━━━━━━━━━━━━━━━━━━━━━━━━━━━━\u001b[0m \u001b[32m15.3/15.3 MB\u001b[0m \u001b[31m3.9 MB/s\u001b[0m eta \u001b[36m0:00:00\u001b[0m\n",
            "\u001b[?25hRequirement already satisfied: cffi==1.15.* in /usr/local/lib/python3.9/dist-packages (from mip) (1.15.1)\n",
            "Requirement already satisfied: pycparser in /usr/local/lib/python3.9/dist-packages (from cffi==1.15.*->mip) (2.21)\n",
            "Installing collected packages: mip\n",
            "Successfully installed mip-1.15.0\n"
          ]
        }
      ]
    },
    {
      "cell_type": "code",
      "source": [
        "import mip\n",
        "import pandas as pd # to handle the data of the problem\n",
        "from mip import BINARY\n",
        "import numpy as np\n",
        "import math"
      ],
      "metadata": {
        "id": "o88mdh9qRbCp"
      },
      "execution_count": 2,
      "outputs": []
    },
    {
      "cell_type": "code",
      "source": [
        "data = pd.read_csv('data.csv',sep=';')\n",
        "\n",
        "# MASTER PROBLEM\n",
        "# DEFINITION OF SETS AND PARAMETERS\n",
        "\n",
        "#number of flight legs\n",
        "n_i = 42\n",
        "\n",
        "n_q = 9\n",
        "\n",
        "# set of the flight legs\n",
        "I = range(n_i)\n",
        "# set of the airports\n",
        "Q = range(n_q)\n",
        "\n",
        "# origin airport of the flight\n",
        "o = data['o'].values\n",
        "\n",
        "# destination airport of the flight\n",
        "d = data['d'].values\n",
        "\n",
        "# starting time of the flight\n",
        "s = data['s'].values\n",
        "\n",
        "# length of the flight\n",
        "l = data['l'].values\n",
        "\n",
        "#----------------------------------------\n",
        "# initialize a starting feasible solution\n",
        "#----------------------------------------\n",
        "# number of pairings\n",
        "n_j = int(n_i/2)\n",
        "\n",
        "# pairings matrix\n",
        "a = np.zeros((n_i,n_j))\n",
        "\n",
        "# Valid pairings for the specific instance in data.csv\n",
        "for i in I:\n",
        "  a[i,math.floor(i/2)] = 1\n",
        "\n",
        "# set of all possible edge \n",
        "K = [(i,i1) for i in I for i1 in I]"
      ],
      "metadata": {
        "id": "rqlu-w9aRiNU"
      },
      "execution_count": 3,
      "outputs": []
    },
    {
      "cell_type": "code",
      "source": [
        "#----------------------------------------\n",
        "# create the graph of feasible paths\n",
        "#----------------------------------------\n",
        "rest = 1\n",
        "# TO-DO: modify the arc set A by adding an arc (i, i1) if destination of i coincides with the origin \n",
        "# and the time window constraints are satisfied\n",
        "A = {(i,i1) for (i,i1) in K if d[i] == o[i1] and s[i1]>=s[i]+l[i]+rest}\n"
      ],
      "metadata": {
        "id": "qmQjGTGLf9lx"
      },
      "execution_count": 4,
      "outputs": []
    },
    {
      "cell_type": "code",
      "source": [
        "# function to check if the origin/destination has at least 1 outgoing/ingoing arc\n",
        "def check(A,index,pos):\n",
        "  if pos >=0 and pos <=1 and isinstance(pos,int):\n",
        "    found = False\n",
        "    for t in A:\n",
        "      if t[pos] == index:\n",
        "        found = True\n",
        "    return found\n",
        "  else:\n",
        "    return None"
      ],
      "metadata": {
        "id": "2rAy7GHA8mL3"
      },
      "execution_count": 5,
      "outputs": []
    },
    {
      "cell_type": "code",
      "source": [
        "found = True\n",
        "\n",
        "# cycle until new feasible columns is found\n",
        "while(found):\n",
        "\n",
        "  # set of pairings\n",
        "  J = range(n_j)\n",
        "  # SOLVE MASTER\n",
        "  # Master problem definition\n",
        "  master = mip.Model()\n",
        "\n",
        "  # variables\n",
        "  x = [master.add_var(lb=0,name = str(j)) for j in J]\n",
        "\n",
        "  # objective\n",
        "  master.objective = mip.minimize(mip.xsum(x[j] for j in J))\n",
        "  \n",
        "  # constraints\n",
        "  for i in I:\n",
        "    master.add_constr(mip.xsum(a[i,j]*x[j] for j in J)==1)\n",
        "\n",
        "  \n",
        "  # optimizing\n",
        "  master.optimize()\n",
        "  print('Solved Master pairings:')\n",
        "  print(master.objective.x)\n",
        "  # coefficients of the obj. of the pricing set to the shadow price of the master\n",
        "  y_star = [master.constrs[i].pi for i in I]\n",
        "\n",
        "  found = False\n",
        "\n",
        "  # try a pair of flight legs source-target such that:\n",
        "  # 1. the origin of the source is equal to the target destination\n",
        "  # 2. the origin has at least 1 outgoing arc\n",
        "  # 3. the destination has at least 1 ingoing arc\n",
        "\n",
        "  for (src,trg) in K:\n",
        "  \n",
        "    if o[src] == d[trg] and check(A,src,0) and check(A,trg,1):\n",
        "\n",
        "      found = False\n",
        "\n",
        "      # SOLVE PRICING\n",
        "      # Pricing problem definition\n",
        "      pricing = mip.Model()\n",
        "\n",
        "      # variables\n",
        "      alpha = [pricing.add_var(var_type=BINARY,name = str(i)) for i in I]\n",
        "      z = {edge: pricing.add_var(var_type=BINARY,name ='z_'+str(edge[0])+str(edge[1])) for edge in A}\n",
        "      \n",
        "\n",
        "      # objective\n",
        "      pricing.objective = mip.maximize(mip.xsum(alpha[i]*y_star[i] for i in I))\n",
        "\n",
        "      # constraints\n",
        "      # balanceSource\n",
        "      pricing.add_constr(mip.xsum(z[edge] for edge in A if edge[0]==src)==alpha[src])\n",
        "      # balanceTarget:\n",
        "      pricing.add_constr(mip.xsum(z[edge] for edge in A if edge[1]==trg)==alpha[trg])\n",
        "      # balance\n",
        "      for i in I:\n",
        "        if i!= src and i!=trg:\n",
        "          pricing.add_constr(mip.xsum(z[edge] for edge in A if edge[1]==i)-mip.xsum(z[edge] for edge in A if edge[0]==i) == 0)\n",
        "      # activation\n",
        "      for i in I:\n",
        "        if i!= src and i!=trg:\n",
        "          pricing.add_constr(mip.xsum(z[edge] for edge in A if edge[1]==i)== alpha[i])\n",
        "      # optimizing\n",
        "      pricing.optimize()\n",
        "\n",
        "      reducedCost = 1 - pricing.objective.x\n",
        "\n",
        "      if reducedCost < 0:\n",
        "        n_j += 1\n",
        "        b = np.zeros((n_i,1))\n",
        "        print(\"Found new pairing %i - %i \\n\" % (src, trg))\n",
        "        for i in I:\n",
        "          b[i] = pricing.vars[i].x\n",
        "        a = np.hstack((a,b))\n",
        "        found = True\n",
        "        break"
      ],
      "metadata": {
        "id": "QBagT75_imdZ",
        "colab": {
          "base_uri": "https://localhost:8080/"
        },
        "outputId": "5a041111-516f-4a3d-f07c-4772cbaf2fe1"
      },
      "execution_count": 6,
      "outputs": [
        {
          "output_type": "stream",
          "name": "stdout",
          "text": [
            "Solved Master pairings:\n",
            "21.0\n",
            "Found new pairing 0 - 3 \n",
            "\n",
            "Solved Master pairings:\n",
            "20.0\n",
            "Found new pairing 14 - 17 \n",
            "\n",
            "Solved Master pairings:\n",
            "19.0\n",
            "Found new pairing 30 - 29 \n",
            "\n",
            "Solved Master pairings:\n",
            "18.0\n"
          ]
        }
      ]
    },
    {
      "cell_type": "code",
      "source": [
        "indices = []\n",
        "\n",
        "for j in J:\n",
        "  if x[j].x == 1:\n",
        "    indices.append(j)\n",
        "print(\"Selected %i pairings\" % len(indices))\n",
        "print(indices)\n",
        "print(a[:,indices])"
      ],
      "metadata": {
        "id": "boavCKh7S34d",
        "colab": {
          "base_uri": "https://localhost:8080/"
        },
        "outputId": "fa2631e8-b1ab-4fad-8aec-cec7fa7460b4"
      },
      "execution_count": 7,
      "outputs": [
        {
          "output_type": "stream",
          "name": "stdout",
          "text": [
            "Selected 18 pairings\n",
            "[2, 3, 4, 5, 6, 9, 10, 11, 12, 13, 16, 17, 18, 19, 20, 21, 22, 23]\n",
            "[[0. 0. 0. 0. 0. 0. 0. 0. 0. 0. 0. 0. 0. 0. 0. 1. 0. 0.]\n",
            " [0. 0. 0. 0. 0. 0. 0. 0. 0. 0. 0. 0. 0. 0. 0. 1. 0. 0.]\n",
            " [0. 0. 0. 0. 0. 0. 0. 0. 0. 0. 0. 0. 0. 0. 0. 1. 0. 0.]\n",
            " [0. 0. 0. 0. 0. 0. 0. 0. 0. 0. 0. 0. 0. 0. 0. 1. 0. 0.]\n",
            " [1. 0. 0. 0. 0. 0. 0. 0. 0. 0. 0. 0. 0. 0. 0. 0. 0. 0.]\n",
            " [1. 0. 0. 0. 0. 0. 0. 0. 0. 0. 0. 0. 0. 0. 0. 0. 0. 0.]\n",
            " [0. 1. 0. 0. 0. 0. 0. 0. 0. 0. 0. 0. 0. 0. 0. 0. 0. 0.]\n",
            " [0. 1. 0. 0. 0. 0. 0. 0. 0. 0. 0. 0. 0. 0. 0. 0. 0. 0.]\n",
            " [0. 0. 1. 0. 0. 0. 0. 0. 0. 0. 0. 0. 0. 0. 0. 0. 0. 0.]\n",
            " [0. 0. 1. 0. 0. 0. 0. 0. 0. 0. 0. 0. 0. 0. 0. 0. 0. 0.]\n",
            " [0. 0. 0. 1. 0. 0. 0. 0. 0. 0. 0. 0. 0. 0. 0. 0. 0. 0.]\n",
            " [0. 0. 0. 1. 0. 0. 0. 0. 0. 0. 0. 0. 0. 0. 0. 0. 0. 0.]\n",
            " [0. 0. 0. 0. 1. 0. 0. 0. 0. 0. 0. 0. 0. 0. 0. 0. 0. 0.]\n",
            " [0. 0. 0. 0. 1. 0. 0. 0. 0. 0. 0. 0. 0. 0. 0. 0. 0. 0.]\n",
            " [0. 0. 0. 0. 0. 0. 0. 0. 0. 0. 0. 0. 0. 0. 0. 0. 1. 0.]\n",
            " [0. 0. 0. 0. 0. 0. 0. 0. 0. 0. 0. 0. 0. 0. 0. 0. 1. 0.]\n",
            " [0. 0. 0. 0. 0. 0. 0. 0. 0. 0. 0. 0. 0. 0. 0. 0. 1. 0.]\n",
            " [0. 0. 0. 0. 0. 0. 0. 0. 0. 0. 0. 0. 0. 0. 0. 0. 1. 0.]\n",
            " [0. 0. 0. 0. 0. 1. 0. 0. 0. 0. 0. 0. 0. 0. 0. 0. 0. 0.]\n",
            " [0. 0. 0. 0. 0. 1. 0. 0. 0. 0. 0. 0. 0. 0. 0. 0. 0. 0.]\n",
            " [0. 0. 0. 0. 0. 0. 1. 0. 0. 0. 0. 0. 0. 0. 0. 0. 0. 0.]\n",
            " [0. 0. 0. 0. 0. 0. 1. 0. 0. 0. 0. 0. 0. 0. 0. 0. 0. 0.]\n",
            " [0. 0. 0. 0. 0. 0. 0. 1. 0. 0. 0. 0. 0. 0. 0. 0. 0. 0.]\n",
            " [0. 0. 0. 0. 0. 0. 0. 1. 0. 0. 0. 0. 0. 0. 0. 0. 0. 0.]\n",
            " [0. 0. 0. 0. 0. 0. 0. 0. 1. 0. 0. 0. 0. 0. 0. 0. 0. 0.]\n",
            " [0. 0. 0. 0. 0. 0. 0. 0. 1. 0. 0. 0. 0. 0. 0. 0. 0. 0.]\n",
            " [0. 0. 0. 0. 0. 0. 0. 0. 0. 1. 0. 0. 0. 0. 0. 0. 0. 0.]\n",
            " [0. 0. 0. 0. 0. 0. 0. 0. 0. 1. 0. 0. 0. 0. 0. 0. 0. 0.]\n",
            " [0. 0. 0. 0. 0. 0. 0. 0. 0. 0. 0. 0. 0. 0. 0. 0. 0. 1.]\n",
            " [0. 0. 0. 0. 0. 0. 0. 0. 0. 0. 0. 0. 0. 0. 0. 0. 0. 1.]\n",
            " [0. 0. 0. 0. 0. 0. 0. 0. 0. 0. 0. 0. 0. 0. 0. 0. 0. 1.]\n",
            " [0. 0. 0. 0. 0. 0. 0. 0. 0. 0. 0. 0. 0. 0. 0. 0. 0. 1.]\n",
            " [0. 0. 0. 0. 0. 0. 0. 0. 0. 0. 1. 0. 0. 0. 0. 0. 0. 0.]\n",
            " [0. 0. 0. 0. 0. 0. 0. 0. 0. 0. 1. 0. 0. 0. 0. 0. 0. 0.]\n",
            " [0. 0. 0. 0. 0. 0. 0. 0. 0. 0. 0. 1. 0. 0. 0. 0. 0. 0.]\n",
            " [0. 0. 0. 0. 0. 0. 0. 0. 0. 0. 0. 1. 0. 0. 0. 0. 0. 0.]\n",
            " [0. 0. 0. 0. 0. 0. 0. 0. 0. 0. 0. 0. 1. 0. 0. 0. 0. 0.]\n",
            " [0. 0. 0. 0. 0. 0. 0. 0. 0. 0. 0. 0. 1. 0. 0. 0. 0. 0.]\n",
            " [0. 0. 0. 0. 0. 0. 0. 0. 0. 0. 0. 0. 0. 1. 0. 0. 0. 0.]\n",
            " [0. 0. 0. 0. 0. 0. 0. 0. 0. 0. 0. 0. 0. 1. 0. 0. 0. 0.]\n",
            " [0. 0. 0. 0. 0. 0. 0. 0. 0. 0. 0. 0. 0. 0. 1. 0. 0. 0.]\n",
            " [0. 0. 0. 0. 0. 0. 0. 0. 0. 0. 0. 0. 0. 0. 1. 0. 0. 0.]]\n"
          ]
        }
      ]
    },
    {
      "cell_type": "markdown",
      "source": [
        "Starting from an initial feasible solution with 21 pairings, the implemented column generation algorithm attains the optimal solution of the LP with 18 pairings. Note that for this\n",
        "small size instance the pricing subproblem can be solved exactly with mip. However,\n",
        "since the pricing subproblem consists in finding longest paths in an acyclic graph, ad-hoc\n",
        "polynomial time algorithms are available."
      ],
      "metadata": {
        "id": "_L6vnyc6acwE"
      }
    }
  ],
  "metadata": {
    "colab": {
      "provenance": []
    },
    "kernelspec": {
      "display_name": "Python 3",
      "language": "python",
      "name": "python3"
    },
    "language_info": {
      "codemirror_mode": {
        "name": "ipython",
        "version": 3
      },
      "file_extension": ".py",
      "mimetype": "text/x-python",
      "name": "python",
      "nbconvert_exporter": "python",
      "pygments_lexer": "ipython3",
      "version": "3.6.8"
    }
  },
  "nbformat": 4,
  "nbformat_minor": 0
}