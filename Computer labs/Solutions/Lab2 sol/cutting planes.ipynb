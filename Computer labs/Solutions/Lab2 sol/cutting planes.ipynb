{
  "cells": [
    {
      "cell_type": "markdown",
      "source": [
        "**Generalized assignment problem: cutting planes generation and branch-and-cut**\n",
        "\n",
        "\n",
        "A research institute has to execute a set of $I$ processes on a set of $J$ servers\n",
        "of a distributed cluster run by an external service provider. \n",
        "The provider charges a cost $c_{ij}$ to execute the process $i \\in I$ on the server $j \\in J$. \n",
        "Once started, processes cannot moved to a different server. We assume\n",
        "that all the processes have to run in parallel. For that reason, given the memory requirement\n",
        "$w_{ij}$ in GB of a process $i \\in I$ on the server $j \\in J$, the total\n",
        "memory consumption must not exceed the memory capacity $b_j$ of machine $j\\in J$.\n",
        "The goal is to minimize the total cost of running the given processes on the servers.\n",
        "\n",
        "The addressed problem is known in the literature as the $\\textit{generalized assignment problem}$ and it is formulated as follows \n",
        "\n",
        "\\begin{eqnarray}\n",
        "\\min         & \\sum_{i \\in I, j \\in J} c_{ij} x_{ij} \\\\\n",
        "{\\mbox s.t.} & \\sum_{j \\in J} x_{ij} = 1        \\quad & i \\in I\\\\\n",
        "& \\sum_{i \\in I} w_{ij} x_{ij} \\leq b_j \\quad & j \\in J\\label{1}\\\\\n",
        "             & x_{ij} \\in \\{0,1\\}                \\quad & i \\in I, j \\in J.\n",
        "\\end{eqnarray}"
      ],
      "metadata": {
        "id": "ZGZp0TCUQXe4"
      }
    },
    {
      "cell_type": "markdown",
      "source": [
        "**1.   Solve the model with MIP in Python.**"
      ],
      "metadata": {
        "id": "h1cK3N8vpVYl"
      }
    },
    {
      "cell_type": "code",
      "source": [
        "# When using Colab, make sure you run this instruction beforehand\n",
        "!pip install mip"
      ],
      "metadata": {
        "id": "AZ2Yq9CCQVcb",
        "colab": {
          "base_uri": "https://localhost:8080/"
        },
        "outputId": "19e20ae3-18e6-4c82-f37a-5c3a4ff85435"
      },
      "execution_count": 1,
      "outputs": [
        {
          "output_type": "stream",
          "name": "stdout",
          "text": [
            "Looking in indexes: https://pypi.org/simple, https://us-python.pkg.dev/colab-wheels/public/simple/\n",
            "Collecting mip\n",
            "  Downloading mip-1.15.0-py3-none-any.whl (15.3 MB)\n",
            "\u001b[2K     \u001b[90m━━━━━━━━━━━━━━━━━━━━━━━━━━━━━━━━━━━━━━━━\u001b[0m \u001b[32m15.3/15.3 MB\u001b[0m \u001b[31m81.7 MB/s\u001b[0m eta \u001b[36m0:00:00\u001b[0m\n",
            "\u001b[?25hRequirement already satisfied: cffi==1.15.* in /usr/local/lib/python3.9/dist-packages (from mip) (1.15.1)\n",
            "Requirement already satisfied: pycparser in /usr/local/lib/python3.9/dist-packages (from cffi==1.15.*->mip) (2.21)\n",
            "Installing collected packages: mip\n",
            "Successfully installed mip-1.15.0\n"
          ]
        }
      ]
    },
    {
      "cell_type": "code",
      "source": [
        "import mip\n",
        "import pandas as pd # to handle the data of the problem\n",
        "from mip import BINARY\n",
        "import numpy as np\n",
        "import time"
      ],
      "metadata": {
        "id": "zSO1p-EY2l6r"
      },
      "execution_count": 2,
      "outputs": []
    },
    {
      "cell_type": "code",
      "source": [
        "# SET AND PARAMETER DEFINITION\n",
        "\n",
        "m = 10\n",
        "\n",
        "I = range(m)\n",
        "\n",
        "n = 5\n",
        "\n",
        "J = range(n)\n",
        "\n",
        "c = pd.read_csv('c.csv',sep=';').values\n",
        "\n",
        "w = pd.read_csv('w.csv',sep=';').values\n",
        "\n",
        "b = pd.read_csv('b.csv',sep=';').values.flatten()"
      ],
      "metadata": {
        "id": "Vx4LvEFX3hlj"
      },
      "execution_count": null,
      "outputs": []
    },
    {
      "cell_type": "code",
      "source": [
        "model = mip.Model()\n",
        "\n",
        "x = [[model.add_var(var_type=BINARY,name ='x_'+str(i)+str(j)) for j in J] for i in I] \n",
        "\n",
        "model.objective = mip.minimize(mip.xsum(x[i][j]*c[i,j] for j in J for i in I))\n",
        "\n",
        "# CONSTRAINT\n",
        "# Assignment\n",
        "for i in I:\n",
        "  model.add_constr(mip.xsum(x[i][j] for j in J) == 1)\n",
        "\n",
        "# Knapsack\n",
        "for j in J:\n",
        "  model.add_constr(mip.xsum(w[i,j]*x[i][j] for i in I)<= b[j])"
      ],
      "metadata": {
        "id": "ve6ezh7o4gi6"
      },
      "execution_count": null,
      "outputs": []
    },
    {
      "cell_type": "code",
      "source": [
        "# optimizing\n",
        "model.optimize(relax=True)"
      ],
      "metadata": {
        "colab": {
          "base_uri": "https://localhost:8080/"
        },
        "id": "FBsINnp25MQo",
        "outputId": "2046e09e-285c-460d-fbc8-478b01e67889"
      },
      "execution_count": null,
      "outputs": [
        {
          "output_type": "execute_result",
          "data": {
            "text/plain": [
              "<OptimizationStatus.OPTIMAL: 0>"
            ]
          },
          "metadata": {},
          "execution_count": 8
        }
      ]
    },
    {
      "cell_type": "code",
      "source": [
        "model.objective.x"
      ],
      "metadata": {
        "colab": {
          "base_uri": "https://localhost:8080/"
        },
        "id": "vcsTGwup5aDZ",
        "outputId": "242942b6-f002-487e-bb85-a75de7106530"
      },
      "execution_count": null,
      "outputs": [
        {
          "output_type": "execute_result",
          "data": {
            "text/plain": [
              "410.02602354072945"
            ]
          },
          "metadata": {},
          "execution_count": 9
        }
      ]
    },
    {
      "cell_type": "code",
      "source": [
        "sol = np.zeros((m,n))\n",
        "\n",
        "for i in I:\n",
        "  for j in J:\n",
        "    sol[i,j] = x[i][j].x\n",
        "\n",
        "sol"
      ],
      "metadata": {
        "colab": {
          "base_uri": "https://localhost:8080/"
        },
        "id": "opkptEG36UZw",
        "outputId": "5c5d021f-5c0c-4166-94ba-c7f615cd613d"
      },
      "execution_count": null,
      "outputs": [
        {
          "output_type": "execute_result",
          "data": {
            "text/plain": [
              "array([[0.        , 0.        , 1.        , 0.        , 0.        ],\n",
              "       [0.        , 0.        , 0.34090909, 0.65909091, 0.        ],\n",
              "       [0.        , 0.        , 1.        , 0.        , 0.        ],\n",
              "       [0.        , 0.        , 0.        , 0.        , 1.        ],\n",
              "       [0.        , 0.76470588, 0.        , 0.23529412, 0.        ],\n",
              "       [1.        , 0.        , 0.        , 0.        , 0.        ],\n",
              "       [0.59183673, 0.        , 0.        , 0.        , 0.40816327],\n",
              "       [0.36328976, 0.        , 0.        , 0.63671024, 0.        ],\n",
              "       [0.        , 1.        , 0.        , 0.        , 0.        ],\n",
              "       [0.        , 0.        , 0.        , 0.        , 1.        ]])"
            ]
          },
          "metadata": {},
          "execution_count": 10
        }
      ]
    },
    {
      "cell_type": "markdown",
      "source": [
        "**2.   Propose a set of valid inequalities to strengthen this initial formulation.**"
      ],
      "metadata": {
        "id": "yashZRL0phrM"
      }
    },
    {
      "cell_type": "markdown",
      "source": [
        "The problem can be seen as a generalization of the binary knapsack problem, where we have $|J|$ knapsacks with capacity $b_j$. Considering independently each inequality, we can use valid inequalities for the knapsack problem, i.e., the $\\textit{cover inequalities}$. \n",
        "Given the inequalities for $j\\in J$, $$\\sum_{i \\in I} w_{ij} x_{ij} \\leq b_j,$$ we define a cover $C$ as the subset $C\\subseteq I$ such that: $$\\sum_{i \\in C} w_{ij} > b_j.$$ \n",
        "Intuitively, a cover $C$ contains the indices of the items $i$ such that, if simultaneously assigned to $j$, exceed the capacity $b_j$. It is clear then that, in any feasible solution, the binary varaiables corresponding to indices in a cover $C$ cannot all have value 1. In other words, given a cover $C$, the corresponding cover inequality is valid: $$\\sum_{i \\in C} x_{ij} \\leq |C|-1,$$ that can also be expressed as $$\\sum_{i \\in C} (1 - x_{ij}) \\geq 1,$$ indicating that at least one variable must be 0.\n",
        "\n",
        "The cover inequalities are valid for the generalized assignment problem, but\n",
        "not for its linear relaxation: then, generating cover inequalities, we can \n",
        "improve the linear relaxation of the problem, making it stronger."
      ],
      "metadata": {
        "id": "eFO01wMcpoS-"
      }
    },
    {
      "cell_type": "markdown",
      "source": [
        "**3.   Describe the separation problem for such valid inequalities**"
      ],
      "metadata": {
        "id": "3EkvSn-_qOez"
      }
    },
    {
      "cell_type": "markdown",
      "source": [
        "To generate cover inequalities, consider the optimal solution $x^*$ of the linear relaxation. Then, we solve the separation problem that allows us to find a set $C\\subseteq I$ such that the cover inequality is not satisfied by $x^*$ and we add such inequality to the model. Such problem consists in maximizing the violation of a cover inequality $$\\sum_{i \\in C} (1 - x_{ij}) \\geq 1,$$ using binary variables $z_{ij}$ that indicate which indices $i$ belong to the cover $C$ for an inequality $j$. In particular, the inequality is violated if \n",
        "\\begin{equation*}\n",
        "1 - \\sum_{i \\in I}(1-x^*_{ij})z_{ij}>0.\n",
        "\\end{equation*} \n",
        "The set defined by the variables $z$ is actually a cover for the $j$-th inequalities only if:\n",
        "\\begin{equation*}\n",
        "\\sum_{i \\in I} w_{ij} z_{ij} > b_j.\n",
        "\\end{equation*}\n",
        "Since, in a mathematical program, the costraints must generally be formulated with inequalities of the form $\\ge$ (and not $>$), we can express the condition with the constraint $\\sum_{i \\in I} w_{ij} z_{ij} \\geq b_j+\\epsilon$, where $\\epsilon > 0$. We can take $\\epsilon=1$ for any $j \\in J$ because in **w.csv** we can verify that the values $\\left\\{{\\left\\{ w_{ij}\\right\\}}_{i \\in I},b_j\\right\\}$ are integer for any $j \\in J$: this, and the fact that the variables $z_{ij}$ are binary, ensures that the difference $\\sum_{i \\in I} w_{ij} z_{ij} - b_j$ is integer. \n",
        "\\par The procedure is iterate until no more violated cover inequalities exist."
      ],
      "metadata": {
        "id": "FMzKKXFDqEvC"
      }
    },
    {
      "cell_type": "markdown",
      "source": [
        "**4.   Implement a cutting plane algorithm to solve the linear relaxation of the problem with the proposed set of valid inequalities. How does the bound change?**"
      ],
      "metadata": {
        "id": "PMt3CyErwH9E"
      }
    },
    {
      "cell_type": "code",
      "source": [
        "model = mip.Model()\n",
        "\n",
        "nc = 0\n",
        "\n",
        "CUTS = []\n",
        "\n",
        "C = []\n",
        "\n",
        "J_bar = []\n",
        "\n",
        "x = [[model.add_var(var_type=BINARY,name ='x_'+str(i)+str(j)) for j in J] for i in I] \n",
        "\n",
        "model.objective = mip.minimize(mip.xsum(x[i][j]*c[i,j] for j in J for i in I))\n",
        "\n",
        "# CONSTRAINT\n",
        "# Assignment\n",
        "for i in I:\n",
        "  model.add_constr(mip.xsum(x[i][j] for j in J) == 1)\n",
        "\n",
        "# Knapsack\n",
        "for j in J:\n",
        "  model.add_constr(mip.xsum(w[i,j]*x[i][j] for i in I)<= b[j])\n",
        "\n",
        "\n",
        "\n",
        "newConstraints = True\n",
        "\n",
        "while newConstraints:\n",
        "    model.optimize(relax=True)\n",
        "\n",
        "    for j in J:\n",
        "\n",
        "      j_bar = j\n",
        "      x_star = [x[i][j].x if x[i][j].x <= 1 else 1.0 for i in I]\n",
        "      \n",
        "      newConstraints = False\n",
        "      separation = mip.Model()\n",
        "      z = [separation.add_var(var_type=BINARY) for i in I]\n",
        "      separation.objective = mip.maximize(1 - mip.xsum(z[i]*(1 - x_star[i]) for i in I))\n",
        "      separation.add_constr(mip.xsum(w[i,j_bar]*z[i] for i in I)>= b[j_bar] + 1) \n",
        "      separation.optimize()\n",
        "\n",
        "\n",
        "      violation = separation.objective.x\n",
        "\n",
        "      if violation > 0.1:\n",
        "        CUTS.append(nc)\n",
        "        nc += 1\n",
        "        C.append([i for i in I if z[i].x == 1])\n",
        "        J_bar.append(j_bar)\n",
        "        newConstraints = True\n",
        "        \n",
        "        break\n",
        "    for k in CUTS:\n",
        "      model.add_constr(mip.xsum(x[i][J_bar[k]] for i in C[k])<= len(C[k])-1) \n"
      ],
      "metadata": {
        "id": "H_vOac0M7JEH"
      },
      "execution_count": null,
      "outputs": []
    },
    {
      "cell_type": "code",
      "source": [
        "print('Set C:')\n",
        "print(C)\n",
        "print('J bar:')\n",
        "print(J_bar)"
      ],
      "metadata": {
        "colab": {
          "base_uri": "https://localhost:8080/"
        },
        "id": "xaPHAgWkNhNG",
        "outputId": "e4d984e4-e81f-4fff-9f33-8834623dc25e"
      },
      "execution_count": null,
      "outputs": [
        {
          "output_type": "stream",
          "name": "stdout",
          "text": [
            "Set C:\n",
            "[[5, 6], [5, 7], [4, 8], [0, 8], [1, 2], [2, 5, 9], [1, 6], [4, 7], [0, 4], [2, 7], [6, 9], [1, 7], [2, 3, 6]]\n",
            "J bar:\n",
            "[0, 0, 1, 1, 2, 0, 2, 3, 1, 2, 4, 3, 4]\n"
          ]
        }
      ]
    },
    {
      "cell_type": "code",
      "source": [
        "sol = np.zeros((m,n))\n",
        "\n",
        "for i in I:\n",
        "  for j in J:\n",
        "    sol[i,j] = x[i][j].x\n",
        "\n",
        "sol"
      ],
      "metadata": {
        "colab": {
          "base_uri": "https://localhost:8080/"
        },
        "id": "ekwN4xejOp46",
        "outputId": "e7c34999-1265-4007-ebf4-962e3a3ec014"
      },
      "execution_count": null,
      "outputs": [
        {
          "output_type": "execute_result",
          "data": {
            "text/plain": [
              "array([[0.        , 0.40626763, 0.59373237, 0.        , 0.        ],\n",
              "       [0.        , 0.        , 0.59373237, 0.40626763, 0.        ],\n",
              "       [0.22203708, 0.        , 0.40626763, 0.        , 0.37169529],\n",
              "       [0.        , 0.13956335, 0.        , 0.        , 0.86043665],\n",
              "       [0.        , 0.59373237, 0.        , 0.40626763, 0.        ],\n",
              "       [1.        , 0.        , 0.        , 0.        , 0.        ],\n",
              "       [0.        , 0.        , 0.07247057, 0.15966137, 0.76786806],\n",
              "       [0.        , 0.        , 0.40626763, 0.59373237, 0.        ],\n",
              "       [0.        , 0.40626763, 0.        , 0.        , 0.59373237],\n",
              "       [0.76786806, 0.        , 0.        , 0.        , 0.23213194]])"
            ]
          },
          "metadata": {},
          "execution_count": 43
        }
      ]
    },
    {
      "cell_type": "code",
      "source": [
        "model.objective.x"
      ],
      "metadata": {
        "colab": {
          "base_uri": "https://localhost:8080/"
        },
        "id": "Nb0nDYzuOwt6",
        "outputId": "acffb73f-75b1-482f-b6fb-11986b746c75"
      },
      "execution_count": null,
      "outputs": [
        {
          "output_type": "execute_result",
          "data": {
            "text/plain": [
              "435.58167122148905"
            ]
          },
          "metadata": {},
          "execution_count": 40
        }
      ]
    },
    {
      "cell_type": "markdown",
      "source": [
        "From the solution previously obtained in **1.** we can observe that the linear relaxation\n",
        "provided a lower bound of 410.02, while the formulation with the addition of valid cover\n",
        "inequalities gives a lower bound of value 435.58, which is closer to the optimal value of\n",
        "the original ILP problem. This confirms that these cuts restrict the feasible region of the\n",
        "linear relaxation."
      ],
      "metadata": {
        "id": "CzLGwXMzwXwa"
      }
    },
    {
      "cell_type": "markdown",
      "source": [
        " **5. Solve the problem with the algorithm in MIP, observing the difference\n",
        "of the branch-and-bound nodes in the case where the cutting planes generation is enabled (default settings) or completely disabled.**"
      ],
      "metadata": {
        "id": "a3oEYA5FdgyM"
      }
    },
    {
      "cell_type": "markdown",
      "source": [
        "The generation of cutting planes can be typically used within a branch-and-bound method, obtaining a method usually called branch-and-cut. Enabling the MIP algorithm option that allows\n",
        "for the generation of cover inequalities we can notice the difference."
      ],
      "metadata": {
        "id": "GfEJRnktd97T"
      }
    },
    {
      "cell_type": "markdown",
      "source": [
        "Solution obtained enabling only the separation of cover inequalities:"
      ],
      "metadata": {
        "id": "cAOnnArYeGXC"
      }
    },
    {
      "cell_type": "code",
      "source": [
        "# optimizing\n",
        "%%python\n",
        "\n",
        "import mip\n",
        "\n",
        "import pandas as pd\n",
        "\n",
        "# SET AND PARAMETER DEFINITION\n",
        "\n",
        "m = 10\n",
        "\n",
        "I = range(m)\n",
        "\n",
        "n = 5\n",
        "\n",
        "J = range(n)\n",
        "\n",
        "c = pd.read_csv('c.csv',sep=';').values\n",
        "\n",
        "w = pd.read_csv('w.csv',sep=';').values\n",
        "\n",
        "b = pd.read_csv('b.csv',sep=';').values.flatten()\n",
        "\n",
        "model = mip.Model()\n",
        "\n",
        "x = [[model.add_var(var_type=mip.BINARY,name ='x_'+str(i)+str(j)) for j in J] for i in I] \n",
        "\n",
        "model.objective = mip.minimize(mip.xsum(x[i][j]*c[i,j] for j in J for i in I))\n",
        "\n",
        "# CONSTRAINT\n",
        "# Assignment\n",
        "for i in I:\n",
        "  model.add_constr(mip.xsum(x[i][j] for j in J) == 1)\n",
        "\n",
        "# Knapsack\n",
        "for j in J:\n",
        "  model.add_constr(mip.xsum(w[i,j]*x[i][j] for i in I)<= b[j])\n",
        "#model.cuts = 0\n",
        "#model.clique = 0\n",
        "model.verbose = 1\n",
        "model.preprocess = 0\n",
        "model.optimize()\n",
        "#progress = model.search_progress_log"
      ],
      "metadata": {
        "colab": {
          "base_uri": "https://localhost:8080/"
        },
        "id": "yn8xrHAwgxd8",
        "outputId": "b9e10c61-7243-44ea-bbb1-3d879839c3bb"
      },
      "execution_count": 11,
      "outputs": [
        {
          "output_type": "stream",
          "name": "stdout",
          "text": [
            "Welcome to the CBC MILP Solver \n",
            "Version: Trunk\n",
            "Build Date: Oct 24 2021 \n",
            "\n",
            "Starting solution of the Linear programming relaxation problem using Primal Simplex\n",
            "\n",
            "Coin0506I Presolve 15 (0) rows, 50 (0) columns and 100 (0) elements\n",
            "Clp1000I sum of infeasibilities 3.64086e-05 - average 2.42724e-06, 25 fixed columns\n",
            "Coin0506I Presolve 11 (-4) rows, 22 (-28) columns and 44 (-56) elements\n",
            "Clp0029I End of values pass after 22 iterations\n",
            "Clp0000I Optimal - objective value 410.02602\n",
            "Clp0000I Optimal - objective value 410.02602\n",
            "Coin0511I After Postsolve, objective 410.02602, infeasibilities - dual 0 (0), primal 0 (0)\n",
            "Clp0000I Optimal - objective value 410.02602\n",
            "Clp0000I Optimal - objective value 410.02602\n",
            "Clp0000I Optimal - objective value 410.02602\n",
            "Clp0032I Optimal objective 410.0260235 - 0 iterations time 0.002, Idiot 0.00\n",
            "\n",
            "Starting MIP optimization\n",
            "Coin3009W Conflict graph built in 0.000 seconds, density: 6.554%\n",
            "Cgl0015I Clique Strengthening extended 0 cliques, 0 were dominated\n",
            "Cbc0045I Nauty did not find any useful orbits in time 0.000136\n",
            "Cbc0038I Initial state - 8 integers unsatisfied sum - 2.69531\n",
            "Cbc0038I Pass   1: suminf.    1.46806 (7) obj. 423.841 iterations 4\n",
            "Cbc0038I Pass   2: suminf.    0.83534 (4) obj. 457.599 iterations 11\n",
            "Cbc0038I Pass   3: suminf.    0.83534 (4) obj. 457.599 iterations 0\n",
            "Cbc0038I Pass   4: suminf.    1.25907 (5) obj. 471.821 iterations 7\n",
            "Cbc0038I Pass   5: suminf.    0.33711 (5) obj. 457.518 iterations 7\n",
            "Cbc0038I Pass   6: suminf.    1.69095 (5) obj. 503.663 iterations 6\n",
            "Cbc0038I Pass   7: suminf.    1.11261 (5) obj. 498.169 iterations 3\n",
            "Cbc0038I Pass   8: suminf.    1.91399 (5) obj. 506.34 iterations 4\n",
            "Cbc0038I Pass   9: suminf.    2.48229 (8) obj. 502.095 iterations 7\n",
            "Cbc0038I Pass  10: suminf.    0.93976 (4) obj. 489.562 iterations 8\n",
            "Cbc0038I Pass  11: suminf.    1.00000 (4) obj. 482.961 iterations 3\n",
            "Cbc0038I Pass  12: suminf.    1.00000 (4) obj. 482.961 iterations 0\n",
            "Cbc0038I Pass  13: suminf.    1.00000 (4) obj. 482.952 iterations 3\n",
            "Cbc0038I Pass  14: suminf.    3.29289 (9) obj. 491.646 iterations 8\n",
            "Cbc0038I Pass  15: suminf.    1.74558 (7) obj. 448.366 iterations 4\n",
            "Cbc0038I Pass  16: suminf.    1.69846 (7) obj. 458.399 iterations 7\n",
            "Cbc0038I Pass  17: suminf.    1.34581 (7) obj. 459.7 iterations 2\n",
            "Cbc0038I Pass  18: suminf.    0.97155 (6) obj. 435.998 iterations 12\n",
            "Cbc0038I Pass  19: suminf.    0.90657 (6) obj. 435.049 iterations 4\n",
            "Cbc0038I Pass  20: suminf.    1.89957 (7) obj. 467.344 iterations 8\n",
            "Cbc0038I Pass  21: suminf.    1.89957 (7) obj. 467.344 iterations 0\n",
            "Cbc0038I Pass  22: suminf.    1.95374 (6) obj. 444.163 iterations 4\n",
            "Cbc0038I Pass  23: suminf.    2.47393 (9) obj. 531.874 iterations 9\n",
            "Cbc0038I Pass  24: suminf.    1.68336 (6) obj. 524.742 iterations 3\n",
            "Cbc0038I Pass  25: suminf.    1.52486 (6) obj. 499.148 iterations 9\n",
            "Cbc0038I Pass  26: suminf.    0.89957 (6) obj. 497.708 iterations 4\n",
            "Cbc0038I Pass  27: suminf.    2.34679 (7) obj. 477.114 iterations 8\n",
            "Cbc0038I Pass  28: suminf.    0.87379 (4) obj. 486.152 iterations 8\n",
            "Cbc0038I Pass  29: suminf.    1.90722 (6) obj. 490.758 iterations 8\n",
            "Cbc0038I Pass  30: suminf.    0.66771 (5) obj. 476.758 iterations 4\n",
            "Cbc0038I No solution found this major pass\n",
            "Cbc0038I Before mini branch and bound, 18 integers at bound fixed and 0 continuous\n",
            "Cbc0038I Full problem 15 rows 50 columns, reduced to 12 rows 27 columns\n",
            "Cbc0038I Mini branch and bound improved solution from 1.79769e+308 to 479 (0.00 seconds)\n",
            "Cbc0038I Round again with cutoff of 471.203\n",
            "Cbc0038I Reduced cost fixing fixed 5 variables on major pass 2\n",
            "Cbc0038I Pass  30: suminf.    1.46806 (7) obj. 423.841 iterations 0\n",
            "Cbc0038I Pass  31: suminf.    0.83534 (4) obj. 457.599 iterations 11\n",
            "Cbc0038I Pass  32: suminf.    0.83534 (4) obj. 457.599 iterations 0\n",
            "Cbc0038I Pass  33: suminf.    1.22567 (5) obj. 471.203 iterations 8\n",
            "Cbc0038I Pass  34: suminf.    0.33711 (5) obj. 457.518 iterations 7\n",
            "Cbc0038I Pass  35: suminf.    1.03570 (6) obj. 471.203 iterations 5\n",
            "Cbc0038I Pass  36: suminf.    0.36137 (8) obj. 471.203 iterations 10\n",
            "Cbc0038I Pass  37: suminf.    0.10667 (3) obj. 470.316 iterations 8\n",
            "Cbc0038I Pass  38: suminf.    0.16536 (3) obj. 470.844 iterations 4\n",
            "Cbc0038I Pass  39: suminf.    0.31560 (8) obj. 471.203 iterations 5\n",
            "Cbc0038I Pass  40: suminf.    0.91804 (8) obj. 471.203 iterations 7\n",
            "Cbc0038I Pass  41: suminf.    1.93976 (6) obj. 455.914 iterations 11\n",
            "Cbc0038I Pass  42: suminf.    1.00000 (5) obj. 459.856 iterations 2\n",
            "Cbc0038I Pass  43: suminf.    0.93976 (3) obj. 463.951 iterations 6\n",
            "Cbc0038I Pass  44: suminf.    0.93976 (4) obj. 457.376 iterations 5\n",
            "Cbc0038I Pass  45: suminf.    1.00000 (5) obj. 459.856 iterations 2\n",
            "Cbc0038I Pass  46: suminf.    1.07700 (6) obj. 468.733 iterations 6\n",
            "Cbc0038I Pass  47: suminf.    1.50148 (6) obj. 471.203 iterations 10\n",
            "Cbc0038I Pass  48: suminf.    2.51651 (10) obj. 471.203 iterations 7\n",
            "Cbc0038I Pass  49: suminf.    1.28480 (4) obj. 465.695 iterations 6\n",
            "Cbc0038I Pass  50: suminf.    0.99918 (4) obj. 456.359 iterations 6\n",
            "Cbc0038I Pass  51: suminf.    0.29630 (4) obj. 441.95 iterations 4\n",
            "Cbc0038I Pass  52: suminf.    0.99918 (4) obj. 456.359 iterations 3\n",
            "Cbc0038I Pass  53: suminf.    2.08969 (7) obj. 471.203 iterations 8\n",
            "Cbc0038I Pass  54: suminf.    1.12791 (5) obj. 462.988 iterations 4\n",
            "Cbc0038I Pass  55: suminf.    1.47059 (6) obj. 451.793 iterations 5\n",
            "Cbc0038I Pass  56: suminf.    1.47059 (6) obj. 451.793 iterations 0\n",
            "Cbc0038I Pass  57: suminf.    1.00000 (3) obj. 465.438 iterations 5\n",
            "Cbc0038I Pass  58: suminf.    1.00000 (4) obj. 468.616 iterations 3\n",
            "Cbc0038I Pass  59: suminf.    2.61468 (8) obj. 471.203 iterations 10\n",
            "Cbc0038I No solution found this major pass\n",
            "Cbc0038I Before mini branch and bound, 15 integers at bound fixed and 0 continuous\n",
            "Cbc0038I Full problem 15 rows 50 columns, reduced to 13 rows 33 columns\n",
            "Cbc0038I Mini branch and bound did not improve solution (0.01 seconds)\n",
            "Cbc0038I After 0.01 seconds - Feasibility pump exiting with objective of 479 - took 0.01 seconds\n",
            "Cbc0012I Integer solution of 479 found by feasibility pump after 0 iterations and 0 nodes (0.01 seconds)\n",
            "Cbc0038I Full problem 15 rows 50 columns, reduced to 3 rows 5 columns\n",
            "Cbc0006I The LP relaxation is infeasible or too expensive\n",
            "Cbc0031I 4 added rows had average density of 7.25\n",
            "Cbc0013I At root node, 8 cuts changed objective from 410.02602 to 478.65714 in 2 passes\n",
            "Cbc0014I Cut generator 0 (Probing) - 29 row cuts average 4.5 elements, 6 column cuts (6 active)  in 0.000 seconds - new frequency is 1\n",
            "Cbc0014I Cut generator 1 (Gomory) - 4 row cuts average 16.2 elements, 0 column cuts (0 active)  in 0.000 seconds - new frequency is 1\n",
            "Cbc0014I Cut generator 2 (Knapsack) - 6 row cuts average 5.8 elements, 0 column cuts (0 active)  in 0.000 seconds - new frequency is 1\n",
            "Cbc0014I Cut generator 3 (Clique) - 4 row cuts average 7.0 elements, 0 column cuts (0 active)  in 0.000 seconds - new frequency is 1\n",
            "Cbc0014I Cut generator 4 (OddWheel) - 0 row cuts average 0.0 elements, 0 column cuts (0 active)  in 0.000 seconds - new frequency is -100\n",
            "Cbc0014I Cut generator 5 (MixedIntegerRounding2) - 0 row cuts average 0.0 elements, 0 column cuts (0 active)  in 0.000 seconds - new frequency is -100\n",
            "Cbc0014I Cut generator 6 (FlowCover) - 0 row cuts average 0.0 elements, 0 column cuts (0 active)  in 0.000 seconds - new frequency is -100\n",
            "Cbc0014I Cut generator 7 (TwoMirCuts) - 20 row cuts average 13.6 elements, 0 column cuts (0 active)  in 0.000 seconds - new frequency is -100\n",
            "Cbc0014I Cut generator 8 (ZeroHalf) - 3 row cuts average 10.0 elements, 0 column cuts (0 active)  in 0.000 seconds - new frequency is 1\n",
            "Cbc0001I Search completed - best objective 479, took 21 iterations and 0 nodes (0.02 seconds)\n",
            "Cbc0035I Maximum depth 0, 17 variables fixed on reduced cost\n",
            "Total time (CPU seconds):       0.01   (Wallclock seconds):       0.02\n",
            "\n"
          ]
        }
      ]
    },
    {
      "cell_type": "markdown",
      "source": [
        "Solution obtained disabling the cover inequalities:"
      ],
      "metadata": {
        "id": "vAoRLSSmeKra"
      }
    },
    {
      "cell_type": "code",
      "source": [
        "# optimizing\n",
        "%%python\n",
        "\n",
        "import mip\n",
        "\n",
        "import pandas as pd\n",
        "\n",
        "# SET AND PARAMETER DEFINITION\n",
        "\n",
        "m = 10\n",
        "\n",
        "I = range(m)\n",
        "\n",
        "n = 5\n",
        "\n",
        "J = range(n)\n",
        "\n",
        "c = pd.read_csv('c.csv',sep=';').values\n",
        "\n",
        "w = pd.read_csv('w.csv',sep=';').values\n",
        "\n",
        "b = pd.read_csv('b.csv',sep=';').values.flatten()\n",
        "\n",
        "model = mip.Model()\n",
        "\n",
        "x = [[model.add_var(var_type=mip.BINARY,name ='x_'+str(i)+str(j)) for j in J] for i in I] \n",
        "\n",
        "model.objective = mip.minimize(mip.xsum(x[i][j]*c[i,j] for j in J for i in I))\n",
        "\n",
        "# CONSTRAINT\n",
        "# Assignment\n",
        "for i in I:\n",
        "  model.add_constr(mip.xsum(x[i][j] for j in J) == 1)\n",
        "\n",
        "# Knapsack\n",
        "for j in J:\n",
        "  model.add_constr(mip.xsum(w[i,j]*x[i][j] for i in I)<= b[j])\n",
        "model.cuts = 0\n",
        "model.clique = 0\n",
        "model.verbose = 1\n",
        "model.preprocess = 0\n",
        "model.optimize()\n",
        "#progress = model.search_progress_log"
      ],
      "metadata": {
        "colab": {
          "base_uri": "https://localhost:8080/"
        },
        "id": "kJyG8rmSZT8V",
        "outputId": "a89b7a03-0827-441e-a786-d467cd656902"
      },
      "execution_count": 10,
      "outputs": [
        {
          "output_type": "stream",
          "name": "stdout",
          "text": [
            "Welcome to the CBC MILP Solver \n",
            "Version: Trunk\n",
            "Build Date: Oct 24 2021 \n",
            "\n",
            "Starting solution of the Linear programming relaxation problem using Primal Simplex\n",
            "\n",
            "Coin0506I Presolve 15 (0) rows, 50 (0) columns and 100 (0) elements\n",
            "Clp1000I sum of infeasibilities 3.64086e-05 - average 2.42724e-06, 25 fixed columns\n",
            "Coin0506I Presolve 11 (-4) rows, 22 (-28) columns and 44 (-56) elements\n",
            "Clp0029I End of values pass after 22 iterations\n",
            "Clp0000I Optimal - objective value 410.02602\n",
            "Clp0000I Optimal - objective value 410.02602\n",
            "Coin0511I After Postsolve, objective 410.02602, infeasibilities - dual 0 (0), primal 0 (0)\n",
            "Clp0000I Optimal - objective value 410.02602\n",
            "Clp0000I Optimal - objective value 410.02602\n",
            "Clp0000I Optimal - objective value 410.02602\n",
            "Clp0032I Optimal objective 410.0260235 - 0 iterations time 0.002, Idiot 0.00\n",
            "\n",
            "Starting MIP optimization\n",
            "Cbc0045I Nauty did not find any useful orbits in time 0\n",
            "Cbc0038I Initial state - 8 integers unsatisfied sum - 2.69531\n",
            "Cbc0038I Pass   1: suminf.    1.46806 (7) obj. 423.841 iterations 4\n",
            "Cbc0038I Pass   2: suminf.    0.83534 (4) obj. 457.599 iterations 11\n",
            "Cbc0038I Pass   3: suminf.    0.83534 (4) obj. 457.599 iterations 0\n",
            "Cbc0038I Pass   4: suminf.    1.25907 (5) obj. 471.821 iterations 7\n",
            "Cbc0038I Pass   5: suminf.    0.33711 (5) obj. 457.518 iterations 7\n",
            "Cbc0038I Pass   6: suminf.    1.69095 (5) obj. 503.663 iterations 6\n",
            "Cbc0038I Pass   7: suminf.    1.11261 (5) obj. 498.169 iterations 3\n",
            "Cbc0038I Pass   8: suminf.    1.91399 (5) obj. 506.34 iterations 4\n",
            "Cbc0038I Pass   9: suminf.    2.48229 (8) obj. 502.095 iterations 7\n",
            "Cbc0038I Pass  10: suminf.    0.93976 (4) obj. 489.562 iterations 8\n",
            "Cbc0038I Pass  11: suminf.    1.00000 (4) obj. 482.961 iterations 3\n",
            "Cbc0038I Pass  12: suminf.    1.00000 (4) obj. 482.961 iterations 0\n",
            "Cbc0038I Pass  13: suminf.    1.00000 (4) obj. 482.952 iterations 3\n",
            "Cbc0038I Pass  14: suminf.    3.29289 (9) obj. 491.646 iterations 8\n",
            "Cbc0038I Pass  15: suminf.    1.74558 (7) obj. 448.366 iterations 4\n",
            "Cbc0038I Pass  16: suminf.    1.69846 (7) obj. 458.399 iterations 7\n",
            "Cbc0038I Pass  17: suminf.    1.34581 (7) obj. 459.7 iterations 2\n",
            "Cbc0038I Pass  18: suminf.    0.97155 (6) obj. 435.998 iterations 12\n",
            "Cbc0038I Pass  19: suminf.    0.90657 (6) obj. 435.049 iterations 4\n",
            "Cbc0038I Pass  20: suminf.    1.89957 (7) obj. 467.344 iterations 8\n",
            "Cbc0038I Pass  21: suminf.    1.89957 (7) obj. 467.344 iterations 0\n",
            "Cbc0038I Pass  22: suminf.    1.95374 (6) obj. 444.163 iterations 4\n",
            "Cbc0038I Pass  23: suminf.    2.47393 (9) obj. 531.874 iterations 9\n",
            "Cbc0038I Pass  24: suminf.    1.68336 (6) obj. 524.742 iterations 3\n",
            "Cbc0038I Pass  25: suminf.    1.52486 (6) obj. 499.148 iterations 9\n",
            "Cbc0038I Pass  26: suminf.    0.89957 (6) obj. 497.708 iterations 4\n",
            "Cbc0038I Pass  27: suminf.    2.34679 (7) obj. 477.114 iterations 8\n",
            "Cbc0038I Pass  28: suminf.    0.87379 (4) obj. 486.152 iterations 8\n",
            "Cbc0038I Pass  29: suminf.    1.90722 (6) obj. 490.758 iterations 8\n",
            "Cbc0038I Pass  30: suminf.    0.66771 (5) obj. 476.758 iterations 4\n",
            "Cbc0038I No solution found this major pass\n",
            "Cbc0038I Before mini branch and bound, 18 integers at bound fixed and 0 continuous\n",
            "Cbc0038I Full problem 15 rows 50 columns, reduced to 12 rows 27 columns\n",
            "Cbc0038I Mini branch and bound improved solution from 1.79769e+308 to 479 (0.01 seconds)\n",
            "Cbc0038I Round again with cutoff of 471.203\n",
            "Cbc0038I Reduced cost fixing fixed 5 variables on major pass 2\n",
            "Cbc0038I Pass  30: suminf.    1.46806 (7) obj. 423.841 iterations 0\n",
            "Cbc0038I Pass  31: suminf.    0.83534 (4) obj. 457.599 iterations 11\n",
            "Cbc0038I Pass  32: suminf.    0.83534 (4) obj. 457.599 iterations 0\n",
            "Cbc0038I Pass  33: suminf.    1.22567 (5) obj. 471.203 iterations 8\n",
            "Cbc0038I Pass  34: suminf.    0.33711 (5) obj. 457.518 iterations 7\n",
            "Cbc0038I Pass  35: suminf.    1.03570 (6) obj. 471.203 iterations 5\n",
            "Cbc0038I Pass  36: suminf.    0.36137 (8) obj. 471.203 iterations 10\n",
            "Cbc0038I Pass  37: suminf.    0.10667 (3) obj. 470.316 iterations 8\n",
            "Cbc0038I Pass  38: suminf.    0.16536 (3) obj. 470.844 iterations 4\n",
            "Cbc0038I Pass  39: suminf.    0.31560 (8) obj. 471.203 iterations 5\n",
            "Cbc0038I Pass  40: suminf.    0.91804 (8) obj. 471.203 iterations 7\n",
            "Cbc0038I Pass  41: suminf.    1.93976 (6) obj. 455.914 iterations 11\n",
            "Cbc0038I Pass  42: suminf.    1.00000 (5) obj. 459.856 iterations 2\n",
            "Cbc0038I Pass  43: suminf.    0.93976 (3) obj. 463.951 iterations 6\n",
            "Cbc0038I Pass  44: suminf.    0.93976 (4) obj. 457.376 iterations 5\n",
            "Cbc0038I Pass  45: suminf.    1.00000 (5) obj. 459.856 iterations 2\n",
            "Cbc0038I Pass  46: suminf.    1.07700 (6) obj. 468.733 iterations 6\n",
            "Cbc0038I Pass  47: suminf.    1.50148 (6) obj. 471.203 iterations 10\n",
            "Cbc0038I Pass  48: suminf.    2.51651 (10) obj. 471.203 iterations 7\n",
            "Cbc0038I Pass  49: suminf.    1.28480 (4) obj. 465.695 iterations 6\n",
            "Cbc0038I Pass  50: suminf.    0.99918 (4) obj. 456.359 iterations 6\n",
            "Cbc0038I Pass  51: suminf.    0.29630 (4) obj. 441.95 iterations 4\n",
            "Cbc0038I Pass  52: suminf.    0.99918 (4) obj. 456.359 iterations 3\n",
            "Cbc0038I Pass  53: suminf.    2.08969 (7) obj. 471.203 iterations 8\n",
            "Cbc0038I Pass  54: suminf.    1.12791 (5) obj. 462.988 iterations 4\n",
            "Cbc0038I Pass  55: suminf.    1.47059 (6) obj. 451.793 iterations 5\n",
            "Cbc0038I Pass  56: suminf.    1.47059 (6) obj. 451.793 iterations 0\n",
            "Cbc0038I Pass  57: suminf.    1.00000 (3) obj. 465.438 iterations 5\n",
            "Cbc0038I Pass  58: suminf.    1.00000 (4) obj. 468.616 iterations 3\n",
            "Cbc0038I Pass  59: suminf.    2.61468 (8) obj. 471.203 iterations 10\n",
            "Cbc0038I No solution found this major pass\n",
            "Cbc0038I Before mini branch and bound, 15 integers at bound fixed and 0 continuous\n",
            "Cbc0038I Full problem 15 rows 50 columns, reduced to 13 rows 33 columns\n",
            "Cbc0038I Mini branch and bound did not improve solution (0.01 seconds)\n",
            "Cbc0038I After 0.01 seconds - Feasibility pump exiting with objective of 479 - took 0.01 seconds\n",
            "Cbc0012I Integer solution of 479 found by feasibility pump after 0 iterations and 0 nodes (0.01 seconds)\n",
            "Cbc0038I Full problem 15 rows 50 columns, reduced to 3 rows 5 columns\n",
            "Cbc0001I Search completed - best objective 479, took 153 iterations and 30 nodes (0.03 seconds)\n",
            "Cbc0032I Strong branching done 194 times (441 iterations), fathomed 8 nodes and fixed 12 variables\n",
            "Cbc0035I Maximum depth 9, 86 variables fixed on reduced cost\n",
            "Total time (CPU seconds):       0.02   (Wallclock seconds):       0.03\n",
            "\n"
          ]
        }
      ]
    },
    {
      "cell_type": "markdown",
      "source": [
        "Activating the generation of cover inequalities the number of nodes of the branch-and-bound tree is significantly reduced. This confirms that additing the valid inequalities makes stronger the formulations of the branch-and-bound subproblems, providing better\n",
        "lower bounds, thus making the branch-and-bound more efficient."
      ],
      "metadata": {
        "id": "AhbYHtLvePqj"
      }
    },
    {
      "cell_type": "code",
      "source": [
        "dir(progress)"
      ],
      "metadata": {
        "id": "M6TIBmWpiBhD"
      },
      "execution_count": null,
      "outputs": []
    },
    {
      "cell_type": "code",
      "source": [
        "model.cuts_generator = SubTourCutGenerator(F, x, V)\n",
        "model.lazy_constrs_generator = SubTourCutGenerator(F, x, V)\n",
        "model.optimize()"
      ],
      "metadata": {
        "id": "J2bP6G-5g_5Q"
      },
      "execution_count": null,
      "outputs": []
    },
    {
      "cell_type": "code",
      "source": [
        "model = mip.Model()\n",
        "\n",
        "nc = 0\n",
        "\n",
        "CUTS = []\n",
        "\n",
        "C = []\n",
        "\n",
        "J_bar = []\n",
        "\n",
        "\n",
        "\n",
        "\n",
        "\n",
        "newConstraints = True\n",
        "\n",
        "while newConstraints:\n",
        "\n",
        "    x = [[model.add_var(var_type=BINARY,name ='x_'+str(i)+str(j)) for j in J] for i in I] \n",
        "\n",
        "    model.objective = mip.minimize(mip.xsum(x[i][j]*c[i,j] for j in J for i in I))\n",
        "\n",
        "    # CONSTRAINT\n",
        "    # Assignment\n",
        "    for i in I:\n",
        "      model.add_constr(mip.xsum(x[i][j] for j in J) == 1)\n",
        "\n",
        "    # Knapsack\n",
        "    for j in J:\n",
        "      model.add_constr(mip.xsum(w[i,j]*x[i][j] for i in I)<= b[j])\n",
        "    for k in CUTS:\n",
        "      model.add_constr(mip.xsum(x[i][J_bar[k]] for i in C[k])<= len(C[k])-1) \n",
        "    model.optimize(relax=True)\n",
        "\n",
        "    for j in J:\n",
        "\n",
        "      j_bar = j\n",
        "      x_star = [x[i][j].x if x[i][j].x <= 1 else 1 for i in I]\n",
        "      \n",
        "      newConstraints = False\n",
        "      print(x_star)\n",
        "      separation = mip.Model()\n",
        "      z = [separation.add_var(var_type=BINARY) for i in I]\n",
        "      separation.objective = mip.minimize(mip.xsum(z[i]*(1 - x_star[i]) for i in I))\n",
        "      separation.add_constr(mip.xsum(w[i,j_bar]*z[i] for i in I)>= b[j_bar] + 1) \n",
        "      separation.optimize()\n",
        "\n",
        "\n",
        "      violation = separation.objective.x\n",
        "\n",
        "      if violation > 0.1:\n",
        "        CUTS.append(nc)\n",
        "        nc += 1\n",
        "        C.append([i for i in I if z[i].x == 1])\n",
        "        print('Set C:')\n",
        "        print(C[-1])\n",
        "        print('J bar:')\n",
        "        print(j_bar)\n",
        "        J_bar.append(j_bar)\n",
        "        newConstraints = True\n",
        "        \n",
        "        break\n",
        "    \n"
      ],
      "metadata": {
        "colab": {
          "base_uri": "https://localhost:8080/",
          "height": 1000
        },
        "id": "Ey2ELXqjJXzs",
        "outputId": "d6a522e0-11fa-4e50-f8cf-930456864f94"
      },
      "execution_count": null,
      "outputs": [
        {
          "output_type": "stream",
          "name": "stdout",
          "text": [
            "[0.0, 0.0, 0.0, 0.0, 0.0, 1.0, 0.5918367346938774, 0.3632897603485837, 0.0, 0.0]\n",
            "Set C:\n",
            "[5, 6]\n",
            "J bar:\n",
            "0\n",
            "[0.0, 0.0, 0.0, 0.0, 0.0, 1.0, 0.0, 0.3632897603485839, 0.0, 0.5272727272727273]\n",
            "Set C:\n",
            "[5, 7]\n",
            "J bar:\n",
            "0\n",
            "[0.0, 0.0, 0.17915659414450713, 0.0, 0.0, 1.0, 0.0, 0.0, 0.0, 0.5272727272727273]\n",
            "Set C:\n",
            "[5, 7]\n",
            "J bar:\n",
            "0\n",
            "[0.0, 0.0, 0.17915659414450713, 0.0, 0.0, 1.0, 0.0, 0.0, 0.0, 0.5272727272727273]\n",
            "Set C:\n",
            "[5, 7]\n",
            "J bar:\n",
            "0\n",
            "[0.0, 0.0, 0.17915659414450713, 0.0, 0.0, 1.0, 0.0, 0.0, 0.0, 0.5272727272727273]\n",
            "Set C:\n",
            "[5, 7]\n",
            "J bar:\n",
            "0\n",
            "[0.0, 0.0, 0.17915659414450713, 0.0, 0.0, 1.0, 0.0, 0.0, 0.0, 0.5272727272727273]\n",
            "Set C:\n",
            "[5, 7]\n",
            "J bar:\n",
            "0\n",
            "[0.0, 0.0, 0.17915659414450713, 0.0, 0.0, 1.0, 0.0, 0.0, 0.0, 0.5272727272727273]\n",
            "Set C:\n",
            "[5, 7]\n",
            "J bar:\n",
            "0\n",
            "[0.0, 0.0, 0.17915659414450713, 0.0, 0.0, 1.0, 0.0, 0.0, 0.0, 0.5272727272727273]\n",
            "Set C:\n",
            "[5, 7]\n",
            "J bar:\n",
            "0\n",
            "[0.0, 0.0, 0.17915659414450713, 0.0, 0.0, 1.0, 0.0, 0.0, 0.0, 0.5272727272727273]\n",
            "Set C:\n",
            "[5, 7]\n",
            "J bar:\n",
            "0\n",
            "[0.0, 0.0, 0.17915659414450713, 0.0, 0.0, 1.0, 0.0, 0.0, 0.0, 0.5272727272727273]\n",
            "Set C:\n",
            "[5, 7]\n",
            "J bar:\n",
            "0\n",
            "[0.0, 0.0, 0.17915659414450713, 0.0, 0.0, 1.0, 0.0, 0.0, 0.0, 0.5272727272727273]\n",
            "Set C:\n",
            "[5, 7]\n",
            "J bar:\n",
            "0\n",
            "[0.0, 0.0, 0.17915659414450713, 0.0, 0.0, 1.0, 0.0, 0.0, 0.0, 0.5272727272727273]\n",
            "Set C:\n",
            "[5, 7]\n",
            "J bar:\n",
            "0\n",
            "[0.0, 0.0, 0.17915659414450713, 0.0, 0.0, 1.0, 0.0, 0.0, 0.0, 0.5272727272727273]\n",
            "Set C:\n",
            "[5, 7]\n",
            "J bar:\n",
            "0\n",
            "[0.0, 0.0, 0.17915659414450713, 0.0, 0.0, 1.0, 0.0, 0.0, 0.0, 0.5272727272727273]\n",
            "Set C:\n",
            "[5, 7]\n",
            "J bar:\n",
            "0\n",
            "[0.0, 0.0, 0.17915659414450713, 0.0, 0.0, 1.0, 0.0, 0.0, 0.0, 0.5272727272727273]\n",
            "Set C:\n",
            "[5, 7]\n",
            "J bar:\n",
            "0\n",
            "[0.0, 0.0, 0.17915659414450713, 0.0, 0.0, 1.0, 0.0, 0.0, 0.0, 0.5272727272727273]\n",
            "Set C:\n",
            "[5, 7]\n",
            "J bar:\n",
            "0\n",
            "[0.0, 0.0, 0.17915659414450713, 0.0, 0.0, 1.0, 0.0, 0.0, 0.0, 0.5272727272727273]\n",
            "Set C:\n",
            "[5, 7]\n",
            "J bar:\n",
            "0\n",
            "[0.0, 0.0, 0.17915659414450713, 0.0, 0.0, 1.0, 0.0, 0.0, 0.0, 0.5272727272727273]\n",
            "Set C:\n",
            "[5, 7]\n",
            "J bar:\n",
            "0\n",
            "[0.0, 0.0, 0.17915659414450713, 0.0, 0.0, 1.0, 0.0, 0.0, 0.0, 0.5272727272727273]\n",
            "Set C:\n",
            "[5, 7]\n",
            "J bar:\n",
            "0\n",
            "[0.0, 0.0, 0.17915659414450713, 0.0, 0.0, 1.0, 0.0, 0.0, 0.0, 0.5272727272727273]\n",
            "Set C:\n",
            "[5, 7]\n",
            "J bar:\n",
            "0\n",
            "[0.0, 0.0, 0.17915659414450713, 0.0, 0.0, 1.0, 0.0, 0.0, 0.0, 0.5272727272727273]\n",
            "Set C:\n",
            "[5, 7]\n",
            "J bar:\n",
            "0\n",
            "[0.0, 0.0, 0.17915659414450713, 0.0, 0.0, 1.0, 0.0, 0.0, 0.0, 0.5272727272727273]\n",
            "Set C:\n",
            "[5, 7]\n",
            "J bar:\n",
            "0\n",
            "[0.0, 0.0, 0.17915659414450713, 0.0, 0.0, 1.0, 0.0, 0.0, 0.0, 0.5272727272727273]\n",
            "Set C:\n",
            "[5, 7]\n",
            "J bar:\n",
            "0\n",
            "[0.0, 0.0, 0.17915659414450713, 0.0, 0.0, 1.0, 0.0, 0.0, 0.0, 0.5272727272727273]\n",
            "Set C:\n",
            "[5, 7]\n",
            "J bar:\n",
            "0\n",
            "[0.0, 0.0, 0.17915659414450713, 0.0, 0.0, 1.0, 0.0, 0.0, 0.0, 0.5272727272727273]\n",
            "Set C:\n",
            "[5, 7]\n",
            "J bar:\n",
            "0\n",
            "[0.0, 0.0, 0.17915659414450713, 0.0, 0.0, 1.0, 0.0, 0.0, 0.0, 0.5272727272727273]\n",
            "Set C:\n",
            "[5, 7]\n",
            "J bar:\n",
            "0\n",
            "[0.0, 0.0, 0.17915659414450713, 0.0, 0.0, 1.0, 0.0, 0.0, 0.0, 0.5272727272727273]\n",
            "Set C:\n",
            "[5, 7]\n",
            "J bar:\n",
            "0\n",
            "[0.0, 0.0, 0.17915659414450713, 0.0, 0.0, 1.0, 0.0, 0.0, 0.0, 0.5272727272727273]\n",
            "Set C:\n",
            "[5, 7]\n",
            "J bar:\n",
            "0\n",
            "[0.0, 0.0, 0.17915659414450713, 0.0, 0.0, 1.0, 0.0, 0.0, 0.0, 0.5272727272727273]\n",
            "Set C:\n",
            "[5, 7]\n",
            "J bar:\n",
            "0\n",
            "[0.0, 0.0, 0.17915659414450713, 0.0, 0.0, 1.0, 0.0, 0.0, 0.0, 0.5272727272727273]\n",
            "Set C:\n",
            "[5, 7]\n",
            "J bar:\n",
            "0\n",
            "[0.0, 0.0, 0.17915659414450713, 0.0, 0.0, 1.0, 0.0, 0.0, 0.0, 0.5272727272727273]\n",
            "Set C:\n",
            "[5, 7]\n",
            "J bar:\n",
            "0\n",
            "[0.0, 0.0, 0.17915659414450713, 0.0, 0.0, 1.0, 0.0, 0.0, 0.0, 0.5272727272727273]\n",
            "Set C:\n",
            "[5, 7]\n",
            "J bar:\n",
            "0\n",
            "[0.0, 0.0, 0.17915659414450713, 0.0, 0.0, 1.0, 0.0, 0.0, 0.0, 0.5272727272727273]\n",
            "Set C:\n",
            "[5, 7]\n",
            "J bar:\n",
            "0\n",
            "[0.0, 0.0, 0.17915659414450713, 0.0, 0.0, 1.0, 0.0, 0.0, 0.0, 0.5272727272727273]\n",
            "Set C:\n",
            "[5, 7]\n",
            "J bar:\n",
            "0\n",
            "[0.0, 0.0, 0.17915659414450713, 0.0, 0.0, 1.0, 0.0, 0.0, 0.0, 0.5272727272727273]\n",
            "Set C:\n",
            "[5, 7]\n",
            "J bar:\n",
            "0\n",
            "[0.0, 0.0, 0.17915659414450713, 0.0, 0.0, 1.0, 0.0, 0.0, 0.0, 0.5272727272727273]\n",
            "Set C:\n",
            "[5, 7]\n",
            "J bar:\n",
            "0\n",
            "[0.0, 0.0, 0.17915659414450713, 0.0, 0.0, 1.0, 0.0, 0.0, 0.0, 0.5272727272727273]\n",
            "Set C:\n",
            "[5, 7]\n",
            "J bar:\n",
            "0\n",
            "[0.0, 0.0, 0.17915659414450713, 0.0, 0.0, 1.0, 0.0, 0.0, 0.0, 0.5272727272727273]\n",
            "Set C:\n",
            "[5, 7]\n",
            "J bar:\n",
            "0\n",
            "[0.0, 0.0, 0.17915659414450713, 0.0, 0.0, 1.0, 0.0, 0.0, 0.0, 0.5272727272727273]\n",
            "Set C:\n",
            "[5, 7]\n",
            "J bar:\n",
            "0\n",
            "[0.0, 0.0, 0.17915659414450713, 0.0, 0.0, 1.0, 0.0, 0.0, 0.0, 0.5272727272727273]\n",
            "Set C:\n",
            "[5, 7]\n",
            "J bar:\n",
            "0\n",
            "[0.0, 0.0, 0.17915659414450713, 0.0, 0.0, 1.0, 0.0, 0.0, 0.0, 0.5272727272727273]\n",
            "Set C:\n",
            "[5, 7]\n",
            "J bar:\n",
            "0\n",
            "[0.0, 0.0, 0.17915659414450713, 0.0, 0.0, 1.0, 0.0, 0.0, 0.0, 0.5272727272727273]\n",
            "Set C:\n",
            "[5, 7]\n",
            "J bar:\n",
            "0\n",
            "[0.0, 0.0, 0.17915659414450713, 0.0, 0.0, 1.0, 0.0, 0.0, 0.0, 0.5272727272727273]\n",
            "Set C:\n",
            "[5, 7]\n",
            "J bar:\n",
            "0\n",
            "[0.0, 0.0, 0.17915659414450713, 0.0, 0.0, 1.0, 0.0, 0.0, 0.0, 0.5272727272727273]\n",
            "Set C:\n",
            "[5, 7]\n",
            "J bar:\n",
            "0\n",
            "[0.0, 0.0, 0.17915659414450713, 0.0, 0.0, 1.0, 0.0, 0.0, 0.0, 0.5272727272727273]\n",
            "Set C:\n",
            "[5, 7]\n",
            "J bar:\n",
            "0\n",
            "[0.0, 0.0, 0.17915659414450713, 0.0, 0.0, 1.0, 0.0, 0.0, 0.0, 0.5272727272727273]\n",
            "Set C:\n",
            "[5, 7]\n",
            "J bar:\n",
            "0\n",
            "[0.0, 0.0, 0.17915659414450713, 0.0, 0.0, 1.0, 0.0, 0.0, 0.0, 0.5272727272727273]\n",
            "Set C:\n",
            "[5, 7]\n",
            "J bar:\n",
            "0\n",
            "[0.0, 0.0, 0.17915659414450713, 0.0, 0.0, 1.0, 0.0, 0.0, 0.0, 0.5272727272727273]\n",
            "Set C:\n",
            "[5, 7]\n",
            "J bar:\n",
            "0\n",
            "[0.0, 0.0, 0.17915659414450713, 0.0, 0.0, 1.0, 0.0, 0.0, 0.0, 0.5272727272727273]\n",
            "Set C:\n",
            "[5, 7]\n",
            "J bar:\n",
            "0\n",
            "[0.0, 0.0, 0.17915659414450713, 0.0, 0.0, 1.0, 0.0, 0.0, 0.0, 0.5272727272727273]\n",
            "Set C:\n",
            "[5, 7]\n",
            "J bar:\n",
            "0\n",
            "[0.0, 0.0, 0.17915659414450713, 0.0, 0.0, 1.0, 0.0, 0.0, 0.0, 0.5272727272727273]\n",
            "Set C:\n",
            "[5, 7]\n",
            "J bar:\n",
            "0\n",
            "[0.0, 0.0, 0.17915659414450713, 0.0, 0.0, 1.0, 0.0, 0.0, 0.0, 0.5272727272727273]\n",
            "Set C:\n",
            "[5, 7]\n",
            "J bar:\n",
            "0\n",
            "[0.0, 0.0, 0.17915659414450713, 0.0, 0.0, 1.0, 0.0, 0.0, 0.0, 0.5272727272727273]\n",
            "Set C:\n",
            "[5, 7]\n",
            "J bar:\n",
            "0\n",
            "[0.0, 0.0, 0.17915659414450713, 0.0, 0.0, 1.0, 0.0, 0.0, 0.0, 0.5272727272727273]\n",
            "Set C:\n",
            "[5, 7]\n",
            "J bar:\n",
            "0\n",
            "[0.0, 0.0, 0.17915659414450713, 0.0, 0.0, 1.0, 0.0, 0.0, 0.0, 0.5272727272727273]\n",
            "Set C:\n",
            "[5, 7]\n",
            "J bar:\n",
            "0\n",
            "[0.0, 0.0, 0.17915659414450713, 0.0, 0.0, 1.0, 0.0, 0.0, 0.0, 0.5272727272727273]\n",
            "Set C:\n",
            "[5, 7]\n",
            "J bar:\n",
            "0\n",
            "[0.0, 0.0, 0.17915659414450713, 0.0, 0.0, 1.0, 0.0, 0.0, 0.0, 0.5272727272727273]\n",
            "Set C:\n",
            "[5, 7]\n",
            "J bar:\n",
            "0\n",
            "[0.0, 0.0, 0.17915659414450713, 0.0, 0.0, 1.0, 0.0, 0.0, 0.0, 0.5272727272727273]\n",
            "Set C:\n",
            "[5, 7]\n",
            "J bar:\n",
            "0\n",
            "[0.0, 0.0, 0.17915659414450713, 0.0, 0.0, 1.0, 0.0, 0.0, 0.0, 0.5272727272727273]\n",
            "Set C:\n",
            "[5, 7]\n",
            "J bar:\n",
            "0\n",
            "[0.0, 0.0, 0.17915659414450713, 0.0, 0.0, 1.0, 0.0, 0.0, 0.0, 0.5272727272727273]\n",
            "Set C:\n",
            "[5, 7]\n",
            "J bar:\n",
            "0\n",
            "[0.0, 0.0, 0.17915659414450713, 0.0, 0.0, 1.0, 0.0, 0.0, 0.0, 0.5272727272727273]\n",
            "Set C:\n",
            "[5, 7]\n",
            "J bar:\n",
            "0\n",
            "[0.0, 0.0, 0.17915659414450713, 0.0, 0.0, 1.0, 0.0, 0.0, 0.0, 0.5272727272727273]\n",
            "Set C:\n",
            "[5, 7]\n",
            "J bar:\n",
            "0\n",
            "[0.0, 0.0, 0.17915659414450713, 0.0, 0.0, 1.0, 0.0, 0.0, 0.0, 0.5272727272727273]\n",
            "Set C:\n",
            "[5, 7]\n",
            "J bar:\n",
            "0\n",
            "[0.0, 0.0, 0.17915659414450713, 0.0, 0.0, 1.0, 0.0, 0.0, 0.0, 0.5272727272727273]\n",
            "Set C:\n",
            "[5, 7]\n",
            "J bar:\n",
            "0\n",
            "[0.0, 0.0, 0.17915659414450713, 0.0, 0.0, 1.0, 0.0, 0.0, 0.0, 0.5272727272727273]\n",
            "Set C:\n",
            "[5, 7]\n",
            "J bar:\n",
            "0\n",
            "[0.0, 0.0, 0.17915659414450713, 0.0, 0.0, 1.0, 0.0, 0.0, 0.0, 0.5272727272727273]\n",
            "Set C:\n",
            "[5, 7]\n",
            "J bar:\n",
            "0\n",
            "[0.0, 0.0, 0.17915659414450713, 0.0, 0.0, 1.0, 0.0, 0.0, 0.0, 0.5272727272727273]\n",
            "Set C:\n",
            "[5, 7]\n",
            "J bar:\n",
            "0\n",
            "[0.0, 0.0, 0.17915659414450713, 0.0, 0.0, 1.0, 0.0, 0.0, 0.0, 0.5272727272727273]\n",
            "Set C:\n",
            "[5, 7]\n",
            "J bar:\n",
            "0\n",
            "[0.0, 0.0, 0.17915659414450713, 0.0, 0.0, 1.0, 0.0, 0.0, 0.0, 0.5272727272727273]\n",
            "Set C:\n",
            "[5, 7]\n",
            "J bar:\n",
            "0\n",
            "[0.0, 0.0, 0.17915659414450713, 0.0, 0.0, 1.0, 0.0, 0.0, 0.0, 0.5272727272727273]\n",
            "Set C:\n",
            "[5, 7]\n",
            "J bar:\n",
            "0\n",
            "[0.0, 0.0, 0.17915659414450713, 0.0, 0.0, 1.0, 0.0, 0.0, 0.0, 0.5272727272727273]\n",
            "Set C:\n",
            "[5, 7]\n",
            "J bar:\n",
            "0\n",
            "[0.0, 0.0, 0.17915659414450713, 0.0, 0.0, 1.0, 0.0, 0.0, 0.0, 0.5272727272727273]\n",
            "Set C:\n",
            "[5, 7]\n",
            "J bar:\n",
            "0\n",
            "[0.0, 0.0, 0.17915659414450713, 0.0, 0.0, 1.0, 0.0, 0.0, 0.0, 0.5272727272727273]\n",
            "Set C:\n",
            "[5, 7]\n",
            "J bar:\n",
            "0\n",
            "[0.0, 0.0, 0.17915659414450713, 0.0, 0.0, 1.0, 0.0, 0.0, 0.0, 0.5272727272727273]\n",
            "Set C:\n",
            "[5, 7]\n",
            "J bar:\n",
            "0\n",
            "[0.0, 0.0, 0.17915659414450713, 0.0, 0.0, 1.0, 0.0, 0.0, 0.0, 0.5272727272727273]\n",
            "Set C:\n",
            "[5, 7]\n",
            "J bar:\n",
            "0\n",
            "[0.0, 0.0, 0.17915659414450713, 0.0, 0.0, 1.0, 0.0, 0.0, 0.0, 0.5272727272727273]\n",
            "Set C:\n",
            "[5, 7]\n",
            "J bar:\n",
            "0\n",
            "[0.0, 0.0, 0.17915659414450713, 0.0, 0.0, 1.0, 0.0, 0.0, 0.0, 0.5272727272727273]\n",
            "Set C:\n",
            "[5, 7]\n",
            "J bar:\n",
            "0\n",
            "[0.0, 0.0, 0.17915659414450713, 0.0, 0.0, 1.0, 0.0, 0.0, 0.0, 0.5272727272727273]\n",
            "Set C:\n",
            "[5, 7]\n",
            "J bar:\n",
            "0\n",
            "[0.0, 0.0, 0.17915659414450713, 0.0, 0.0, 1.0, 0.0, 0.0, 0.0, 0.5272727272727273]\n",
            "Set C:\n",
            "[5, 7]\n",
            "J bar:\n",
            "0\n",
            "[0.0, 0.0, 0.17915659414450713, 0.0, 0.0, 1.0, 0.0, 0.0, 0.0, 0.5272727272727273]\n",
            "Set C:\n",
            "[5, 7]\n",
            "J bar:\n",
            "0\n",
            "[0.0, 0.0, 0.17915659414450713, 0.0, 0.0, 1.0, 0.0, 0.0, 0.0, 0.5272727272727273]\n",
            "Set C:\n",
            "[5, 7]\n",
            "J bar:\n",
            "0\n",
            "[0.0, 0.0, 0.17915659414450713, 0.0, 0.0, 1.0, 0.0, 0.0, 0.0, 0.5272727272727273]\n",
            "Set C:\n",
            "[5, 7]\n",
            "J bar:\n",
            "0\n",
            "[0.0, 0.0, 0.17915659414450713, 0.0, 0.0, 1.0, 0.0, 0.0, 0.0, 0.5272727272727273]\n",
            "Set C:\n",
            "[5, 7]\n",
            "J bar:\n",
            "0\n",
            "[0.0, 0.0, 0.17915659414450713, 0.0, 0.0, 1.0, 0.0, 0.0, 0.0, 0.5272727272727273]\n",
            "Set C:\n",
            "[5, 7]\n",
            "J bar:\n",
            "0\n",
            "[0.0, 0.0, 0.17915659414450713, 0.0, 0.0, 1.0, 0.0, 0.0, 0.0, 0.5272727272727273]\n",
            "Set C:\n",
            "[5, 7]\n",
            "J bar:\n",
            "0\n",
            "[0.0, 0.0, 0.17915659414450713, 0.0, 0.0, 1.0, 0.0, 0.0, 0.0, 0.5272727272727273]\n",
            "Set C:\n",
            "[5, 7]\n",
            "J bar:\n",
            "0\n",
            "[0.0, 0.0, 0.17915659414450713, 0.0, 0.0, 1.0, 0.0, 0.0, 0.0, 0.5272727272727273]\n",
            "Set C:\n",
            "[5, 7]\n",
            "J bar:\n",
            "0\n",
            "[0.0, 0.0, 0.17915659414450713, 0.0, 0.0, 1.0, 0.0, 0.0, 0.0, 0.5272727272727273]\n",
            "Set C:\n",
            "[5, 7]\n",
            "J bar:\n",
            "0\n",
            "[0.0, 0.0, 0.17915659414450713, 0.0, 0.0, 1.0, 0.0, 0.0, 0.0, 0.5272727272727273]\n",
            "Set C:\n",
            "[5, 7]\n",
            "J bar:\n",
            "0\n",
            "[0.0, 0.0, 0.17915659414450713, 0.0, 0.0, 1.0, 0.0, 0.0, 0.0, 0.5272727272727273]\n",
            "Set C:\n",
            "[5, 7]\n",
            "J bar:\n",
            "0\n",
            "[0.0, 0.0, 0.17915659414450713, 0.0, 0.0, 1.0, 0.0, 0.0, 0.0, 0.5272727272727273]\n",
            "Set C:\n",
            "[5, 7]\n",
            "J bar:\n",
            "0\n",
            "[0.0, 0.0, 0.17915659414450713, 0.0, 0.0, 1.0, 0.0, 0.0, 0.0, 0.5272727272727273]\n",
            "Set C:\n",
            "[5, 7]\n",
            "J bar:\n",
            "0\n",
            "[0.0, 0.0, 0.17915659414450713, 0.0, 0.0, 1.0, 0.0, 0.0, 0.0, 0.5272727272727273]\n",
            "Set C:\n",
            "[5, 7]\n",
            "J bar:\n",
            "0\n",
            "[0.0, 0.0, 0.17915659414450713, 0.0, 0.0, 1.0, 0.0, 0.0, 0.0, 0.5272727272727273]\n",
            "Set C:\n",
            "[5, 7]\n",
            "J bar:\n",
            "0\n",
            "[0.0, 0.0, 0.17915659414450713, 0.0, 0.0, 1.0, 0.0, 0.0, 0.0, 0.5272727272727273]\n",
            "Set C:\n",
            "[5, 7]\n",
            "J bar:\n",
            "0\n",
            "[0.0, 0.0, 0.17915659414450713, 0.0, 0.0, 1.0, 0.0, 0.0, 0.0, 0.5272727272727273]\n",
            "Set C:\n",
            "[5, 7]\n",
            "J bar:\n",
            "0\n",
            "[0.0, 0.0, 0.17915659414450713, 0.0, 0.0, 1.0, 0.0, 0.0, 0.0, 0.5272727272727273]\n",
            "Set C:\n",
            "[5, 7]\n",
            "J bar:\n",
            "0\n",
            "[0.0, 0.0, 0.17915659414450713, 0.0, 0.0, 1.0, 0.0, 0.0, 0.0, 0.5272727272727273]\n",
            "Set C:\n",
            "[5, 7]\n",
            "J bar:\n",
            "0\n",
            "[0.0, 0.0, 0.17915659414450713, 0.0, 0.0, 1.0, 0.0, 0.0, 0.0, 0.5272727272727273]\n",
            "Set C:\n",
            "[5, 7]\n",
            "J bar:\n",
            "0\n",
            "[0.0, 0.0, 0.17915659414450713, 0.0, 0.0, 1.0, 0.0, 0.0, 0.0, 0.5272727272727273]\n",
            "Set C:\n",
            "[5, 7]\n",
            "J bar:\n",
            "0\n",
            "[0.0, 0.0, 0.17915659414450713, 0.0, 0.0, 1.0, 0.0, 0.0, 0.0, 0.5272727272727273]\n",
            "Set C:\n",
            "[5, 7]\n",
            "J bar:\n",
            "0\n",
            "[0.0, 0.0, 0.17915659414450713, 0.0, 0.0, 1.0, 0.0, 0.0, 0.0, 0.5272727272727273]\n",
            "Set C:\n",
            "[5, 7]\n",
            "J bar:\n",
            "0\n",
            "[0.0, 0.0, 0.17915659414450713, 0.0, 0.0, 1.0, 0.0, 0.0, 0.0, 0.5272727272727273]\n",
            "Set C:\n",
            "[5, 7]\n",
            "J bar:\n",
            "0\n",
            "[0.0, 0.0, 0.17915659414450713, 0.0, 0.0, 1.0, 0.0, 0.0, 0.0, 0.5272727272727273]\n",
            "Set C:\n",
            "[5, 7]\n",
            "J bar:\n",
            "0\n",
            "[0.0, 0.0, 0.17915659414450713, 0.0, 0.0, 1.0, 0.0, 0.0, 0.0, 0.5272727272727273]\n",
            "Set C:\n",
            "[5, 7]\n",
            "J bar:\n",
            "0\n",
            "[0.0, 0.0, 0.17915659414450713, 0.0, 0.0, 1.0, 0.0, 0.0, 0.0, 0.5272727272727273]\n"
          ]
        },
        {
          "output_type": "error",
          "ename": "KeyboardInterrupt",
          "evalue": "ignored",
          "traceback": [
            "\u001b[0;31m---------------------------------------------------------------------------\u001b[0m",
            "\u001b[0;31mKeyboardInterrupt\u001b[0m                         Traceback (most recent call last)",
            "\u001b[0;32m<ipython-input-30-19a73de9e206>\u001b[0m in \u001b[0;36m<module>\u001b[0;34m\u001b[0m\n\u001b[1;32m     44\u001b[0m       \u001b[0mseparation\u001b[0m\u001b[0;34m.\u001b[0m\u001b[0mobjective\u001b[0m \u001b[0;34m=\u001b[0m \u001b[0mmip\u001b[0m\u001b[0;34m.\u001b[0m\u001b[0mminimize\u001b[0m\u001b[0;34m(\u001b[0m\u001b[0mmip\u001b[0m\u001b[0;34m.\u001b[0m\u001b[0mxsum\u001b[0m\u001b[0;34m(\u001b[0m\u001b[0mz\u001b[0m\u001b[0;34m[\u001b[0m\u001b[0mi\u001b[0m\u001b[0;34m]\u001b[0m\u001b[0;34m*\u001b[0m\u001b[0;34m(\u001b[0m\u001b[0;36m1\u001b[0m \u001b[0;34m-\u001b[0m \u001b[0mx_star\u001b[0m\u001b[0;34m[\u001b[0m\u001b[0mi\u001b[0m\u001b[0;34m]\u001b[0m\u001b[0;34m)\u001b[0m \u001b[0;32mfor\u001b[0m \u001b[0mi\u001b[0m \u001b[0;32min\u001b[0m \u001b[0mI\u001b[0m\u001b[0;34m)\u001b[0m\u001b[0;34m)\u001b[0m\u001b[0;34m\u001b[0m\u001b[0;34m\u001b[0m\u001b[0m\n\u001b[1;32m     45\u001b[0m       \u001b[0mseparation\u001b[0m\u001b[0;34m.\u001b[0m\u001b[0madd_constr\u001b[0m\u001b[0;34m(\u001b[0m\u001b[0mmip\u001b[0m\u001b[0;34m.\u001b[0m\u001b[0mxsum\u001b[0m\u001b[0;34m(\u001b[0m\u001b[0mw\u001b[0m\u001b[0;34m[\u001b[0m\u001b[0mi\u001b[0m\u001b[0;34m,\u001b[0m\u001b[0mj_bar\u001b[0m\u001b[0;34m]\u001b[0m\u001b[0;34m*\u001b[0m\u001b[0mz\u001b[0m\u001b[0;34m[\u001b[0m\u001b[0mi\u001b[0m\u001b[0;34m]\u001b[0m \u001b[0;32mfor\u001b[0m \u001b[0mi\u001b[0m \u001b[0;32min\u001b[0m \u001b[0mI\u001b[0m\u001b[0;34m)\u001b[0m\u001b[0;34m>=\u001b[0m \u001b[0mb\u001b[0m\u001b[0;34m[\u001b[0m\u001b[0mj_bar\u001b[0m\u001b[0;34m]\u001b[0m \u001b[0;34m+\u001b[0m \u001b[0;36m1\u001b[0m\u001b[0;34m)\u001b[0m\u001b[0;34m\u001b[0m\u001b[0;34m\u001b[0m\u001b[0m\n\u001b[0;32m---> 46\u001b[0;31m       \u001b[0mseparation\u001b[0m\u001b[0;34m.\u001b[0m\u001b[0moptimize\u001b[0m\u001b[0;34m(\u001b[0m\u001b[0;34m)\u001b[0m\u001b[0;34m\u001b[0m\u001b[0;34m\u001b[0m\u001b[0m\n\u001b[0m\u001b[1;32m     47\u001b[0m \u001b[0;34m\u001b[0m\u001b[0m\n\u001b[1;32m     48\u001b[0m \u001b[0;34m\u001b[0m\u001b[0m\n",
            "\u001b[0;32m/usr/local/lib/python3.8/dist-packages/mip/model.py\u001b[0m in \u001b[0;36moptimize\u001b[0;34m(self, max_seconds, max_nodes, max_solutions, max_seconds_same_incumbent, max_nodes_same_incumbent, relax)\u001b[0m\n\u001b[1;32m    616\u001b[0m         )\n\u001b[1;32m    617\u001b[0m \u001b[0;34m\u001b[0m\u001b[0m\n\u001b[0;32m--> 618\u001b[0;31m         \u001b[0mself\u001b[0m\u001b[0;34m.\u001b[0m\u001b[0m_status\u001b[0m \u001b[0;34m=\u001b[0m \u001b[0mself\u001b[0m\u001b[0;34m.\u001b[0m\u001b[0msolver\u001b[0m\u001b[0;34m.\u001b[0m\u001b[0moptimize\u001b[0m\u001b[0;34m(\u001b[0m\u001b[0mrelax\u001b[0m\u001b[0;34m)\u001b[0m\u001b[0;34m\u001b[0m\u001b[0;34m\u001b[0m\u001b[0m\n\u001b[0m\u001b[1;32m    619\u001b[0m         \u001b[0;31m# has a solution\u001b[0m\u001b[0;34m\u001b[0m\u001b[0;34m\u001b[0m\u001b[0;34m\u001b[0m\u001b[0m\n\u001b[1;32m    620\u001b[0m         if (\n",
            "\u001b[0;32m/usr/local/lib/python3.8/dist-packages/mip/cbc.py\u001b[0m in \u001b[0;36moptimize\u001b[0;34m(self, relax)\u001b[0m\n\u001b[1;32m   1226\u001b[0m \u001b[0;34m\u001b[0m\u001b[0m\n\u001b[1;32m   1227\u001b[0m         \u001b[0mself\u001b[0m\u001b[0;34m.\u001b[0m\u001b[0m__clear_sol\u001b[0m\u001b[0;34m(\u001b[0m\u001b[0;34m)\u001b[0m\u001b[0;34m\u001b[0m\u001b[0;34m\u001b[0m\u001b[0m\n\u001b[0;32m-> 1228\u001b[0;31m         \u001b[0mcbclib\u001b[0m\u001b[0;34m.\u001b[0m\u001b[0mCbc_solve\u001b[0m\u001b[0;34m(\u001b[0m\u001b[0mself\u001b[0m\u001b[0;34m.\u001b[0m\u001b[0m_model\u001b[0m\u001b[0;34m)\u001b[0m\u001b[0;34m\u001b[0m\u001b[0;34m\u001b[0m\u001b[0m\n\u001b[0m\u001b[1;32m   1229\u001b[0m \u001b[0;34m\u001b[0m\u001b[0m\n\u001b[1;32m   1230\u001b[0m         \u001b[0;32mif\u001b[0m \u001b[0mcbclib\u001b[0m\u001b[0;34m.\u001b[0m\u001b[0mCbc_isAbandoned\u001b[0m\u001b[0;34m(\u001b[0m\u001b[0mself\u001b[0m\u001b[0;34m.\u001b[0m\u001b[0m_model\u001b[0m\u001b[0;34m)\u001b[0m\u001b[0;34m:\u001b[0m\u001b[0;34m\u001b[0m\u001b[0;34m\u001b[0m\u001b[0m\n",
            "\u001b[0;31mKeyboardInterrupt\u001b[0m: "
          ]
        }
      ]
    },
    {
      "cell_type": "code",
      "source": [
        "sol = np.zeros((m,n))\n",
        "\n",
        "for i in I:\n",
        "  for j in J:\n",
        "    sol[i,j] = x[i][j].x\n",
        "\n",
        "sol"
      ],
      "metadata": {
        "id": "60FYh0-L-oVJ"
      },
      "execution_count": null,
      "outputs": []
    },
    {
      "cell_type": "code",
      "source": [
        "c = [1]\n",
        "print(c[-1])"
      ],
      "metadata": {
        "colab": {
          "base_uri": "https://localhost:8080/"
        },
        "id": "y1nHQqHQ-xl8",
        "outputId": "6159ee50-b921-4b85-e4ba-8ac109248700"
      },
      "execution_count": null,
      "outputs": [
        {
          "output_type": "stream",
          "name": "stdout",
          "text": [
            "1\n"
          ]
        }
      ]
    },
    {
      "cell_type": "code",
      "source": [
        "x = {edge: model.add_var(lb=0,name ='x_'+edge[0]+edge[1]) for edge in A}\n",
        "y = {edge: model.add_var(var_type=BINARY,name = 'y_'+edge[0]+edge[1]) for edge in A}"
      ],
      "metadata": {
        "id": "APxg-2pJ6izb"
      },
      "execution_count": null,
      "outputs": []
    },
    {
      "cell_type": "markdown",
      "source": [
        "**Problem 1: extended formulation for fixed charge network flow problem**\n",
        "\n",
        "Consider the network topology given by the graph $G = (V,A)$ in the figure, where $V =\n",
        "\\{s, t, u,w\\}$. Each node represents a router of the network, and each arc $(i, j \\in A$ with $i, j \\in V$ represents a link. The numbers associated to each arc $(i, j)$ correspond to $u_{ij} = f_{ij}$ , where $u_{ij} > 0$ is the bandwidth (arc capacity) in Mbps and $f_{ij} > 0$ is the fixed cost of using the arc.\n",
        "\n"
      ],
      "metadata": {
        "id": "1wsug9yj1J5C"
      }
    },
    {
      "cell_type": "markdown",
      "source": [
        "![network.png](data:image/png;base64,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)"
      ],
      "metadata": {
        "id": "mlRdnqHI2uS2"
      }
    },
    {
      "cell_type": "markdown",
      "source": [
        "There is a single source node s and a subset $K \\subseteq V \\setminus \\{s\\}$ of destinations (terminals). Next\n",
        "to each destination node $i \\in K$ we report its flow (bandwidth) demand $b_i$. For the destination\n",
        "nodes $i \\in K$ we assume $b_i > 0$. For the source node $s, b_s$ represents the total availability, that\n",
        "we assume equivalent to the sum of the demands of all nodes $i \\in K$, that is, $b_s = \\sum_{i \\in K}b_i$.\n",
        "The aim is to determine the feasible minimum cost flow that satisfies the requirements of all destinations $i \\in K$.\n",
        "1) Write in Python the natural MILP formulation for fixed charge network \n",
        "ow problem described in class.\n",
        "2) Solve its linear relaxation. Is the optimal solution integer?\n"
      ],
      "metadata": {
        "id": "bBeFg95A4AGf"
      }
    },
    {
      "cell_type": "markdown",
      "source": [
        "**Sets**\n",
        "\n",
        "\n",
        "*   $V$: nodes\n",
        "*   $A \\subseteq V \\times V$: arcs\n",
        "*   $T \\subseteq V$: destination nodes \n",
        "\n",
        "\n",
        "**Parameters**\n",
        "\n",
        "* $s \\in V\\setminus T$: source node\n",
        "*    $u_{ij}$: capacity of the arc $(i,j)$, with $(i,j) \\in A$\n",
        "*    $c_{ij}$: cost of the arc $(i,j)$, with $(i,j) \\in A$\n",
        "*    $b_i$: flow requirements in node $i$, with $b_i=\\left \\{ \\begin{matrix} >0 & i \\in T\\\\ <0 & i = s \\\\ 0 & otherwise  \\end{matrix} \\right .$\n",
        "\n",
        "\n",
        "**Decision variables**\n",
        "\n",
        "* $x_{ij}$: flow sent over the arc $(i,j)$, with $(i,j) \\in E$\n",
        "* $y_{ij}$: binary variable indicating if $(i,j) \\in E$ is used\n",
        "\n",
        "\n",
        "**Model**\n",
        "\n",
        "For each node $i \\in V$, let $\\delta^{+}\\left (i \\right ) = \\left \\{ j \\in V:\\left ( i,j\\right ) \\in A\\right\\}$, $\\delta^{-}\\left (i \\right ) = \\left \\{ j \\in V:\\left ( j,i\\right ) \\in A\\right\\}$. \n",
        "\n",
        "\n",
        "\\begin{eqnarray*}\n",
        "\\min \\quad & \\sum_{(i,j)\\in E}c_{ij}y_{ij} && \\mbox{(value)}\\\\\n",
        "\\mbox{s.t.} \\quad &&& \\\\\n",
        "& \\sum_{j \\in \\delta^{-}(i)} x_{ji} - \\sum_{j \\in \\delta^{+}(i)} x_{ij} = b_i %\\left \\{ \\begin{matrix}  & i = s\\\\ -\\phi & i\\in T \\\\ 0 & h \\in V \\backslash \\{s,t\\}  \\end{matrix} \\right . \n",
        "\\quad & i \\in V & \\mbox{(balance)}\\\\\n",
        "& x_{ij} \\leq u_{ij}y_{ij} \\quad & (i,j) \\in A \\quad & \\mbox{(capacity)}\\\\\n",
        "& x_{ij} \\geq 0 & (i,j) \\in A \\quad & \\mbox{(nonnegative var.)}\\\\\n",
        "& y_{ij} \\in \\{0,1\\} & (i,j) \\in A \\quad & \\mbox{(binary var.)} \n",
        "\\end{eqnarray*}"
      ],
      "metadata": {
        "id": "N4196aaz8inF"
      }
    },
    {
      "cell_type": "code",
      "source": [
        "import mip\n",
        "#import string\n",
        "import ast\n",
        "import pandas as pd # to handle the data of the problem\n",
        "from itertools import chain, combinations # for the computation of the powerset\n",
        "from mip import BINARY\n",
        "import numpy as np\n",
        "import time"
      ],
      "metadata": {
        "id": "VRDOfdOeY9Lz"
      },
      "execution_count": null,
      "outputs": []
    },
    {
      "cell_type": "code",
      "source": [
        "# SET & PARAMETER DEFINITION\n",
        "source = 's'\n",
        "b = pd.read_csv('b_4nodes.csv',sep=';')\n",
        "b.set_index('index', inplace = True)\n",
        "b = b.to_dict()['b']\n",
        "\n",
        "b[source] = - sum(list(b.values()))\n",
        "V = list(b.keys())\n",
        "\n",
        "fu = pd.read_csv('f_u4nodes.csv',sep=';')\n",
        "fu['index'] = fu['index'].apply(ast.literal_eval)\n",
        "fu.set_index('index', inplace = True)\n",
        "\n",
        "f = fu.to_dict()['f']\n",
        "u = fu.to_dict()['u']\n",
        "\n",
        "\n",
        "\n",
        "# Auxiliary set A\n",
        "A = list(f.keys())"
      ],
      "metadata": {
        "id": "uxV9xModZTf9"
      },
      "execution_count": null,
      "outputs": []
    },
    {
      "cell_type": "code",
      "source": [
        "model = mip.Model()"
      ],
      "metadata": {
        "id": "_2gubP62btfL"
      },
      "execution_count": null,
      "outputs": []
    },
    {
      "cell_type": "code",
      "source": [
        "x = {edge: model.add_var(lb=0,name ='x_'+edge[0]+edge[1]) for edge in A}\n",
        "y = {edge: model.add_var(var_type=BINARY,name = 'y_'+edge[0]+edge[1]) for edge in A}"
      ],
      "metadata": {
        "id": "4XZmVei1busP"
      },
      "execution_count": null,
      "outputs": []
    },
    {
      "cell_type": "code",
      "source": [
        "model.objective = mip.minimize(mip.xsum(f[edge]*y[edge] for edge in A))"
      ],
      "metadata": {
        "id": "Q7GYITxXp4vI"
      },
      "execution_count": null,
      "outputs": []
    },
    {
      "cell_type": "code",
      "source": [
        "# CONSTRAINT\n",
        "# Balance\n",
        "for i in V:\n",
        "  model.add_constr(mip.xsum(x[(j,i)] for j in V if (j,i) in A)- mip.xsum(x[(i,j)] for j in V if (i,j) in A) == b[i])\n",
        "\n",
        "# Capacity\n",
        "for edge in A:\n",
        "  model.add_constr(x[edge]<= u[edge]*y[edge])"
      ],
      "metadata": {
        "id": "ZOv_PN1aqDi5"
      },
      "execution_count": null,
      "outputs": []
    },
    {
      "cell_type": "code",
      "source": [
        "# optimizing\n",
        "model.optimize(relax=True)"
      ],
      "metadata": {
        "colab": {
          "base_uri": "https://localhost:8080/"
        },
        "id": "KoC3Aa0FsL8W",
        "outputId": "a83c4010-b9f6-4c82-d03a-f47a9a303f76"
      },
      "execution_count": null,
      "outputs": [
        {
          "output_type": "execute_result",
          "data": {
            "text/plain": [
              "<OptimizationStatus.OPTIMAL: 0>"
            ]
          },
          "metadata": {},
          "execution_count": 8
        }
      ]
    },
    {
      "cell_type": "code",
      "source": [
        "model.objective.x"
      ],
      "metadata": {
        "colab": {
          "base_uri": "https://localhost:8080/"
        },
        "id": "QVlRWLQWsQ3V",
        "outputId": "2c7653d2-194c-4aa5-b7d0-10bbe586f05a"
      },
      "execution_count": null,
      "outputs": [
        {
          "output_type": "execute_result",
          "data": {
            "text/plain": [
              "3.1666666666666665"
            ]
          },
          "metadata": {},
          "execution_count": 9
        }
      ]
    },
    {
      "cell_type": "code",
      "source": [
        "# SET & PARAMETER DEFINITION\n",
        "source = 's'\n",
        "b = pd.read_csv('b_4nodes.csv',sep=';')\n",
        "b.set_index('index', inplace = True)\n",
        "b = b.to_dict()['b']\n",
        "\n",
        "K = list(b.keys())\n",
        "b[source] = - sum(list(b.values()))\n",
        "V = list(b.keys())\n",
        "\n",
        "d = {}\n",
        "for v in V:\n",
        "  for k in K:\n",
        "    if v != source and v == k:\n",
        "      d[(v,k)] = b[v]\n",
        "    elif v == source:\n",
        "      d[(v,k)] = - b[k]\n",
        "    else: \n",
        "      d[(v,k)] = 0\n",
        "\n",
        "fu = pd.read_csv('f_u4nodes.csv',sep=';')\n",
        "fu['index'] = fu['index'].apply(ast.literal_eval)\n",
        "fu.set_index('index', inplace = True)\n",
        "\n",
        "f = fu.to_dict()['f']\n",
        "u = fu.to_dict()['u']\n",
        "\n",
        "\n",
        "\n",
        "# Auxiliary set A\n",
        "A = list(f.keys())"
      ],
      "metadata": {
        "id": "dWh-b6uXuZgD"
      },
      "execution_count": null,
      "outputs": []
    },
    {
      "cell_type": "code",
      "source": [
        "model1 = mip.Model()"
      ],
      "metadata": {
        "id": "pZfrvJQ5tGVV"
      },
      "execution_count": null,
      "outputs": []
    },
    {
      "cell_type": "code",
      "source": [
        "x = {(edge,k): model1.add_var(lb=0,name ='x_'+edge[0]+edge[1]+'_'+k) for edge in A for k in K}\n",
        "y = {edge: model1.add_var(var_type=BINARY,name = 'y_'+edge[0]+edge[1]) for edge in A}"
      ],
      "metadata": {
        "id": "_nuYmC8ZtGYn"
      },
      "execution_count": null,
      "outputs": []
    }
  ],
  "metadata": {
    "colab": {
      "provenance": []
    },
    "kernelspec": {
      "display_name": "Python 3",
      "name": "python3"
    },
    "language_info": {
      "name": "python"
    },
    "accelerator": "GPU",
    "gpuClass": "standard"
  },
  "nbformat": 4,
  "nbformat_minor": 0
}