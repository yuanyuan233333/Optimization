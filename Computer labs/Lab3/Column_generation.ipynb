{
  "cells": [
    {
      "cell_type": "markdown",
      "source": [
        "**A Column Generation Approach for the Airline Crew Pairing Problem**\n",
        "\n",
        "This laboratory session is about a subproblem of Airline Crew Scheduling, known in the literature\n",
        "as the Airline Crew Pairing problem. Let us consider a flight leg which is a single takeofflanding phase to be carried out within a predefined time window, for example a flight that has\n",
        "to take off from Rome airport FCO at 9:00 AM and has to land at Milan airport MPX at 10:15 AM. A pairing is a feasible sequence of flight legs that can be performed by the same crew members, starting and ending at the same airport. Organizing the daily flights into pairings is an important problem for airline companies, and it is generally followed by an assignment phase\n",
        "of the crew members to each pairing (a problem known as Airline Crew Rostering). The pairings must be created so as to be feasible with respect to different constraints like, for instance, the\n",
        "compatibility of the flight legs, minimum rest periods and maximum total flight time.\n",
        "\n",
        "Given a set $I$ of flight legs, a feasible pairing can be represented by an incidence column\n",
        "vector $A^j \\in \\mathbb{R}^I$, with component $a_{ij}$ equal to 1 if the flight leg $i \\in I$ is included in the paring and 0 otherwise. Given\n",
        "\n",
        "\n",
        "*   a set $I$ of flight legs,\n",
        "*   the set $J$ of all feasible pairings described by the column vectors $A^j$ with $j \\in J$,\n",
        "\n",
        "the Airline Crew Pairing problem consists in selecting the minimum number of feasible pairings\n",
        "that exactly cover all the flight legs. Note that minimizing the number of pairing amounts to\n",
        "minimizing the number of crews needed to cover all the flight legs.\n",
        "\n",
        "Given a set of binary variables $x_j$ with $j \\in J$ indicating which feasible pairings are selected, the addressed problem can be formulated as the following set partitioning problem\n",
        "\n",
        "\\begin{array}{lll}\n",
        "  \\min & \\sum_\\limits{j \\in J} x_j & & & \\text{(1)}\\\\\n",
        "  \\textrm{s.t.} & Ax = 1 & & &(2)\\\\\n",
        "  & x_{j} \\in \\{0,1\\} &  j \\in J, &  &(3)\\\\\n",
        "\\end{array}\n",
        "\n",
        "where $A \\in \\mathbb{R}^{I \\times J}$\n",
        "is the incidence matrix of flight legs and pairings, containing all the feasible\n",
        "pairing columns $A^j$. Since the number $|J|$ of columns grows exponentially with the number\n",
        "$|I|$ of flight legs, it is impossible for real-world instances to construct the whole matrix $A$. For this reason a classical way to face this problem is the column generation method, in which the columns of $A$ are generated on the fly  only if needed, by exploiting the dual formulation of the\n",
        "linear relaxation of problem (1)-(3).\n",
        "\n",
        "In this laboratory session, we consider an instance of the Airline Crew Pairing problem which involves 9 airports and 42 flight legs. Each flight leg $i \\in I$ is characterized by an origin airport $o_i$ and a destination airport $d_i$, a starting time $s_i$ and the length $l_i$ of the flight leg expressed\n",
        "in hours. The feasible pairings must be created so that the starting and the ending airports coincide and so that there is at least 1 hour of rest period between any two consecutive legs.\n",
        "\n",
        "\n",
        "\n",
        "1.   Propose a column generation strategy to solve the linear relaxation of the Airline Crew\n",
        "Pairing problem.\n",
        "\n",
        "**Hint**:  Exploit the structure of the dual formulation of the problem.\n",
        "\n"
      ],
      "metadata": {
        "id": "VnH95hnNUKmD"
      }
    },
    {
      "cell_type": "markdown",
      "source": [
        "2.   Implement in Python a column generation algorithm and solve the linear relaxation of the master problem for the given instance, starting from a given feasible solution."
      ],
      "metadata": {
        "id": "Nh5mb6Dte6xF"
      }
    },
    {
      "cell_type": "code",
      "source": [
        "# When using Colab, make sure you run this instruction beforehand\n",
        "!pip install mip"
      ],
      "metadata": {
        "colab": {
          "base_uri": "https://localhost:8080/"
        },
        "id": "FQOfHkCJRD5q",
        "outputId": "866f38bf-3bef-4ba1-8241-7572cef0399f"
      },
      "execution_count": 1,
      "outputs": [
        {
          "output_type": "stream",
          "name": "stdout",
          "text": [
            "Looking in indexes: https://pypi.org/simple, https://us-python.pkg.dev/colab-wheels/public/simple/\n",
            "Collecting mip\n",
            "  Downloading mip-1.15.0-py3-none-any.whl (15.3 MB)\n",
            "\u001b[2K     \u001b[90m━━━━━━━━━━━━━━━━━━━━━━━━━━━━━━━━━━━━━━━━\u001b[0m \u001b[32m15.3/15.3 MB\u001b[0m \u001b[31m3.9 MB/s\u001b[0m eta \u001b[36m0:00:00\u001b[0m\n",
            "\u001b[?25hRequirement already satisfied: cffi==1.15.* in /usr/local/lib/python3.9/dist-packages (from mip) (1.15.1)\n",
            "Requirement already satisfied: pycparser in /usr/local/lib/python3.9/dist-packages (from cffi==1.15.*->mip) (2.21)\n",
            "Installing collected packages: mip\n",
            "Successfully installed mip-1.15.0\n"
          ]
        }
      ]
    },
    {
      "cell_type": "code",
      "source": [
        "import mip\n",
        "import pandas as pd # to handle the data of the problem\n",
        "from mip import BINARY\n",
        "import numpy as np\n",
        "import math"
      ],
      "metadata": {
        "id": "o88mdh9qRbCp"
      },
      "execution_count": 2,
      "outputs": []
    },
    {
      "cell_type": "code",
      "source": [
        "data = pd.read_csv('data.csv',sep=';')\n",
        "\n",
        "# MASTER PROBLEM\n",
        "# DEFINITION OF SETS AND PARAMETERS\n",
        "\n",
        "#number of flight legs\n",
        "n_i = 42\n",
        "\n",
        "n_q = 9\n",
        "\n",
        "# set of the flight legs\n",
        "I = range(n_i)\n",
        "# set of the airports\n",
        "Q = range(n_q)\n",
        "\n",
        "# origin airport of the flight\n",
        "o = data['o'].values\n",
        "\n",
        "# destination airport of the flight\n",
        "d = data['d'].values\n",
        "\n",
        "# starting time of the flight\n",
        "s = data['s'].values\n",
        "\n",
        "# length of the flight\n",
        "l = data['l'].values\n",
        "\n",
        "#----------------------------------------\n",
        "# initialize a starting feasible solution\n",
        "#----------------------------------------\n",
        "# number of pairings\n",
        "n_j = int(n_i/2)\n",
        "\n",
        "# pairings matrix\n",
        "a = np.zeros((n_i,n_j))\n",
        "\n",
        "# Valid pairings for the specific instance in data.csv\n",
        "for i in I:\n",
        "  a[i,math.floor(i/2)] = 1\n",
        "\n",
        "# set of all possible edge \n",
        "K = [(i,i1) for i in I for i1 in I]"
      ],
      "metadata": {
        "id": "rqlu-w9aRiNU"
      },
      "execution_count": 3,
      "outputs": []
    },
    {
      "cell_type": "code",
      "source": [
        "#----------------------------------------\n",
        "# create the graph of feasible paths\n",
        "#----------------------------------------\n",
        "rest = 1\n",
        "# TO-DO: modify the arc set A by adding an arc (i, i1) if destination of i coincides with the origin \n",
        "# and the time window constraints are satisfied\n",
        "A =\n"
      ],
      "metadata": {
        "id": "qmQjGTGLf9lx"
      },
      "execution_count": 4,
      "outputs": []
    },
    {
      "cell_type": "code",
      "source": [
        "# function to check if the origin/destination has at least 1 outgoing/ingoing arc\n",
        "def check(A,index,pos):\n",
        "  if pos >=0 and pos <=1 and isinstance(pos,int):\n",
        "    found = False\n",
        "    for t in A:\n",
        "      if t[pos] == index:\n",
        "        found = True\n",
        "    return found\n",
        "  else:\n",
        "    return None"
      ],
      "metadata": {
        "id": "2rAy7GHA8mL3"
      },
      "execution_count": 5,
      "outputs": []
    },
    {
      "cell_type": "code",
      "source": [
        "found = True\n",
        "\n",
        "\n",
        "while(found): # cycle until new feasible columns is found\n",
        "\n",
        "  # set of pairings\n",
        "  J = range(n_j)\n",
        "  # SOLVE MASTER\n",
        "  # Master problem definition\n",
        "  master = mip.Model()\n",
        "  # TO-DO\n",
        "  # Master problem variables\n",
        "  \n",
        "\n",
        "  # Master problem objective\n",
        "  \n",
        "  \n",
        "  # Master problem constraints\n",
        "  \n",
        "\n",
        "  \n",
        "  # optimizing\n",
        "  master.optimize()\n",
        "  print('Solved Master pairings:')\n",
        "  print(master.objective.x)\n",
        "  # coefficients of the obj. of the pricing set to the shadow price of the master\n",
        "  y_star = [master.constrs[i].pi for i in I]\n",
        "\n",
        "  found = False\n",
        "\n",
        "  # try a pair of flight legs source-target such that:\n",
        "  # 1. the origin of the source is equal to the target destination\n",
        "  # 2. the origin has at least 1 outgoing arc\n",
        "  # 3. the destination has at least 1 ingoing arc\n",
        "\n",
        "  for (src,trg) in K:\n",
        "  \n",
        "    if o[src] == d[trg] and check(A,src,0) and check(A,trg,1):\n",
        "\n",
        "      found = False\n",
        "\n",
        "      # SOLVE PRICING\n",
        "      # Pricing problem definition\n",
        "      pricing = mip.Model()\n",
        "      # TO-DO\n",
        "      # Pricing problem variables\n",
        "            \n",
        "\n",
        "      # Pricing problem objective\n",
        "      \n",
        "\n",
        "      # Pricing problem constraints\n",
        "           \n",
        "      for i in I:\n",
        "        if i!= src and i!=trg:\n",
        "          pricing.add_constr(mip.xsum(z[edge] for edge in A if edge[1]==i)-mip.xsum(z[edge] for edge in A if edge[0]==i) == 0)\n",
        "      # activation\n",
        "      for i in I:\n",
        "        if i!= src and i!=trg:\n",
        "          pricing.add_constr(mip.xsum(z[edge] for edge in A if edge[1]==i)== alpha[i])\n",
        "      # optimizing\n",
        "      pricing.optimize()\n",
        "\n",
        "      reducedCost = 1 - pricing.objective.x\n",
        "\n",
        "      if reducedCost < 0:\n",
        "        # TO-DO: add the column to the master problem\n",
        "        found = True\n",
        "        break"
      ],
      "metadata": {
        "id": "QBagT75_imdZ"
      },
      "execution_count": null,
      "outputs": []
    },
    {
      "cell_type": "code",
      "source": [
        "indices = []\n",
        "\n",
        "for j in J:\n",
        "  if x[j].x == 1:\n",
        "    indices.append(j)\n",
        "print(\"Selected %i pairings\" % len(indices))\n",
        "print(indices)\n",
        "print(a[:,indices])"
      ],
      "metadata": {
        "id": "boavCKh7S34d"
      },
      "execution_count": null,
      "outputs": []
    }
  ],
  "metadata": {
    "colab": {
      "provenance": []
    },
    "kernelspec": {
      "display_name": "Python 3",
      "language": "python",
      "name": "python3"
    },
    "language_info": {
      "codemirror_mode": {
        "name": "ipython",
        "version": 3
      },
      "file_extension": ".py",
      "mimetype": "text/x-python",
      "name": "python",
      "nbconvert_exporter": "python",
      "pygments_lexer": "ipython3",
      "version": "3.6.8"
    }
  },
  "nbformat": 4,
  "nbformat_minor": 0
}