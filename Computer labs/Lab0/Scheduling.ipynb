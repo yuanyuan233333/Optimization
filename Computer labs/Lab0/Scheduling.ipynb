{
  "nbformat": 4,
  "nbformat_minor": 0,
  "metadata": {
    "colab": {
      "provenance": []
    },
    "kernelspec": {
      "name": "python3",
      "display_name": "Python 3"
    },
    "language_info": {
      "name": "python"
    }
  },
  "cells": [
    {
      "cell_type": "markdown",
      "source": [
        "<font size=\"5\">**Production scheduling**</font>\n",
        "\n",
        "A set of $n$ products must be processed on $m$ machines. \n",
        "The estimated processing time (in hours) for the $i$-th products on the $k$-th machine is given by $p_{ik}$, with $i \\in I=\\{1,\\ldots,n\\}$ and $k \\in K=\\{1,\\ldots,m\\}$.\n",
        "For each product $i \\in I$ we have a deadline $d_i$.\n",
        "Each machine cannot process more than one product at the same time.\n",
        "For simplicity, we assume that each product has to be processed on the machines in the order induced by the indices of the machines, i.e., first on machine 1, then on machine 2, and so on.\n",
        "\n",
        "Consider the following data:\n",
        "\n",
        "$n=6$, $m=3$, $d = (38,40,35,35,37,20)$\n",
        "\n",
        "| $p_{ik}$ | 1 | 2 | 3 | 4 | 5 | 6 |\n",
        "| --- | --- | --- | --- | --- | --- |--- |\n",
        "| 1 | 3 | 4 | 2 | 7 | 8 | 3 |\n",
        "| 2 | 6 | 8 | 4 | 9 | 3 | 4 |\n",
        "| 3 | 4 | 1 | 5 | 6 | 7 | 4 |\n",
        "\n",
        "As an example, product 6 must be processed for 3 hours by machine 1, then must be processed for 4 hours by machine 2, and 4 hours by machine 3.\n",
        "\n"
      ],
      "metadata": {
        "id": "nklJFdMRlV2o"
      }
    },
    {
      "cell_type": "markdown",
      "source": [
        "**1)** <font size=\"4\"> Give a mixed-integer linear formulation for the problem of determining the schedule that minimizes the overall makespan (i.e., the time when\n",
        "   all the products have been completed) while satisfying the deadlines. Solve the resulting MILP formulation with Python.</font>"
      ],
      "metadata": {
        "id": "sPiq9IghJ7ep"
      }
    },
    {
      "cell_type": "code",
      "source": [
        "# When using Colab, make sure you run this instruction beforehand\n",
        "!pip install mip"
      ],
      "metadata": {
        "colab": {
          "base_uri": "https://localhost:8080/"
        },
        "id": "rmaX_We_lWAR",
        "outputId": "17b4506c-5733-461c-bd1e-211e29dabf7e"
      },
      "execution_count": 1,
      "outputs": [
        {
          "output_type": "stream",
          "name": "stdout",
          "text": [
            "Looking in indexes: https://pypi.org/simple, https://us-python.pkg.dev/colab-wheels/public/simple/\n",
            "Collecting mip\n",
            "  Downloading mip-1.15.0-py3-none-any.whl (15.3 MB)\n",
            "\u001b[2K     \u001b[90m━━━━━━━━━━━━━━━━━━━━━━━━━━━━━━━━━━━━━━━━\u001b[0m \u001b[32m15.3/15.3 MB\u001b[0m \u001b[31m8.1 MB/s\u001b[0m eta \u001b[36m0:00:00\u001b[0m\n",
            "\u001b[?25hRequirement already satisfied: cffi==1.15.* in /usr/local/lib/python3.8/dist-packages (from mip) (1.15.1)\n",
            "Requirement already satisfied: pycparser in /usr/local/lib/python3.8/dist-packages (from cffi==1.15.*->mip) (2.21)\n",
            "Installing collected packages: mip\n",
            "Successfully installed mip-1.15.0\n"
          ]
        }
      ]
    },
    {
      "cell_type": "code",
      "source": [
        "import mip\n",
        "import pandas as pd # to handle the data of the problem\n",
        "from mip import BINARY\n",
        "import numpy as np\n",
        "import time"
      ],
      "metadata": {
        "id": "jwdSVdi6lZN7"
      },
      "execution_count": 2,
      "outputs": []
    },
    {
      "cell_type": "code",
      "source": [
        "# SET AND PARAMETER DEFINITION\n",
        "\n",
        "# set of products\n",
        "n = 6\n",
        "J = range(n)\n",
        "# set of machines\n",
        "m = 3\n",
        "K = range(m)\n",
        "\n",
        "# Estimated processing time\n",
        "p = np.array([[3.,6,4],[4,8,1],[2,4,5],[7,9,6],[8,3,7],[3,4,4]])\n",
        "\n",
        "\n",
        "# Deadline\n",
        "d = [38,40,35,35,37,20]\n",
        "\n",
        "bigM = max(d)"
      ],
      "metadata": {
        "id": "97-lKoygpsj9"
      },
      "execution_count": 3,
      "outputs": []
    },
    {
      "cell_type": "code",
      "source": [
        "model = "
      ],
      "metadata": {
        "id": "ioWzHsyyqwPp"
      },
      "execution_count": 4,
      "outputs": []
    },
    {
      "cell_type": "code",
      "source": [
        "t = \n",
        "y =\n",
        "eta = "
      ],
      "metadata": {
        "id": "g0nV3wGqqwyq"
      },
      "execution_count": 5,
      "outputs": []
    },
    {
      "cell_type": "code",
      "source": [
        "model.objective = \n",
        "\n",
        "# CONSTRAINT\n",
        "# Eta max\n",
        "\n",
        "\n",
        "# Deadline\n",
        "\n",
        "\n",
        "# Disjunction 1\n",
        "\n",
        "\n",
        "# Disjunction 2\n",
        "\n",
        "\n",
        "# Sequence\n"
      ],
      "metadata": {
        "id": "jWJcyfGMqr9X"
      },
      "execution_count": 6,
      "outputs": []
    },
    {
      "cell_type": "code",
      "source": [
        "# optimizing\n",
        "model.optimize()"
      ],
      "metadata": {
        "colab": {
          "base_uri": "https://localhost:8080/"
        },
        "id": "lsD5yQyruGIY",
        "outputId": "a52a07ed-6f2f-458b-f9f2-cab19a5096d4"
      },
      "execution_count": 7,
      "outputs": [
        {
          "output_type": "execute_result",
          "data": {
            "text/plain": [
              "<OptimizationStatus.OPTIMAL: 0>"
            ]
          },
          "metadata": {},
          "execution_count": 7
        }
      ]
    },
    {
      "cell_type": "code",
      "source": [
        "model.objective.x"
      ],
      "metadata": {
        "colab": {
          "base_uri": "https://localhost:8080/"
        },
        "id": "bCtChLzfuGyV",
        "outputId": "b07b0a67-acb4-4936-ce67-a56b28d0d1d0"
      },
      "execution_count": 8,
      "outputs": [
        {
          "output_type": "execute_result",
          "data": {
            "text/plain": [
              "39.0"
            ]
          },
          "metadata": {},
          "execution_count": 8
        }
      ]
    },
    {
      "cell_type": "code",
      "source": [
        "res_t = np.zeros((n,m))\n",
        "for j in J:\n",
        "  for k in K:\n",
        "      res_t[j,k] = t[j][k].x\n",
        "print('Variable t')\n",
        "print(res_t)\n",
        "print('\\n')\n",
        "print('Variable y')\n",
        "for k in K:\n",
        "  print('K:',k)\n",
        "  res_t = np.zeros((n,n))\n",
        "  for j in J:\n",
        "    for j1 in J:\n",
        "        res_t[j,j1] = y[(j,j1,k)].x\n",
        "  print(res_t)"
      ],
      "metadata": {
        "colab": {
          "base_uri": "https://localhost:8080/"
        },
        "id": "qaCciCbSwYyd",
        "outputId": "d077b92b-641d-4ac5-b12f-29b7262c011c"
      },
      "execution_count": 9,
      "outputs": [
        {
          "output_type": "stream",
          "name": "stdout",
          "text": [
            "Variable t\n",
            "[[20. 24. 34.]\n",
            " [23. 30. 38.]\n",
            " [ 0.  2. 14.]\n",
            " [ 5. 12. 21.]\n",
            " [12. 21. 27.]\n",
            " [ 2.  6. 10.]]\n",
            "\n",
            "\n",
            "Variable y\n",
            "K: 0\n",
            "[[0. 1. 0. 0. 0. 0.]\n",
            " [0. 0. 0. 0. 0. 0.]\n",
            " [0. 0. 0. 1. 1. 1.]\n",
            " [0. 0. 0. 0. 1. 0.]\n",
            " [0. 0. 0. 0. 0. 0.]\n",
            " [0. 0. 0. 0. 0. 0.]]\n",
            "K: 1\n",
            "[[0. 1. 0. 0. 0. 0.]\n",
            " [0. 0. 0. 0. 0. 0.]\n",
            " [0. 0. 0. 1. 1. 1.]\n",
            " [0. 0. 0. 0. 1. 0.]\n",
            " [0. 0. 0. 0. 0. 0.]\n",
            " [0. 0. 0. 0. 0. 0.]]\n",
            "K: 2\n",
            "[[0. 1. 0. 0. 0. 0.]\n",
            " [0. 0. 0. 0. 0. 0.]\n",
            " [0. 0. 0. 1. 1. 0.]\n",
            " [0. 0. 0. 0. 1. 0.]\n",
            " [0. 0. 0. 0. 0. 0.]\n",
            " [0. 0. 0. 0. 0. 0.]]\n"
          ]
        }
      ]
    },
    {
      "cell_type": "markdown",
      "source": [
        "**2)** <font size=\"4\">Verify that, if you replace the deadline vector $d$ with $d = (32; 34; 33; 28; 32; 18)$, the\n",
        "problem is infeasible.</font> "
      ],
      "metadata": {
        "id": "jnTL0L08JvRS"
      }
    },
    {
      "cell_type": "code",
      "source": [
        "# SET AND PARAMETER DEFINITION\n",
        "\n",
        "# set of products\n",
        "n = 6\n",
        "J = range(n)\n",
        "# set of machines\n",
        "m = 3\n",
        "K = range(m)\n",
        "\n",
        "# Estimated processing time\n",
        "p = np.array([[3.,6,4],[4,8,1],[2,4,5],[7,9,6],[8,3,7],[3,4,4]])\n",
        "\n",
        "# Deadline\n",
        "d = [32,34,33,28,32,18]\n",
        "\n",
        "bigM = max(d)"
      ],
      "metadata": {
        "id": "jWoHtGxT1UqE"
      },
      "execution_count": 10,
      "outputs": []
    },
    {
      "cell_type": "code",
      "source": [
        "model = "
      ],
      "metadata": {
        "id": "XFKJLCk_1YC8"
      },
      "execution_count": 11,
      "outputs": []
    },
    {
      "cell_type": "code",
      "source": [
        "t = \n",
        "y = \n",
        "eta = "
      ],
      "metadata": {
        "id": "3lHI1Pep1ap2"
      },
      "execution_count": 12,
      "outputs": []
    },
    {
      "cell_type": "code",
      "source": [
        "model.objective =\n",
        "\n",
        "# CONSTRAINT\n",
        "# Eta max\n",
        "\n",
        "\n",
        "# Deadline\n",
        "\n",
        "\n",
        "# Disjunction 1\n",
        "\n",
        "\n",
        "# Disjunction 2\n",
        "\n",
        "\n",
        "# Sequence\n"
      ],
      "metadata": {
        "id": "EyaoSWh11c2T"
      },
      "execution_count": 13,
      "outputs": []
    },
    {
      "cell_type": "code",
      "source": [
        "# optimizing\n",
        "model.optimize()"
      ],
      "metadata": {
        "colab": {
          "base_uri": "https://localhost:8080/"
        },
        "id": "h6tNvb5v1gFt",
        "outputId": "80d54bcc-c41b-4b9c-cc13-516137339777"
      },
      "execution_count": 14,
      "outputs": [
        {
          "output_type": "execute_result",
          "data": {
            "text/plain": [
              "<OptimizationStatus.INFEASIBLE: 1>"
            ]
          },
          "metadata": {},
          "execution_count": 14
        }
      ]
    },
    {
      "cell_type": "markdown",
      "source": [
        "**3)** <font size=\"4\">Consider again the deadline vector d of the previous point 1. For a given product $i$ and machine $k$, it is possible to decrease by one hour the processing time $p_{ik}$ by paying an extra cost. The processing time reduction is available for all the machines but only for products 2,3,4 and. Write a loop in the such that, at each iteration of the loop:\n",
        "\n",
        "*   a pair $(i, k)$ with available time processing reduction is selected, and $p_{ik}$ is reduced by one,\n",
        "*   the scheduling problem is solved with the new value $p_{ik}$ (along with the values updated in the previous iteration).\n",
        "\n",
        "The loop has to be iterated until the scheduling problem becames feasible.</font>"
      ],
      "metadata": {
        "id": "jIwMq9wKKags"
      }
    },
    {
      "cell_type": "code",
      "source": [],
      "metadata": {
        "id": "n8kTNn-V24CL"
      },
      "execution_count": 15,
      "outputs": []
    },
    {
      "cell_type": "code",
      "source": [],
      "metadata": {
        "colab": {
          "base_uri": "https://localhost:8080/"
        },
        "id": "XFfh5tO924Ja",
        "outputId": "4fef32e7-88ef-43b0-bec8-1f7a92093862"
      },
      "execution_count": 16,
      "outputs": [
        {
          "output_type": "stream",
          "name": "stdout",
          "text": [
            "INFEASIBLE\n",
            "INFEASIBLE\n",
            "INFEASIBLE\n",
            "INFEASIBLE\n",
            "INFEASIBLE\n",
            "INFEASIBLE\n",
            "INFEASIBLE\n",
            "INFEASIBLE\n",
            "INFEASIBLE\n",
            "PROBLEM FEASIBLE\n",
            "eta:\n",
            "34.0\n",
            "Iterations:\n"
          ]
        },
        {
          "output_type": "execute_result",
          "data": {
            "text/plain": [
              "10"
            ]
          },
          "metadata": {},
          "execution_count": 16
        }
      ]
    },
    {
      "cell_type": "markdown",
      "source": [
        "**Homework**\n",
        "\n",
        "**4)** <font size=\"4\"> How can the mixed integer linear formulation of point 1) be extended to account for the case where each product must be processed on a (possibly) diffeerent sequence of machines?</font>"
      ],
      "metadata": {
        "id": "PRwjPKRsDWr_"
      }
    },
    {
      "cell_type": "markdown",
      "source": [
        "**5)** <font size=\"4\"> Modify the above model to allow for soft deadlines, so as to determine the schedule minimizing the total tardiness. The tardiness for an product i is defined as the difference between\n",
        "its completion time and its deadline (0 if the completion time does not exceed the deadline) </font>"
      ],
      "metadata": {
        "id": "1So6JFSLNZq3"
      }
    },
    {
      "cell_type": "code",
      "source": [
        "# SET AND PARAMETER DEFINITION\n",
        "\n",
        "# set of products\n",
        "n = 6\n",
        "J = range(n)\n",
        "# set of machines\n",
        "m = 3\n",
        "K = range(m)\n",
        "\n",
        "# Estimated processing time\n",
        "p = np.array([[3.,6,4],[4,8,1],[2,4,5],[7,9,6],[8,3,7],[3,4,4]])\n",
        "\n",
        "# Deadline\n",
        "d = [32,34,33,28,32,18]\n",
        "\n",
        "bigM = max(d)"
      ],
      "metadata": {
        "id": "2Y21KKawDW_W"
      },
      "execution_count": 17,
      "outputs": []
    },
    {
      "cell_type": "code",
      "source": [
        "model ="
      ],
      "metadata": {
        "id": "o_-pI5XwEGmK"
      },
      "execution_count": 18,
      "outputs": []
    },
    {
      "cell_type": "code",
      "source": [
        "t = \n",
        "y = \n",
        "rho = "
      ],
      "metadata": {
        "id": "Ekkib85LEMCF"
      },
      "execution_count": 19,
      "outputs": []
    },
    {
      "cell_type": "code",
      "source": [
        "model.objective = \n",
        "\n",
        "# CONSTRAINT\n",
        "\n",
        "# Soft deadline\n",
        "\n",
        "\n",
        "# Disjunction 1\n",
        "\n",
        "\n",
        "# Disjunction 2\n",
        "\n",
        "\n",
        "# Sequence\n"
      ],
      "metadata": {
        "id": "r7VQDy7UESyi"
      },
      "execution_count": 20,
      "outputs": []
    },
    {
      "cell_type": "code",
      "source": [
        "# optimizing\n",
        "model.optimize()"
      ],
      "metadata": {
        "colab": {
          "base_uri": "https://localhost:8080/"
        },
        "id": "HRs3GD_xExrV",
        "outputId": "b2949c73-eed6-4041-a200-7629728a187b"
      },
      "execution_count": 21,
      "outputs": [
        {
          "output_type": "execute_result",
          "data": {
            "text/plain": [
              "<OptimizationStatus.OPTIMAL: 0>"
            ]
          },
          "metadata": {},
          "execution_count": 21
        }
      ]
    },
    {
      "cell_type": "code",
      "source": [
        "model.objective.x"
      ],
      "metadata": {
        "colab": {
          "base_uri": "https://localhost:8080/"
        },
        "id": "9ozK6JNSE3Qc",
        "outputId": "5d4b96be-917f-4e7f-875c-7abff6836223"
      },
      "execution_count": 22,
      "outputs": [
        {
          "output_type": "execute_result",
          "data": {
            "text/plain": [
              "11.0"
            ]
          },
          "metadata": {},
          "execution_count": 22
        }
      ]
    },
    {
      "cell_type": "code",
      "source": [
        "print('Variables rho:')\n",
        "for j in J:\n",
        "  print(rho[j].x)\n",
        "print('\\n')\n",
        "res_t = np.zeros((n,m))\n",
        "for j in J:\n",
        "  for k in K:\n",
        "      res_t[j,k] = t[j][k].x\n",
        "print('Variable t')\n",
        "print(res_t)\n",
        "print('\\n')\n",
        "print('Variable y')\n",
        "for k in K:\n",
        "  print('K:',k)\n",
        "  res_t = np.zeros((n,n))\n",
        "  for j in J:\n",
        "    for j1 in J:\n",
        "        res_t[j,j1] = y[(j,j1,k)].x\n",
        "  print(res_t)"
      ],
      "metadata": {
        "colab": {
          "base_uri": "https://localhost:8080/"
        },
        "id": "DyX7p4A-FG8-",
        "outputId": "9202b569-a033-4294-e679-0a98fa43e880"
      },
      "execution_count": 23,
      "outputs": [
        {
          "output_type": "stream",
          "name": "stdout",
          "text": [
            "Variables rho:\n",
            "0.0\n",
            "5.0\n",
            "0.0\n",
            "0.0\n",
            "6.0\n",
            "0.0\n",
            "\n",
            "\n",
            "Variable t\n",
            "[[12. 21. 27.]\n",
            " [23. 30. 38.]\n",
            " [ 0.  4. 16.]\n",
            " [ 5. 12. 21.]\n",
            " [15. 27. 31.]\n",
            " [ 2.  8. 12.]]\n",
            "\n",
            "\n",
            "Variable y\n",
            "K: 0\n",
            "[[0. 1. 0. 0. 1. 0.]\n",
            " [0. 0. 0. 0. 0. 0.]\n",
            " [0. 0. 0. 1. 1. 1.]\n",
            " [0. 0. 0. 0. 1. 0.]\n",
            " [0. 0. 0. 0. 0. 0.]\n",
            " [0. 0. 0. 0. 0. 0.]]\n",
            "K: 1\n",
            "[[0. 1. 0. 0. 1. 0.]\n",
            " [0. 0. 0. 0. 0. 0.]\n",
            " [0. 0. 0. 1. 1. 1.]\n",
            " [0. 0. 0. 0. 1. 0.]\n",
            " [0. 0. 0. 0. 0. 0.]\n",
            " [0. 0. 0. 0. 0. 0.]]\n",
            "K: 2\n",
            "[[0. 1. 0. 0. 1. 0.]\n",
            " [0. 0. 0. 0. 0. 0.]\n",
            " [0. 0. 0. 1. 1. 0.]\n",
            " [0. 0. 0. 0. 1. 0.]\n",
            " [0. 0. 0. 0. 0. 0.]\n",
            " [0. 0. 0. 0. 0. 0.]]\n"
          ]
        }
      ]
    }
  ]
}